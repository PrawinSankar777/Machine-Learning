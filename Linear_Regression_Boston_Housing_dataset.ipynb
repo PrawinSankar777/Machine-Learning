{
  "nbformat": 4,
  "nbformat_minor": 0,
  "metadata": {
    "kernelspec": {
      "display_name": "Python 3",
      "language": "python",
      "name": "python3"
    },
    "language_info": {
      "codemirror_mode": {
        "name": "ipython",
        "version": 3
      },
      "file_extension": ".py",
      "mimetype": "text/x-python",
      "name": "python",
      "nbconvert_exporter": "python",
      "pygments_lexer": "ipython3",
      "version": "3.7.3"
    },
    "colab": {
      "name": "Linear Regression - Boston Housing dataset.ipynb",
      "provenance": [],
      "include_colab_link": true
    }
  },
  "cells": [
    {
      "cell_type": "markdown",
      "metadata": {
        "id": "view-in-github",
        "colab_type": "text"
      },
      "source": [
        "<a href=\"https://colab.research.google.com/github/PrawinSankar777/Machine-Learning/blob/master/Linear_Regression_Boston_Housing_dataset.ipynb\" target=\"_parent\"><img src=\"https://colab.research.google.com/assets/colab-badge.svg\" alt=\"Open In Colab\"/></a>"
      ]
    },
    {
      "cell_type": "markdown",
      "metadata": {
        "id": "W8HHexScVtQG",
        "colab_type": "text"
      },
      "source": [
        "Function Initialization"
      ]
    },
    {
      "cell_type": "code",
      "metadata": {
        "id": "DMTyzhIkVBTF",
        "colab_type": "code",
        "colab": {}
      },
      "source": [
        "#importing libraries\n",
        "import numpy as np\n",
        "import pandas as pd\n",
        "\n",
        "import matplotlib as mpl\n",
        "import matplotlib.pyplot as plt\n",
        "from matplotlib.animation import FuncAnimation\n",
        "\n",
        "from sklearn.datasets import load_boston\n",
        "from sklearn.metrics import mean_squared_error\n",
        "from sklearn.model_selection import train_test_split\n",
        "from sklearn.preprocessing import MinMaxScaler\n",
        "\n",
        "from IPython.display import HTML"
      ],
      "execution_count": null,
      "outputs": []
    },
    {
      "cell_type": "code",
      "metadata": {
        "id": "asshb2PIVBTL",
        "colab_type": "code",
        "colab": {
          "base_uri": "https://localhost:8080/",
          "height": 904
        },
        "outputId": "c002ce87-9516-4c52-d859-3e2ed6fd9f47"
      },
      "source": [
        "boston = load_boston()\n",
        "print(boston.DESCR)"
      ],
      "execution_count": null,
      "outputs": [
        {
          "output_type": "stream",
          "text": [
            ".. _boston_dataset:\n",
            "\n",
            "Boston house prices dataset\n",
            "---------------------------\n",
            "\n",
            "**Data Set Characteristics:**  \n",
            "\n",
            "    :Number of Instances: 506 \n",
            "\n",
            "    :Number of Attributes: 13 numeric/categorical predictive. Median Value (attribute 14) is usually the target.\n",
            "\n",
            "    :Attribute Information (in order):\n",
            "        - CRIM     per capita crime rate by town\n",
            "        - ZN       proportion of residential land zoned for lots over 25,000 sq.ft.\n",
            "        - INDUS    proportion of non-retail business acres per town\n",
            "        - CHAS     Charles River dummy variable (= 1 if tract bounds river; 0 otherwise)\n",
            "        - NOX      nitric oxides concentration (parts per 10 million)\n",
            "        - RM       average number of rooms per dwelling\n",
            "        - AGE      proportion of owner-occupied units built prior to 1940\n",
            "        - DIS      weighted distances to five Boston employment centres\n",
            "        - RAD      index of accessibility to radial highways\n",
            "        - TAX      full-value property-tax rate per $10,000\n",
            "        - PTRATIO  pupil-teacher ratio by town\n",
            "        - B        1000(Bk - 0.63)^2 where Bk is the proportion of blacks by town\n",
            "        - LSTAT    % lower status of the population\n",
            "        - MEDV     Median value of owner-occupied homes in $1000's\n",
            "\n",
            "    :Missing Attribute Values: None\n",
            "\n",
            "    :Creator: Harrison, D. and Rubinfeld, D.L.\n",
            "\n",
            "This is a copy of UCI ML housing dataset.\n",
            "https://archive.ics.uci.edu/ml/machine-learning-databases/housing/\n",
            "\n",
            "\n",
            "This dataset was taken from the StatLib library which is maintained at Carnegie Mellon University.\n",
            "\n",
            "The Boston house-price data of Harrison, D. and Rubinfeld, D.L. 'Hedonic\n",
            "prices and the demand for clean air', J. Environ. Economics & Management,\n",
            "vol.5, 81-102, 1978.   Used in Belsley, Kuh & Welsch, 'Regression diagnostics\n",
            "...', Wiley, 1980.   N.B. Various transformations are used in the table on\n",
            "pages 244-261 of the latter.\n",
            "\n",
            "The Boston house-price data has been used in many machine learning papers that address regression\n",
            "problems.   \n",
            "     \n",
            ".. topic:: References\n",
            "\n",
            "   - Belsley, Kuh & Welsch, 'Regression diagnostics: Identifying Influential Data and Sources of Collinearity', Wiley, 1980. 244-261.\n",
            "   - Quinlan,R. (1993). Combining Instance-Based and Model-Based Learning. In Proceedings on the Tenth International Conference of Machine Learning, 236-243, University of Massachusetts, Amherst. Morgan Kaufmann.\n",
            "\n"
          ],
          "name": "stdout"
        }
      ]
    },
    {
      "cell_type": "code",
      "metadata": {
        "id": "g5z_n6sLVBTQ",
        "colab_type": "code",
        "colab": {
          "base_uri": "https://localhost:8080/",
          "height": 419
        },
        "outputId": "103cb28a-58fb-4487-a505-6b24dd093895"
      },
      "source": [
        "features = pd.DataFrame(boston.data,columns = boston.feature_names)\n",
        "features"
      ],
      "execution_count": null,
      "outputs": [
        {
          "output_type": "execute_result",
          "data": {
            "text/html": [
              "<div>\n",
              "<style scoped>\n",
              "    .dataframe tbody tr th:only-of-type {\n",
              "        vertical-align: middle;\n",
              "    }\n",
              "\n",
              "    .dataframe tbody tr th {\n",
              "        vertical-align: top;\n",
              "    }\n",
              "\n",
              "    .dataframe thead th {\n",
              "        text-align: right;\n",
              "    }\n",
              "</style>\n",
              "<table border=\"1\" class=\"dataframe\">\n",
              "  <thead>\n",
              "    <tr style=\"text-align: right;\">\n",
              "      <th></th>\n",
              "      <th>CRIM</th>\n",
              "      <th>ZN</th>\n",
              "      <th>INDUS</th>\n",
              "      <th>CHAS</th>\n",
              "      <th>NOX</th>\n",
              "      <th>RM</th>\n",
              "      <th>AGE</th>\n",
              "      <th>DIS</th>\n",
              "      <th>RAD</th>\n",
              "      <th>TAX</th>\n",
              "      <th>PTRATIO</th>\n",
              "      <th>B</th>\n",
              "      <th>LSTAT</th>\n",
              "    </tr>\n",
              "  </thead>\n",
              "  <tbody>\n",
              "    <tr>\n",
              "      <th>0</th>\n",
              "      <td>0.00632</td>\n",
              "      <td>18.0</td>\n",
              "      <td>2.31</td>\n",
              "      <td>0.0</td>\n",
              "      <td>0.538</td>\n",
              "      <td>6.575</td>\n",
              "      <td>65.2</td>\n",
              "      <td>4.0900</td>\n",
              "      <td>1.0</td>\n",
              "      <td>296.0</td>\n",
              "      <td>15.3</td>\n",
              "      <td>396.90</td>\n",
              "      <td>4.98</td>\n",
              "    </tr>\n",
              "    <tr>\n",
              "      <th>1</th>\n",
              "      <td>0.02731</td>\n",
              "      <td>0.0</td>\n",
              "      <td>7.07</td>\n",
              "      <td>0.0</td>\n",
              "      <td>0.469</td>\n",
              "      <td>6.421</td>\n",
              "      <td>78.9</td>\n",
              "      <td>4.9671</td>\n",
              "      <td>2.0</td>\n",
              "      <td>242.0</td>\n",
              "      <td>17.8</td>\n",
              "      <td>396.90</td>\n",
              "      <td>9.14</td>\n",
              "    </tr>\n",
              "    <tr>\n",
              "      <th>2</th>\n",
              "      <td>0.02729</td>\n",
              "      <td>0.0</td>\n",
              "      <td>7.07</td>\n",
              "      <td>0.0</td>\n",
              "      <td>0.469</td>\n",
              "      <td>7.185</td>\n",
              "      <td>61.1</td>\n",
              "      <td>4.9671</td>\n",
              "      <td>2.0</td>\n",
              "      <td>242.0</td>\n",
              "      <td>17.8</td>\n",
              "      <td>392.83</td>\n",
              "      <td>4.03</td>\n",
              "    </tr>\n",
              "    <tr>\n",
              "      <th>3</th>\n",
              "      <td>0.03237</td>\n",
              "      <td>0.0</td>\n",
              "      <td>2.18</td>\n",
              "      <td>0.0</td>\n",
              "      <td>0.458</td>\n",
              "      <td>6.998</td>\n",
              "      <td>45.8</td>\n",
              "      <td>6.0622</td>\n",
              "      <td>3.0</td>\n",
              "      <td>222.0</td>\n",
              "      <td>18.7</td>\n",
              "      <td>394.63</td>\n",
              "      <td>2.94</td>\n",
              "    </tr>\n",
              "    <tr>\n",
              "      <th>4</th>\n",
              "      <td>0.06905</td>\n",
              "      <td>0.0</td>\n",
              "      <td>2.18</td>\n",
              "      <td>0.0</td>\n",
              "      <td>0.458</td>\n",
              "      <td>7.147</td>\n",
              "      <td>54.2</td>\n",
              "      <td>6.0622</td>\n",
              "      <td>3.0</td>\n",
              "      <td>222.0</td>\n",
              "      <td>18.7</td>\n",
              "      <td>396.90</td>\n",
              "      <td>5.33</td>\n",
              "    </tr>\n",
              "    <tr>\n",
              "      <th>...</th>\n",
              "      <td>...</td>\n",
              "      <td>...</td>\n",
              "      <td>...</td>\n",
              "      <td>...</td>\n",
              "      <td>...</td>\n",
              "      <td>...</td>\n",
              "      <td>...</td>\n",
              "      <td>...</td>\n",
              "      <td>...</td>\n",
              "      <td>...</td>\n",
              "      <td>...</td>\n",
              "      <td>...</td>\n",
              "      <td>...</td>\n",
              "    </tr>\n",
              "    <tr>\n",
              "      <th>501</th>\n",
              "      <td>0.06263</td>\n",
              "      <td>0.0</td>\n",
              "      <td>11.93</td>\n",
              "      <td>0.0</td>\n",
              "      <td>0.573</td>\n",
              "      <td>6.593</td>\n",
              "      <td>69.1</td>\n",
              "      <td>2.4786</td>\n",
              "      <td>1.0</td>\n",
              "      <td>273.0</td>\n",
              "      <td>21.0</td>\n",
              "      <td>391.99</td>\n",
              "      <td>9.67</td>\n",
              "    </tr>\n",
              "    <tr>\n",
              "      <th>502</th>\n",
              "      <td>0.04527</td>\n",
              "      <td>0.0</td>\n",
              "      <td>11.93</td>\n",
              "      <td>0.0</td>\n",
              "      <td>0.573</td>\n",
              "      <td>6.120</td>\n",
              "      <td>76.7</td>\n",
              "      <td>2.2875</td>\n",
              "      <td>1.0</td>\n",
              "      <td>273.0</td>\n",
              "      <td>21.0</td>\n",
              "      <td>396.90</td>\n",
              "      <td>9.08</td>\n",
              "    </tr>\n",
              "    <tr>\n",
              "      <th>503</th>\n",
              "      <td>0.06076</td>\n",
              "      <td>0.0</td>\n",
              "      <td>11.93</td>\n",
              "      <td>0.0</td>\n",
              "      <td>0.573</td>\n",
              "      <td>6.976</td>\n",
              "      <td>91.0</td>\n",
              "      <td>2.1675</td>\n",
              "      <td>1.0</td>\n",
              "      <td>273.0</td>\n",
              "      <td>21.0</td>\n",
              "      <td>396.90</td>\n",
              "      <td>5.64</td>\n",
              "    </tr>\n",
              "    <tr>\n",
              "      <th>504</th>\n",
              "      <td>0.10959</td>\n",
              "      <td>0.0</td>\n",
              "      <td>11.93</td>\n",
              "      <td>0.0</td>\n",
              "      <td>0.573</td>\n",
              "      <td>6.794</td>\n",
              "      <td>89.3</td>\n",
              "      <td>2.3889</td>\n",
              "      <td>1.0</td>\n",
              "      <td>273.0</td>\n",
              "      <td>21.0</td>\n",
              "      <td>393.45</td>\n",
              "      <td>6.48</td>\n",
              "    </tr>\n",
              "    <tr>\n",
              "      <th>505</th>\n",
              "      <td>0.04741</td>\n",
              "      <td>0.0</td>\n",
              "      <td>11.93</td>\n",
              "      <td>0.0</td>\n",
              "      <td>0.573</td>\n",
              "      <td>6.030</td>\n",
              "      <td>80.8</td>\n",
              "      <td>2.5050</td>\n",
              "      <td>1.0</td>\n",
              "      <td>273.0</td>\n",
              "      <td>21.0</td>\n",
              "      <td>396.90</td>\n",
              "      <td>7.88</td>\n",
              "    </tr>\n",
              "  </tbody>\n",
              "</table>\n",
              "<p>506 rows × 13 columns</p>\n",
              "</div>"
            ],
            "text/plain": [
              "        CRIM    ZN  INDUS  CHAS    NOX  ...  RAD    TAX  PTRATIO       B  LSTAT\n",
              "0    0.00632  18.0   2.31   0.0  0.538  ...  1.0  296.0     15.3  396.90   4.98\n",
              "1    0.02731   0.0   7.07   0.0  0.469  ...  2.0  242.0     17.8  396.90   9.14\n",
              "2    0.02729   0.0   7.07   0.0  0.469  ...  2.0  242.0     17.8  392.83   4.03\n",
              "3    0.03237   0.0   2.18   0.0  0.458  ...  3.0  222.0     18.7  394.63   2.94\n",
              "4    0.06905   0.0   2.18   0.0  0.458  ...  3.0  222.0     18.7  396.90   5.33\n",
              "..       ...   ...    ...   ...    ...  ...  ...    ...      ...     ...    ...\n",
              "501  0.06263   0.0  11.93   0.0  0.573  ...  1.0  273.0     21.0  391.99   9.67\n",
              "502  0.04527   0.0  11.93   0.0  0.573  ...  1.0  273.0     21.0  396.90   9.08\n",
              "503  0.06076   0.0  11.93   0.0  0.573  ...  1.0  273.0     21.0  396.90   5.64\n",
              "504  0.10959   0.0  11.93   0.0  0.573  ...  1.0  273.0     21.0  393.45   6.48\n",
              "505  0.04741   0.0  11.93   0.0  0.573  ...  1.0  273.0     21.0  396.90   7.88\n",
              "\n",
              "[506 rows x 13 columns]"
            ]
          },
          "metadata": {
            "tags": []
          },
          "execution_count": 3
        }
      ]
    },
    {
      "cell_type": "code",
      "metadata": {
        "id": "fA9KHu2LVBTV",
        "colab_type": "code",
        "colab": {
          "base_uri": "https://localhost:8080/",
          "height": 221
        },
        "outputId": "bc12fd88-cb2b-4882-c514-77ba0a515078"
      },
      "source": [
        "features['AGE']"
      ],
      "execution_count": null,
      "outputs": [
        {
          "output_type": "execute_result",
          "data": {
            "text/plain": [
              "0      65.2\n",
              "1      78.9\n",
              "2      61.1\n",
              "3      45.8\n",
              "4      54.2\n",
              "       ... \n",
              "501    69.1\n",
              "502    76.7\n",
              "503    91.0\n",
              "504    89.3\n",
              "505    80.8\n",
              "Name: AGE, Length: 506, dtype: float64"
            ]
          },
          "metadata": {
            "tags": []
          },
          "execution_count": 4
        }
      ]
    },
    {
      "cell_type": "code",
      "metadata": {
        "id": "7Dc_Kv-0VBTZ",
        "colab_type": "code",
        "colab": {
          "base_uri": "https://localhost:8080/",
          "height": 419
        },
        "outputId": "2a920bd4-8403-4690-af7b-9e5e1a064897"
      },
      "source": [
        "target = pd.DataFrame(boston.target,columns = ['target'])\n",
        "target"
      ],
      "execution_count": null,
      "outputs": [
        {
          "output_type": "execute_result",
          "data": {
            "text/html": [
              "<div>\n",
              "<style scoped>\n",
              "    .dataframe tbody tr th:only-of-type {\n",
              "        vertical-align: middle;\n",
              "    }\n",
              "\n",
              "    .dataframe tbody tr th {\n",
              "        vertical-align: top;\n",
              "    }\n",
              "\n",
              "    .dataframe thead th {\n",
              "        text-align: right;\n",
              "    }\n",
              "</style>\n",
              "<table border=\"1\" class=\"dataframe\">\n",
              "  <thead>\n",
              "    <tr style=\"text-align: right;\">\n",
              "      <th></th>\n",
              "      <th>target</th>\n",
              "    </tr>\n",
              "  </thead>\n",
              "  <tbody>\n",
              "    <tr>\n",
              "      <th>0</th>\n",
              "      <td>24.0</td>\n",
              "    </tr>\n",
              "    <tr>\n",
              "      <th>1</th>\n",
              "      <td>21.6</td>\n",
              "    </tr>\n",
              "    <tr>\n",
              "      <th>2</th>\n",
              "      <td>34.7</td>\n",
              "    </tr>\n",
              "    <tr>\n",
              "      <th>3</th>\n",
              "      <td>33.4</td>\n",
              "    </tr>\n",
              "    <tr>\n",
              "      <th>4</th>\n",
              "      <td>36.2</td>\n",
              "    </tr>\n",
              "    <tr>\n",
              "      <th>...</th>\n",
              "      <td>...</td>\n",
              "    </tr>\n",
              "    <tr>\n",
              "      <th>501</th>\n",
              "      <td>22.4</td>\n",
              "    </tr>\n",
              "    <tr>\n",
              "      <th>502</th>\n",
              "      <td>20.6</td>\n",
              "    </tr>\n",
              "    <tr>\n",
              "      <th>503</th>\n",
              "      <td>23.9</td>\n",
              "    </tr>\n",
              "    <tr>\n",
              "      <th>504</th>\n",
              "      <td>22.0</td>\n",
              "    </tr>\n",
              "    <tr>\n",
              "      <th>505</th>\n",
              "      <td>11.9</td>\n",
              "    </tr>\n",
              "  </tbody>\n",
              "</table>\n",
              "<p>506 rows × 1 columns</p>\n",
              "</div>"
            ],
            "text/plain": [
              "     target\n",
              "0      24.0\n",
              "1      21.6\n",
              "2      34.7\n",
              "3      33.4\n",
              "4      36.2\n",
              "..      ...\n",
              "501    22.4\n",
              "502    20.6\n",
              "503    23.9\n",
              "504    22.0\n",
              "505    11.9\n",
              "\n",
              "[506 rows x 1 columns]"
            ]
          },
          "metadata": {
            "tags": []
          },
          "execution_count": 5
        }
      ]
    },
    {
      "cell_type": "code",
      "metadata": {
        "id": "_9b1rhHiVBTe",
        "colab_type": "code",
        "colab": {
          "base_uri": "https://localhost:8080/",
          "height": 34
        },
        "outputId": "5e23cbce-b690-41ad-f714-9699017ca112"
      },
      "source": [
        "max(target['target'])"
      ],
      "execution_count": null,
      "outputs": [
        {
          "output_type": "execute_result",
          "data": {
            "text/plain": [
              "50.0"
            ]
          },
          "metadata": {
            "tags": []
          },
          "execution_count": 6
        }
      ]
    },
    {
      "cell_type": "code",
      "metadata": {
        "id": "PwxOdFF8VBTi",
        "colab_type": "code",
        "colab": {
          "base_uri": "https://localhost:8080/",
          "height": 34
        },
        "outputId": "60ab5d1f-0e0c-48a0-ec24-6968382e8cbc"
      },
      "source": [
        "min(target['target'])"
      ],
      "execution_count": null,
      "outputs": [
        {
          "output_type": "execute_result",
          "data": {
            "text/plain": [
              "5.0"
            ]
          },
          "metadata": {
            "tags": []
          },
          "execution_count": 7
        }
      ]
    },
    {
      "cell_type": "code",
      "metadata": {
        "id": "6UhOo4V4VBTp",
        "colab_type": "code",
        "colab": {
          "base_uri": "https://localhost:8080/",
          "height": 204
        },
        "outputId": "e1512de8-6a50-4bc6-bdb5-1c7806ea0614"
      },
      "source": [
        "df = pd.concat((features,target),axis = 1)\n",
        "df.head()"
      ],
      "execution_count": null,
      "outputs": [
        {
          "output_type": "execute_result",
          "data": {
            "text/html": [
              "<div>\n",
              "<style scoped>\n",
              "    .dataframe tbody tr th:only-of-type {\n",
              "        vertical-align: middle;\n",
              "    }\n",
              "\n",
              "    .dataframe tbody tr th {\n",
              "        vertical-align: top;\n",
              "    }\n",
              "\n",
              "    .dataframe thead th {\n",
              "        text-align: right;\n",
              "    }\n",
              "</style>\n",
              "<table border=\"1\" class=\"dataframe\">\n",
              "  <thead>\n",
              "    <tr style=\"text-align: right;\">\n",
              "      <th></th>\n",
              "      <th>CRIM</th>\n",
              "      <th>ZN</th>\n",
              "      <th>INDUS</th>\n",
              "      <th>CHAS</th>\n",
              "      <th>NOX</th>\n",
              "      <th>RM</th>\n",
              "      <th>AGE</th>\n",
              "      <th>DIS</th>\n",
              "      <th>RAD</th>\n",
              "      <th>TAX</th>\n",
              "      <th>PTRATIO</th>\n",
              "      <th>B</th>\n",
              "      <th>LSTAT</th>\n",
              "      <th>target</th>\n",
              "    </tr>\n",
              "  </thead>\n",
              "  <tbody>\n",
              "    <tr>\n",
              "      <th>0</th>\n",
              "      <td>0.00632</td>\n",
              "      <td>18.0</td>\n",
              "      <td>2.31</td>\n",
              "      <td>0.0</td>\n",
              "      <td>0.538</td>\n",
              "      <td>6.575</td>\n",
              "      <td>65.2</td>\n",
              "      <td>4.0900</td>\n",
              "      <td>1.0</td>\n",
              "      <td>296.0</td>\n",
              "      <td>15.3</td>\n",
              "      <td>396.90</td>\n",
              "      <td>4.98</td>\n",
              "      <td>24.0</td>\n",
              "    </tr>\n",
              "    <tr>\n",
              "      <th>1</th>\n",
              "      <td>0.02731</td>\n",
              "      <td>0.0</td>\n",
              "      <td>7.07</td>\n",
              "      <td>0.0</td>\n",
              "      <td>0.469</td>\n",
              "      <td>6.421</td>\n",
              "      <td>78.9</td>\n",
              "      <td>4.9671</td>\n",
              "      <td>2.0</td>\n",
              "      <td>242.0</td>\n",
              "      <td>17.8</td>\n",
              "      <td>396.90</td>\n",
              "      <td>9.14</td>\n",
              "      <td>21.6</td>\n",
              "    </tr>\n",
              "    <tr>\n",
              "      <th>2</th>\n",
              "      <td>0.02729</td>\n",
              "      <td>0.0</td>\n",
              "      <td>7.07</td>\n",
              "      <td>0.0</td>\n",
              "      <td>0.469</td>\n",
              "      <td>7.185</td>\n",
              "      <td>61.1</td>\n",
              "      <td>4.9671</td>\n",
              "      <td>2.0</td>\n",
              "      <td>242.0</td>\n",
              "      <td>17.8</td>\n",
              "      <td>392.83</td>\n",
              "      <td>4.03</td>\n",
              "      <td>34.7</td>\n",
              "    </tr>\n",
              "    <tr>\n",
              "      <th>3</th>\n",
              "      <td>0.03237</td>\n",
              "      <td>0.0</td>\n",
              "      <td>2.18</td>\n",
              "      <td>0.0</td>\n",
              "      <td>0.458</td>\n",
              "      <td>6.998</td>\n",
              "      <td>45.8</td>\n",
              "      <td>6.0622</td>\n",
              "      <td>3.0</td>\n",
              "      <td>222.0</td>\n",
              "      <td>18.7</td>\n",
              "      <td>394.63</td>\n",
              "      <td>2.94</td>\n",
              "      <td>33.4</td>\n",
              "    </tr>\n",
              "    <tr>\n",
              "      <th>4</th>\n",
              "      <td>0.06905</td>\n",
              "      <td>0.0</td>\n",
              "      <td>2.18</td>\n",
              "      <td>0.0</td>\n",
              "      <td>0.458</td>\n",
              "      <td>7.147</td>\n",
              "      <td>54.2</td>\n",
              "      <td>6.0622</td>\n",
              "      <td>3.0</td>\n",
              "      <td>222.0</td>\n",
              "      <td>18.7</td>\n",
              "      <td>396.90</td>\n",
              "      <td>5.33</td>\n",
              "      <td>36.2</td>\n",
              "    </tr>\n",
              "  </tbody>\n",
              "</table>\n",
              "</div>"
            ],
            "text/plain": [
              "      CRIM    ZN  INDUS  CHAS    NOX  ...    TAX  PTRATIO       B  LSTAT  target\n",
              "0  0.00632  18.0   2.31   0.0  0.538  ...  296.0     15.3  396.90   4.98    24.0\n",
              "1  0.02731   0.0   7.07   0.0  0.469  ...  242.0     17.8  396.90   9.14    21.6\n",
              "2  0.02729   0.0   7.07   0.0  0.469  ...  242.0     17.8  392.83   4.03    34.7\n",
              "3  0.03237   0.0   2.18   0.0  0.458  ...  222.0     18.7  394.63   2.94    33.4\n",
              "4  0.06905   0.0   2.18   0.0  0.458  ...  222.0     18.7  396.90   5.33    36.2\n",
              "\n",
              "[5 rows x 14 columns]"
            ]
          },
          "metadata": {
            "tags": []
          },
          "execution_count": 8
        }
      ]
    },
    {
      "cell_type": "markdown",
      "metadata": {
        "id": "0lvXUmjLVBTt",
        "colab_type": "text"
      },
      "source": [
        "**Use describe() to generate a summary of the dataset**"
      ]
    },
    {
      "cell_type": "code",
      "metadata": {
        "id": "nuPiqaAwVBTu",
        "colab_type": "code",
        "colab": {
          "base_uri": "https://localhost:8080/",
          "height": 297
        },
        "outputId": "5fda36c6-6520-4e47-f84a-d3c89acb4181"
      },
      "source": [
        "#Using rounding off of decimals(2 places)to set the precision\n",
        "df.describe().round(decimals = 2)"
      ],
      "execution_count": null,
      "outputs": [
        {
          "output_type": "execute_result",
          "data": {
            "text/html": [
              "<div>\n",
              "<style scoped>\n",
              "    .dataframe tbody tr th:only-of-type {\n",
              "        vertical-align: middle;\n",
              "    }\n",
              "\n",
              "    .dataframe tbody tr th {\n",
              "        vertical-align: top;\n",
              "    }\n",
              "\n",
              "    .dataframe thead th {\n",
              "        text-align: right;\n",
              "    }\n",
              "</style>\n",
              "<table border=\"1\" class=\"dataframe\">\n",
              "  <thead>\n",
              "    <tr style=\"text-align: right;\">\n",
              "      <th></th>\n",
              "      <th>CRIM</th>\n",
              "      <th>ZN</th>\n",
              "      <th>INDUS</th>\n",
              "      <th>CHAS</th>\n",
              "      <th>NOX</th>\n",
              "      <th>RM</th>\n",
              "      <th>AGE</th>\n",
              "      <th>DIS</th>\n",
              "      <th>RAD</th>\n",
              "      <th>TAX</th>\n",
              "      <th>PTRATIO</th>\n",
              "      <th>B</th>\n",
              "      <th>LSTAT</th>\n",
              "      <th>target</th>\n",
              "    </tr>\n",
              "  </thead>\n",
              "  <tbody>\n",
              "    <tr>\n",
              "      <th>count</th>\n",
              "      <td>506.00</td>\n",
              "      <td>506.00</td>\n",
              "      <td>506.00</td>\n",
              "      <td>506.00</td>\n",
              "      <td>506.00</td>\n",
              "      <td>506.00</td>\n",
              "      <td>506.00</td>\n",
              "      <td>506.00</td>\n",
              "      <td>506.00</td>\n",
              "      <td>506.00</td>\n",
              "      <td>506.00</td>\n",
              "      <td>506.00</td>\n",
              "      <td>506.00</td>\n",
              "      <td>506.00</td>\n",
              "    </tr>\n",
              "    <tr>\n",
              "      <th>mean</th>\n",
              "      <td>3.61</td>\n",
              "      <td>11.36</td>\n",
              "      <td>11.14</td>\n",
              "      <td>0.07</td>\n",
              "      <td>0.55</td>\n",
              "      <td>6.28</td>\n",
              "      <td>68.57</td>\n",
              "      <td>3.80</td>\n",
              "      <td>9.55</td>\n",
              "      <td>408.24</td>\n",
              "      <td>18.46</td>\n",
              "      <td>356.67</td>\n",
              "      <td>12.65</td>\n",
              "      <td>22.53</td>\n",
              "    </tr>\n",
              "    <tr>\n",
              "      <th>std</th>\n",
              "      <td>8.60</td>\n",
              "      <td>23.32</td>\n",
              "      <td>6.86</td>\n",
              "      <td>0.25</td>\n",
              "      <td>0.12</td>\n",
              "      <td>0.70</td>\n",
              "      <td>28.15</td>\n",
              "      <td>2.11</td>\n",
              "      <td>8.71</td>\n",
              "      <td>168.54</td>\n",
              "      <td>2.16</td>\n",
              "      <td>91.29</td>\n",
              "      <td>7.14</td>\n",
              "      <td>9.20</td>\n",
              "    </tr>\n",
              "    <tr>\n",
              "      <th>min</th>\n",
              "      <td>0.01</td>\n",
              "      <td>0.00</td>\n",
              "      <td>0.46</td>\n",
              "      <td>0.00</td>\n",
              "      <td>0.38</td>\n",
              "      <td>3.56</td>\n",
              "      <td>2.90</td>\n",
              "      <td>1.13</td>\n",
              "      <td>1.00</td>\n",
              "      <td>187.00</td>\n",
              "      <td>12.60</td>\n",
              "      <td>0.32</td>\n",
              "      <td>1.73</td>\n",
              "      <td>5.00</td>\n",
              "    </tr>\n",
              "    <tr>\n",
              "      <th>25%</th>\n",
              "      <td>0.08</td>\n",
              "      <td>0.00</td>\n",
              "      <td>5.19</td>\n",
              "      <td>0.00</td>\n",
              "      <td>0.45</td>\n",
              "      <td>5.89</td>\n",
              "      <td>45.02</td>\n",
              "      <td>2.10</td>\n",
              "      <td>4.00</td>\n",
              "      <td>279.00</td>\n",
              "      <td>17.40</td>\n",
              "      <td>375.38</td>\n",
              "      <td>6.95</td>\n",
              "      <td>17.02</td>\n",
              "    </tr>\n",
              "    <tr>\n",
              "      <th>50%</th>\n",
              "      <td>0.26</td>\n",
              "      <td>0.00</td>\n",
              "      <td>9.69</td>\n",
              "      <td>0.00</td>\n",
              "      <td>0.54</td>\n",
              "      <td>6.21</td>\n",
              "      <td>77.50</td>\n",
              "      <td>3.21</td>\n",
              "      <td>5.00</td>\n",
              "      <td>330.00</td>\n",
              "      <td>19.05</td>\n",
              "      <td>391.44</td>\n",
              "      <td>11.36</td>\n",
              "      <td>21.20</td>\n",
              "    </tr>\n",
              "    <tr>\n",
              "      <th>75%</th>\n",
              "      <td>3.68</td>\n",
              "      <td>12.50</td>\n",
              "      <td>18.10</td>\n",
              "      <td>0.00</td>\n",
              "      <td>0.62</td>\n",
              "      <td>6.62</td>\n",
              "      <td>94.07</td>\n",
              "      <td>5.19</td>\n",
              "      <td>24.00</td>\n",
              "      <td>666.00</td>\n",
              "      <td>20.20</td>\n",
              "      <td>396.22</td>\n",
              "      <td>16.96</td>\n",
              "      <td>25.00</td>\n",
              "    </tr>\n",
              "    <tr>\n",
              "      <th>max</th>\n",
              "      <td>88.98</td>\n",
              "      <td>100.00</td>\n",
              "      <td>27.74</td>\n",
              "      <td>1.00</td>\n",
              "      <td>0.87</td>\n",
              "      <td>8.78</td>\n",
              "      <td>100.00</td>\n",
              "      <td>12.13</td>\n",
              "      <td>24.00</td>\n",
              "      <td>711.00</td>\n",
              "      <td>22.00</td>\n",
              "      <td>396.90</td>\n",
              "      <td>37.97</td>\n",
              "      <td>50.00</td>\n",
              "    </tr>\n",
              "  </tbody>\n",
              "</table>\n",
              "</div>"
            ],
            "text/plain": [
              "         CRIM      ZN   INDUS    CHAS  ...  PTRATIO       B   LSTAT  target\n",
              "count  506.00  506.00  506.00  506.00  ...   506.00  506.00  506.00  506.00\n",
              "mean     3.61   11.36   11.14    0.07  ...    18.46  356.67   12.65   22.53\n",
              "std      8.60   23.32    6.86    0.25  ...     2.16   91.29    7.14    9.20\n",
              "min      0.01    0.00    0.46    0.00  ...    12.60    0.32    1.73    5.00\n",
              "25%      0.08    0.00    5.19    0.00  ...    17.40  375.38    6.95   17.02\n",
              "50%      0.26    0.00    9.69    0.00  ...    19.05  391.44   11.36   21.20\n",
              "75%      3.68   12.50   18.10    0.00  ...    20.20  396.22   16.96   25.00\n",
              "max     88.98  100.00   27.74    1.00  ...    22.00  396.90   37.97   50.00\n",
              "\n",
              "[8 rows x 14 columns]"
            ]
          },
          "metadata": {
            "tags": []
          },
          "execution_count": 9
        }
      ]
    },
    {
      "cell_type": "markdown",
      "metadata": {
        "id": "OSFMdOj0VBTx",
        "colab_type": "text"
      },
      "source": [
        "**Correlation between Attributes and Target Variables**"
      ]
    },
    {
      "cell_type": "code",
      "metadata": {
        "id": "StW1r-eGVBTz",
        "colab_type": "code",
        "colab": {
          "base_uri": "https://localhost:8080/",
          "height": 334
        },
        "outputId": "0b0b00bd-566f-4b06-859f-4342890eac11"
      },
      "source": [
        "#calculate correlation between every column on the data \n",
        "corr  = df.corr('pearson')\n",
        "\n",
        "#Take absolute valuea of correlations\n",
        "corrs = [abs(corr[attr]['target']) for attr in list(features)]\n",
        "\n",
        "#Make a list of pairs [(corr, feature)]\n",
        "l = list(zip(corrs, list(features)))\n",
        "\n",
        "#Sort the list of pairs in reverse/descending order,\n",
        "#with the correlation value as the key for sorting \n",
        "l.sort(key = lambda x : x[0], reverse=True)\n",
        "\n",
        "\n",
        "#Unzip pairs to two lists\n",
        "#zip(*l) - takes a list that looks like [[a,b,c], [d,e,f], [g,h,i]]\n",
        "#and returns [[a,d,g],[b,e,h],[c,f,i]]\n",
        "corrs, labels = list(zip((*l)))\n",
        "        \n",
        "#Plot correlations w.r.t. target variable as bar graph\n",
        "import numpy as np\n",
        "index = np.arange(len(labels))\n",
        "\n",
        "plt.figure(figsize=(15, 5))\n",
        "plt.bar(index, corrs, width=0.5)\n",
        "plt.xlabel('Attributes')\n",
        "plt.ylabel('Correlations with Target variable')\n",
        "plt.xticks(index, labels)\n",
        "plt.show()"
      ],
      "execution_count": null,
      "outputs": [
        {
          "output_type": "display_data",
          "data": {
            "image/png": "[encoded data removed]",
            "text/plain": [
              "<Figure size 1080x360 with 1 Axes>"
            ]
          },
          "metadata": {
            "tags": [],
            "needs_background": "light"
          }
        }
      ]
    },
    {
      "cell_type": "markdown",
      "metadata": {
        "id": "QZ-jctguVBT2",
        "colab_type": "text"
      },
      "source": [
        "From the above bar graph we can observe that LSTAT and RAM have two highest absolute correlation values"
      ]
    },
    {
      "cell_type": "markdown",
      "metadata": {
        "id": "7Q2TjwXFVBT3",
        "colab_type": "text"
      },
      "source": [
        "<h2>`Normalizing the Data<h2>"
      ]
    },
    {
      "cell_type": "code",
      "metadata": {
        "id": "-10JSbgGVBT4",
        "colab_type": "code",
        "colab": {}
      },
      "source": [
        "x = df['LSTAT'].values\n",
        "Y = df['target'].values"
      ],
      "execution_count": null,
      "outputs": []
    },
    {
      "cell_type": "code",
      "metadata": {
        "id": "yq4w2E9wVBT_",
        "colab_type": "code",
        "colab": {},
        "outputId": "80f8722e-c830-4f98-c4ad-41d41e2cf1fb"
      },
      "source": [
        "#Before normalization\n",
        "print(Y[:5])"
      ],
      "execution_count": null,
      "outputs": [
        {
          "output_type": "stream",
          "text": [
            "[24.  21.6 34.7 33.4 36.2]\n"
          ],
          "name": "stdout"
        }
      ]
    },
    {
      "cell_type": "code",
      "metadata": {
        "id": "5GNJR_4LVBUD",
        "colab_type": "code",
        "colab": {}
      },
      "source": [
        "x_scaler = MinMaxScaler()\n",
        "X = x_scaler.fit_transform(x.reshape(-1,1))\n",
        "X = X[:, -1]\n",
        "y_scaler = MinMaxScaler()\n",
        "Y = y_scaler.fit_transform(Y.reshape(-1, 1))\n",
        "Y = Y[:, -1]"
      ],
      "execution_count": null,
      "outputs": []
    },
    {
      "cell_type": "code",
      "metadata": {
        "id": "43Jha8bBVBUH",
        "colab_type": "code",
        "colab": {
          "base_uri": "https://localhost:8080/",
          "height": 34
        },
        "outputId": "0be5fcd0-f714-494b-9d6c-2730efa32b3f"
      },
      "source": [
        "#After normalization\n",
        "print(Y[:5])\n"
      ],
      "execution_count": null,
      "outputs": [
        {
          "output_type": "stream",
          "text": [
            "[0.42222222 0.36888889 0.66       0.63111111 0.69333333]\n"
          ],
          "name": "stdout"
        }
      ]
    },
    {
      "cell_type": "markdown",
      "metadata": {
        "id": "MliOJM5zVBUL",
        "colab_type": "text"
      },
      "source": [
        "<h2>Defining Error<h2>"
      ]
    },
    {
      "cell_type": "markdown",
      "metadata": {
        "id": "KNg5V3IHVBUM",
        "colab_type": "text"
      },
      "source": [
        "**MSE - Mean Squared Error**"
      ]
    },
    {
      "cell_type": "code",
      "metadata": {
        "id": "Euala3fvVBUM",
        "colab_type": "code",
        "colab": {}
      },
      "source": [
        "import numpy as np\n",
        "import matplotlib.pyplot as plt\n",
        "\n",
        "from sklearn.metrics import mean_squared_error"
      ],
      "execution_count": null,
      "outputs": []
    },
    {
      "cell_type": "code",
      "metadata": {
        "id": "LPBY0VD2VBUP",
        "colab_type": "code",
        "colab": {
          "base_uri": "https://localhost:8080/",
          "height": 282
        },
        "outputId": "e890de48-3bf2-44d4-a74d-f2a84c054ecf"
      },
      "source": [
        "# Generate n evenly spaced values from zero radians to 2PI radians\n",
        "n = 200\n",
        "x = np.linspace(0, 2 * np.pi, n)\n",
        "sine_values = np.sin(x)\n",
        "\n",
        "#plotting sine wave\n",
        "plt.plot(x, sine_values)\n"
      ],
      "execution_count": null,
      "outputs": [
        {
          "output_type": "execute_result",
          "data": {
            "text/plain": [
              "[<matplotlib.lines.Line2D at 0x7f966c645630>]"
            ]
          },
          "metadata": {
            "tags": []
          },
          "execution_count": 16
        },
        {
          "output_type": "display_data",
          "data": {
            "image/png": "[encoded data removed]",
            "text/plain": [
              "<Figure size 432x288 with 1 Axes>"
            ]
          },
          "metadata": {
            "tags": [],
            "needs_background": "light"
          }
        }
      ]
    },
    {
      "cell_type": "markdown",
      "metadata": {
        "id": "h7e89rQPVBUT",
        "colab_type": "text"
      },
      "source": [
        "# Add some noise to the sine wave\n"
      ]
    },
    {
      "cell_type": "code",
      "metadata": {
        "id": "H91prZT8VBUT",
        "colab_type": "code",
        "colab": {
          "base_uri": "https://localhost:8080/",
          "height": 282
        },
        "outputId": "538ca5d1-2c8d-4b03-dfcf-f06c71e77ece"
      },
      "source": [
        "noise = 0.5 \n",
        "noisy_sine_values = sine_values + np.random.uniform(-noise, noise, n)\n",
        "\n",
        "#Plot the noisy values\n",
        "plt.plot(x, noisy_sine_values, color='r')\n",
        "plt.plot(x, sine_values, linewidth=3)"
      ],
      "execution_count": null,
      "outputs": [
        {
          "output_type": "execute_result",
          "data": {
            "text/plain": [
              "[<matplotlib.lines.Line2D at 0x7f966c5fb400>]"
            ]
          },
          "metadata": {
            "tags": []
          },
          "execution_count": 21
        },
        {
          "output_type": "display_data",
          "data": {
            "image/png": "[encoded data removed]",
            "text/plain": [
              "<Figure size 432x288 with 1 Axes>"
            ]
          },
          "metadata": {
            "tags": [],
            "needs_background": "light"
          }
        }
      ]
    },
    {
      "cell_type": "code",
      "metadata": {
        "id": "errCxsbCVBUX",
        "colab_type": "code",
        "colab": {
          "base_uri": "https://localhost:8080/",
          "height": 34
        },
        "outputId": "a8da12e2-df08-4912-d941-99850d2c45c8"
      },
      "source": [
        "#calc MSE using function from sklearn library\n",
        "mean_squared_error(sine_values, noisy_sine_values)"
      ],
      "execution_count": null,
      "outputs": [
        {
          "output_type": "execute_result",
          "data": {
            "text/plain": [
              "0.08940732518757459"
            ]
          },
          "metadata": {
            "tags": []
          },
          "execution_count": 22
        }
      ]
    },
    {
      "cell_type": "code",
      "metadata": {
        "id": "GFyebIcPVBUe",
        "colab_type": "code",
        "colab": {
          "base_uri": "https://localhost:8080/",
          "height": 34
        },
        "outputId": "f31cd025-d2e1-4fca-db49-7e39b5df36c6"
      },
      "source": [
        "#Calc MSE using the equation\n",
        "error_value = (1/n) * sum(np.power(sine_values  - noisy_sine_values, 2))\n",
        "error_value"
      ],
      "execution_count": null,
      "outputs": [
        {
          "output_type": "execute_result",
          "data": {
            "text/plain": [
              "0.08940732518757459"
            ]
          },
          "metadata": {
            "tags": []
          },
          "execution_count": 23
        }
      ]
    },
    {
      "cell_type": "code",
      "metadata": {
        "id": "LC2kwPZZVBUh",
        "colab_type": "code",
        "colab": {}
      },
      "source": [
        "def error(m, x, c, t):\n",
        "    N = x.size\n",
        "    e = sum(((m * x + c) - t) ** 2)\n",
        "    return e * 1/(2 * N)\n",
        "    "
      ],
      "execution_count": null,
      "outputs": []
    },
    {
      "cell_type": "markdown",
      "metadata": {
        "id": "frL6N-X4VBUk",
        "colab_type": "text"
      },
      "source": [
        "# Splitting the dataset\n"
      ]
    },
    {
      "cell_type": "markdown",
      "metadata": {
        "id": "t--WAGeeVBUl",
        "colab_type": "text"
      },
      "source": [
        "Splitting data into fixed sets"
      ]
    },
    {
      "cell_type": "code",
      "metadata": {
        "id": "ti7f4zCtVBUm",
        "colab_type": "code",
        "colab": {}
      },
      "source": [
        "#0.2 indicates 20% of the data is randomly sampled as testing data\n",
        "xtrain, xtest, ytrain, ytest = train_test_split(X, Y, test_size = 0.2)\n",
        "\n"
      ],
      "execution_count": null,
      "outputs": []
    },
    {
      "cell_type": "markdown",
      "metadata": {
        "id": "MJlzEQwOVBUp",
        "colab_type": "text"
      },
      "source": [
        "Update Function"
      ]
    },
    {
      "cell_type": "code",
      "metadata": {
        "id": "pAKvi1ZyVBUq",
        "colab_type": "code",
        "colab": {}
      },
      "source": [
        "def update (m, x, c, t, learning_rate):##updating the update function\n",
        "    grad_m = sum(2 * ((m * x + c) -t) * x)\n",
        "    grad_c = sum(2 * ((m * x + c) -t))\n",
        "    m = m - grad_m * learning_rate\n",
        "    c = c - grad_c * learning_rate\n",
        "    return m, c"
      ],
      "execution_count": null,
      "outputs": []
    },
    {
      "cell_type": "markdown",
      "metadata": {
        "id": "qIKv46e7VBUu",
        "colab_type": "text"
      },
      "source": [
        "**Error Threshold** : If the error falls below the threshold, the gradient descent process is stopped and the weights are returned."
      ]
    },
    {
      "cell_type": "markdown",
      "metadata": {
        "id": "ZRh0VyAqVBUv",
        "colab_type": "text"
      },
      "source": [
        "Gradient Descent Function"
      ]
    },
    {
      "cell_type": "code",
      "metadata": {
        "id": "d226k0o6VBUw",
        "colab_type": "code",
        "colab": {}
      },
      "source": [
        "def gradient_descent(init_m, init_c, x, t, learning_rate, iterations, error_threshold):\n",
        "    m = init_m\n",
        "    c = init_c\n",
        "    error_values  = list()\n",
        "    mc_values = list()\n",
        "    for i in range(iterations):\n",
        "        e = error(m, x, c, t)\n",
        "        if e < error_threshold:\n",
        "            print('Error less than the threshold. Stopping gradient descent')\n",
        "            break\n",
        "        error_values.append(e)\n",
        "        m, c = update(m, x, c, t, learning_rate)\n",
        "        mc_values.append((m,c))\n",
        "    return m, c, error_values, mc_values"
      ],
      "execution_count": null,
      "outputs": []
    },
    {
      "cell_type": "markdown",
      "metadata": {
        "id": "_jcvJg2jVBU0",
        "colab_type": "text"
      },
      "source": [
        "*#magic function to identify the time of execution*\n",
        "\n"
      ]
    },
    {
      "cell_type": "code",
      "metadata": {
        "id": "Jg48LqN9VBU1",
        "colab_type": "code",
        "colab": {
          "base_uri": "https://localhost:8080/",
          "height": 51
        },
        "outputId": "3c599dba-9a34-4cb6-e7c6-3d82676e9de3"
      },
      "source": [
        "%%time\n",
        "init_m = 0.9\n",
        "init_c = 0\n",
        "learning_rate = 0.001\n",
        "iterations = 250\n",
        "error_threshold = 0.001\n",
        "\n",
        "m, c, error_values, mc_values = gradient_descent(init_m, init_c, xtrain, ytrain, learning_rate, iterations, error_threshold)\n"
      ],
      "execution_count": null,
      "outputs": [
        {
          "output_type": "stream",
          "text": [
            "CPU times: user 62.3 ms, sys: 1.7 ms, total: 64 ms\n",
            "Wall time: 64.6 ms\n"
          ],
          "name": "stdout"
        }
      ]
    },
    {
      "cell_type": "code",
      "metadata": {
        "id": "7xUGO6UAVBU5",
        "colab_type": "code",
        "colab": {
          "base_uri": "https://localhost:8080/",
          "height": 34
        },
        "outputId": "942d685c-67fc-4e9b-a808-9cafd85f5c78"
      },
      "source": [
        "print(m,c)"
      ],
      "execution_count": null,
      "outputs": [
        {
          "output_type": "stream",
          "text": [
            "-0.7699103418190527 0.6207227268250588\n"
          ],
          "name": "stdout"
        }
      ]
    },
    {
      "cell_type": "markdown",
      "metadata": {
        "id": "v5ThwlFMVBU9",
        "colab_type": "text"
      },
      "source": [
        "*Animating the model visualisation*"
      ]
    },
    {
      "cell_type": "code",
      "metadata": {
        "id": "a663ijJAVBU9",
        "colab_type": "code",
        "colab": {}
      },
      "source": [
        "#As the number of iterations increases, changes in the line are less noticeable. \n",
        "#Inorder to reduce the processing time for animation, it is prefered to choose small\n",
        "mc_values_anim = mc_values[0:250:5]"
      ],
      "execution_count": null,
      "outputs": []
    },
    {
      "cell_type": "code",
      "metadata": {
        "id": "V21XTTrHVBVA",
        "colab_type": "code",
        "colab": {
          "base_uri": "https://localhost:8080/",
          "height": 561
        },
        "outputId": "4484e7df-594b-4c72-8cf7-42b28c4243c6"
      },
      "source": [
        "fig, ax = plt.subplots()\n",
        "ln, = plt.plot([], [], 'ro-', animated = True)\n",
        "\n",
        "def init():\n",
        "    plt.scatter(xtest, ytest, color = 'g')\n",
        "    ax.set_xlim(0, 1.0)\n",
        "    ax.set_ylim(0, 1.0)\n",
        "    return ln,\n",
        "\n",
        "def update_frame(frame):\n",
        "    m, c = mc_values_anim[frame]\n",
        "    x1, y1 = -0.5, m * -.5 + c\n",
        "    x2, y2 = 1.5, m * 1.5 + c\n",
        "    ln.set_data([x1, x2], [y1, y2])\n",
        "    return ln,\n",
        "\n",
        "anim = FuncAnimation(fig, update_frame, frames = range(len(mc_values_anim)),\n",
        "                                init_func = init, blit = True)\n",
        "HTML(anim.to_html5_video())"
      ],
      "execution_count": null,
      "outputs": [
        {
          "output_type": "execute_result",
          "data": {
            "text/html": [
              "<video width=\"432\" height=\"288\" controls autoplay loop>\n",
              "  <source type=\"video/mp4\" src=\"data:video/mp4;base64,AAAAHGZ0eXBNNFYgAAACAGlzb21pc28yYXZjMQAAAAhmcmVlAACfA21kYXQAAAKtBgX//6ncRem9\n",
              "5tlIt5Ys2CDZI+7veDI2NCAtIGNvcmUgMTUyIHIyODU0IGU5YTU5MDMgLSBILjI2NC9NUEVHLTQg\n",
              "QVZDIGNvZGVjIC0gQ29weWxlZnQgMjAwMy0yMDE3IC0gaHR0cDovL3d3dy52aWRlb2xhbi5vcmcv\n",
              "eDI2NC5odG1sIC0gb3B0aW9uczogY2FiYWM9MSByZWY9MyBkZWJsb2NrPTE6MDowIGFuYWx5c2U9\n",
              "MHgzOjB4MTEzIG1lPWhleCBzdWJtZT03IHBzeT0xIHBzeV9yZD0xLjAwOjAuMDAgbWl4ZWRfcmVm\n",
              "PTEgbWVfcmFuZ2U9MTYgY2hyb21hX21lPTEgdHJlbGxpcz0xIDh4OGRjdD0xIGNxbT0wIGRlYWR6\n",
              "b25lPTIxLDExIGZhc3RfcHNraXA9MSBjaHJvbWFfcXBfb2Zmc2V0PS0yIHRocmVhZHM9MyBsb29r\n",
              "YWhlYWRfdGhyZWFkcz0xIHNsaWNlZF90aHJlYWRzPTAgbnI9MCBkZWNpbWF0ZT0xIGludGVybGFj\n",
              "ZWQ9MCBibHVyYXlfY29tcGF0PTAgY29uc3RyYWluZWRfaW50cmE9MCBiZnJhbWVzPTMgYl9weXJh\n",
              "bWlkPTIgYl9hZGFwdD0xIGJfYmlhcz0wIGRpcmVjdD0xIHdlaWdodGI9MSBvcGVuX2dvcD0wIHdl\n",
              "aWdodHA9MiBrZXlpbnQ9MjUwIGtleWludF9taW49NSBzY2VuZWN1dD00MCBpbnRyYV9yZWZyZXNo\n",
              "PTAgcmNfbG9va2FoZWFkPTQwIHJjPWNyZiBtYnRyZWU9MSBjcmY9MjMuMCBxY29tcD0wLjYwIHFw\n",
              "bWluPTAgcXBtYXg9NjkgcXBzdGVwPTQgaXBfcmF0aW89MS40MCBhcT0xOjEuMDAAgAAAKuNliIQA\n",
              "E//+97GPgU3IAA2XOop6H+EVsfSQUXqx2aBk6gAAAwAAiYH638JRwsQHwht3BudId0Uq2fQAIbty\n",
              "qmwF8gX0LLzk2vyiTGtHdrlUU0pvR9E1IWLAAGdLElzm0F+YKb0MJhE+T2NumtX7TTF8pigVhe0e\n",
              "r977kTqG3rWhSuI4WldWhyiZMW2mxwklk9u21aQfI9h6ATTXzRwEwGZa3zZxtFyLCSx6LKotsfAE\n",
              "GgboxzYNWVX1GVeOSduJf1t2v3BWpVmrD7xDTSgKSPVJnZ8PuNTuK07QUlCQeQz+7ZeS+B1vE8U+\n",
              "O1qUIRqTPYIMaROONWgxJ2TiSjDD5rfqxRZ1NqwfM3hsjg4OLljOPb/DgyjoYT7PPA52GXdupRUC\n",
              "P0e1dPYoPcolyQ5ke5lmcppuRDl2kgGzF4u2b/twXZGk4O1s0joHjdInbWLikiEB1d+JsACM82/5\n",
              "ApbRXY0bKTtuG5t9QyYji+vAFIg12hkYQZav1XmjIBywbsynhjWTpq8ZajWJiSn8Ls6dJvT4ZZ1+\n",
              "wRC/yMMdso/rQLzTx0Xv8G7Npz5pahxFk1Slr7RJZaRKTn2TVl7vNgDyTgKf2sUwQaz/8SScwmHV\n",
              "IXWdlLO1AvHADvAY4K1tcJYl1teZnzb4BpgM3f6WNnFl+EZ2FJ7y40g8mSY1SRrItk07nbEUz3wE\n",
              "23uUP8YixsvkxioNpJdt8/mRlcYzbiaK6sWa4DtZKDlRuYG0f7uXTu0ebRCVdFGyfyUQ7jGrdn01\n",
              "8H+4J6ZHjxlpV1i/1KTFgYXXNuPT3FHJvzcmJERRCBmd3WbsuBK1bEvNawQFxWhmm+E8751z5L0E\n",
              "JQdt+d+fvJwAzUvl0fWLEG/Hc/tuPvFPBdUCswp3K+lIPl11lNqE+NuJpFteRbfQL6nsEuRq9TgC\n",
              "wRduZinq0tPIjwnXjFzgHuYQaDrGSzEkB5Yavn+GsFT28J2QMDrOuZTUgPT+wmPFkWuwbq7frXHA\n",
              "utPPzMQ4hstgTGcdZd9Unl+wnO3vBfG26atb7S9V2IUtLg7/xc4F8ANWvaPhD1Pd5OnAXNr0bqPb\n",
              "sCN9zjl119+lFGySxhYmmqzqfWV/O4NCUohLrHuy6Xte/1Bfjc+7kofF87idGj70sczduoYz6iHY\n",
              "yiXykg0oNUUE3I8wquI/teEd+MZkw6jWt1Cmsy2hqiyRhLVzisJDmg5g0ZyrARHZXShiUwUq/XDr\n",
              "efFqYO1zlyk2EvU4Pczra5E0aogRGw0Qcs/jq35tgzBNgg+M4snkeBj4/di9Ap0MLxe/JzJ9IYYz\n",
              "/qBPYZDTyfORs/pk2xsBsA/K7pQmas4mgt/degZwgwcxgxHRuj5dKct76lolIOu+hbPWwlVtLqbE\n",
              "mQ7CoAPIF3Ef1D6yo3Y806ZJvgZWB72rRRTH0Q38V1aSE7dwUBfsfhhm6KB6t39HuYu0xW645ViX\n",
              "k9qlj9iQeSEk4hmozrf0Wz2l5xFeomUFLuj3Z73ooFmRoC+0YWj+pKBcNIZPn3V5f1Noo9Qep79o\n",
              "6xDb3Qj62Zqb+Iy+1eeuxYDsl4vDgGmfN+7ehWy2jYXRG/BS2WwUiJR9IMCNuXQdmbEWkuEaMmy/\n",
              "1CEyt54S8vBSad4AFzjPhwOI0XKg/EmmgTfPYNV0OhheyQIQv1ahSb3m8jXI9aKVlMXPlSvGTs/j\n",
              "3u7w+YwErvslKEzzBGDqCZp9Hv5qm8r2TfS8wra4nJjpRoN4LuQjvNEkHBo776MH6a9URkzKpHOB\n",
              "xk3S64zz0AQix65fOZaxUvedNSBbqQK+WObikEDCc6LVZOr/HiKMDje6tW3G3B0L/FSE8oC4NH/v\n",
              "8ZSlAOEqoJtCb3kixO5wZUAe0/qes9KSpg8Vm9lU4CSKaPxl8IcBP+82YMHwFH2U6nTqp8qzmV9d\n",
              "lor3yvC61EszJXLKqVMXg4A3qFEj3l0rnXf7BdUKpfRs7l0lMG6XQPK+BzmmB+TjvLDUACKShjA3\n",
              "e4pOGz3846aiVOqoml4sw9SPDsVZKB9xTyJBW/8eTHNCWaondgLY6piTp04MJuo2QB8BlvS5cw1B\n",
              "+n4/J7wozLBsgGGCqEwdZSl6bMrSng6advwuSR1+9YDxjAjBjF8HDmPkof6RL4mZ5HQE/us/PYR7\n",
              "0ArZrtJ6iNgq1MVcZLQ0eiRRvD+AGZJ4x/blJ042DEiCH94zX7nn7NtNcTYovhy/bAn44qidgMxh\n",
              "Lgu+drri4ro69+pLk7YFTAASY4AhSJM4p8BCWkZHoP6P03rgFujWl9bz4IKNfLKsBSzDbAwgTNUl\n",
              "L6LP2A1IaSf291cM77SeJuPPYJcM/pUyDGwMqg3nWfdVZ8iMeFGErdwsO/flvv4J9ry/HgUysvNt\n",
              "xgH+ktgUdlabJEIP9l4Aj2bAP5sQZJhvKQSmV+R0ZVs9WRVYkTx9wIX+VIKlaaLxuKUOyrI9ESnv\n",
              "UGpOJUPFvknjs92CzY6F0znVo9zxktIzw0THL9sB3zOry9a0EKe6XYUeqjKmth76gddKnvHRxq1J\n",
              "QplC1A1i3Z81A9PUlnFZ2b7kKlJ8W2ZNe6xwkS5lwZCnRS5/4h6iq6iqpyKI9jy5bgKrkGUnt5o6\n",
              "ZzQe/QW4GxS82lvnI7XccEWqC2YWysGROc5LpwdBcxhwo24ETC7YvHSLQ7hI8TzqhE5EPe9M1u5W\n",
              "vv969ykRvBBHOigSfOS08pgtHjLnmtCTZujBcubUhQEi2ieX8fXpJnS9ngPsEh8lflFDdTOGVXgU\n",
              "o72OtJl7h6su5BDRaRdf6hCVwVCOH+DI2WFTbt6bovefseAwHA3Z2WGR+0fTBYg5IIh06afp4Hdm\n",
              "fvd4bRYmPKWGNvXEbqzjeo6VU/31+DxiWeyZyisFN/mg2hHhoFRdxUrFJoETQ1r6ze2ZYR1pobwO\n",
              "WCEs1ZhcAGVTvpqjzTfmSptmtuNIgAV/4nGLT52pTSBDChTrua/iKfpe6LW5a8Kt6bq3HVZT3cuV\n",
              "QsG5KWfA+wwfukjefcSurDZrY09Owo3WMNcibGiFLnNH7Lubd4z3hPV1C33YJmgQU3UlomAI+2Zn\n",
              "0f9CVDn4gkHl5qw5RbvUC3M8Dv+efuq1Yb1Oq7HjXwaW03KUcyeWmqkcZTmVCfKpJxhysEnfdlAB\n",
              "JRT1qwXuVjeSajkfvk8objLYaCQzrxysc4Hld93syY/sbDYnsloA1eTj0+tzyyVgYTx9o2gWhw8u\n",
              "CIsSNg28y/idqQlO/I35ICpBueYgX/9QGaKMgX1WiNUZjjdpqIP7VEHjEPhkuLutqYFhmg6EhGF4\n",
              "e3bvG9FWVx0hJrC/HBjii+g4FaFWaQMNZ9Zkcu8XEc4xANZYhP5DZpCTVnPxGx55todoZ3/r6FDv\n",
              "+siMVWD45a2rv/ALSbPrCFA6BgmCrX85i82hUtA1glH0yRleG3cmsDY87iKceU/cYcFq0nL2GpI+\n",
              "VtdR6PCtgzN5R5fdgFbj82nUGRA4nGqislUZqLT36qmETUulrYcK8fhSjdJRZ+0+pDu2QTfY6LN4\n",
              "XAKRaLeONjCcvMlnY8BJ2fJxl9B6ss1xZ+nJ1OZQlG3vTGLHHidtCIfAxtE12PaDeRzbjXIlg97Y\n",
              "SAHVNDO3fz7Pliqk+sv5Tcyt8ps9qpfCQEnH53VdtbzjQ6uBvp+aI9zwDZ8ww50Daa954R4V4vg3\n",
              "ShXnVuCfky77G6zbcoz9OvW4Bx6VjxTO9e7GKQ67k6Q/ha3PuP/PVXA3MUxQTSkZLj4cXUkkrTiU\n",
              "Kza2lwATxVrd3K9ak0OIO1XoDHuXj5JYdxNS1K9Wzyn3P2SOEun6j701IjtP7pnCnkLPSejCEmHf\n",
              "SQAol7DcBF+kT6MgEND+DQoyOL8BeOtVaeDka83YAHePTcTd31dW+fm4tkSbtJ9bPX2MIGyJuBbX\n",
              "kR5x5g/bYRm2nsZdJU7E1t7IHhTDLa0G17dR9naPiGWbX87PigZX06rzY1iyEyykTWrr7UkKif08\n",
              "aHXr3UTVbM9TmtfQwx+8jgAJx6GAkfFrWstSqBlvwLzjTwY5Aq8fMeY+qM2ErsjoscGmuGxW6dAV\n",
              "hYDTJhU3VcdKDIua0ZflMsacuAusM8YXjD4BwFJeyMJT2M9ZC/bd8irBJ/CTKIJlBHOaqWHQfiyY\n",
              "Ai/KIGwRjg0bIKfqu7JNXSkm1xOcB4jiNr1xT+MBlWn92mtNzMaG636M6wAtTztGK6RxDCdsTrXh\n",
              "k8NJHmA8V21u3p/ujW2BCkvotdafglFynHu/uA+Mscj44tk5ZAmDx3tfyXhwKplmGg5LrAwzTAA2\n",
              "cA9u8JNtLURJjWVNwC6pEzCZjBHNUZ6EHwVo1gEPoD5WgAAScwkuhd3qTFpnX/2cFjuIUhrQCLT3\n",
              "CEt/8Yw3q/EDsLO4aW29Ghn8mMBjbD1vgyZGHVrqdfk6LSTUprRrbvBB6aWHmc5dw/gU1X6SbBgh\n",
              "Lke1kvQl6nP/mV3yLYFUA8EK1BxJvSNt52ucpkaDvgwgsgzGGoXoC8Cx4kKgNYYgVm0AuNnAZqQs\n",
              "Q0YiIEZuuMVp5uFafbfuq9/C7htZmbY5sRhvjewPdZgfMpsjfoUBW7+Ec9tcRDTS1LBvgCgJFFAd\n",
              "qLzu8XJ2ZnMAoZZZKYkODQuwRQ60/B3Ymg38xzE2tdUCXwVXdUaE5WQ5F3G+DbUsouYjUI+4+97z\n",
              "G50hWaDdSAQ+et786geHShQuu0vawwlJNz0KThAl79qmwm/5gWFAcj1y8FrBl8ZBKW97/U0IBOEx\n",
              "MTcQM/lb0jzoud720WdOSzUWAOfWg4bTmFiQb7gsfYQ19JWFad8/6TJMfu7leupR4+gXJ1dJlbhX\n",
              "5nAlEoTJ0V2dUZnOZORYNtegA2mUu2WXDnQPIU4lpaUj060yrwCtHRCbT4Y0CvRqcibcUuAkFwuk\n",
              "QBWFhEZrRwy1+9Wku9RC+5AX07l/McK51xwItY6T2V6HFfpKSRt6x8WeybxAEuDCMGxOUmXwdKuT\n",
              "C2ADIKR52/4zT/Y3tJ0Qi9Tb5GExU5rcY0gUoYheIV+JQLDdiF8dKQTmFzGRVP/sYdtTOp6lry2R\n",
              "CnAQsdkE+y2voJAaq0BZJrRvKUcRDLjWqEGAG9JO2z3RiVDkDVyr8Zp97ILohT7p2aa+5pdcBAHh\n",
              "uOq+LBgWidJOUiylf+mL8r9ql+Vu6/ELLk8n4M6tFzq0RkmjDpcnTSpQshaWsQw8RrLrghzchlPj\n",
              "xQZcFf8sAqQukY9Fxpfh916uubIfHz3eIisJWhVS3IRCn9EcX31AkM67hp4KQyaKUwNZaJoQKV4x\n",
              "RmDNctoterna/bVXCQwbM/D8v+f9hDrSi8LEszyGy9wGLBqhI36Sahiw8BIblGdb31rBol5SQR2i\n",
              "GDxpThlgvmcGEA4DUzQc8UDoQpWIgy3hxN56pJw3YzZGXQSs1efG7Hmhvu5Uwb6y2iFxilJrtdDE\n",
              "Aw8gFYHMPXnyJXfDGOgDN4AqH7E7C0oMB+Pb/JJL1TD1AJaIKzvtAMcRG2HXpMlwDk0FGtScfuK6\n",
              "ytj37z/E8/LO6THdQBbPY0BxKZI1zFTotg7x5B2BdQIisORHyJtP+zU/+53IvpXHwtH5BQ8YoqkZ\n",
              "H6bx+vudmU51CEJAZX91xsXxfaYMUok7E35f+SBmpLevkM+v9OcKAYwD2CgSWvvSzM/3OKAMU1wA\n",
              "kJTzJYzt9765s91y8ZP6IjzrBD0k6ix1pWigvQDWMoDCQ8kHvOXvJv9DazVN0Db1W42Eb3+M7Liw\n",
              "kQpnsmKuNziPSU3bJw9+u+ooJmFG4D6NTg0rkI9P7BRYo+3eTt6Vvfec3fgB3yq/pV7wwf9fo4r3\n",
              "BLidskuDowURXnHbEBytp6Fljh464jABx/2HfItXw9kTGvd4u3WdAzE/qGDPFhN0cwHiSBeQGTMg\n",
              "/Bel8vX2dOjfXSur3SaTaSM3k3qIKO0yem5fajm81ukVAfFWcFUpqaMNsLFL7s/dSBJArlvCyiID\n",
              "mjOIdH5eO5iKMCtfvmNo6ExOz/lSd0Fu7U0iiA5hbq8syaMTu9Mbu0VxsUginryggns5L3H8zAeM\n",
              "4QnglG1+y2RJR4Ji/epDFPkxltOwPQ3MlLNQyCAYJ/cCL4DFHQs4+/Z2Q9sq/T/2B1OfC1e5cGKR\n",
              "KA+YziSCuX7EIot9vChn48OexqcHmF/m4fxZbfI/UNzCHSCTShTDGgnMeRZqrZEwnAtHRKe2uy6e\n",
              "oovfe9fxWQQUSn/HsMGN5QkYOZERMa++DwqeWhI8Rpg2MNNVSe/4/dj11yPY8/QOsmXNGoBUoJUK\n",
              "so/a+FjpAVpyAPVTXp3+7FTabgs2KVLxi0by6Mgcgd+oBPiKMLAdCxKn9skC6lxSMk7mtFahHWwY\n",
              "FI53S+W9l8lrN4k/+mM5oMMfdXUxT30nSUsynHT6MG59im/Gb4MOGFGMQSHHWGR0q4tC62dYteYu\n",
              "DyZwCT9DZosORuIatMS4M3rd2mG+WHRX1KxZrJMLH8yykxreCIIs6dmGBNRSEEi7ipklNrjtSB26\n",
              "EEXwi+AMji8fRQzy9vbIqeoHyPDjBTa26nmM1uHJC4mInPc4+Ela9VFU+fx3d+igrb0H/KRosx+Y\n",
              "JG/bde3WhxAZCwFXhzF7Hg1LFbYv1hJq2CKEHSZZthxnVSwTUkKyexytzhj2OOPm1ngvOV366NCF\n",
              "mzWU+T33aqm7oNf79uaQ9ClMB4Kac7oTHo4zyWIkmlRjcA00DqiE8P74El+Pv8TRIZiGCHz4hK46\n",
              "scs75oNG1j1LI6GmY8rpJzm/wpjeDTUW/1yWqo4+x4HxIHG3PX7j4U6udFW9PU39mSI0XjjApL4o\n",
              "yaGbJb4i/RyEjyRtMe5jV1pSzNQGAuzuTKCYUGt//vI/ccBt5k3JC5ddC2XZIjqFYmoHH/2qBxb3\n",
              "9I72pHHPtrPMoG+O+/bz41v/kh7nrnsXELTAHMJ13TsZx3+303QX4t5+VL+eMu+IWrlIxG6Dq57G\n",
              "mPJ0wUXagER/j014oKXhzCvKjDXZqRG9nvFcAKtMWdOM1qkM3XTXYx1JH6k4w1y2kRDcgHUbW1q7\n",
              "WHZH9fNdDwAByHNsW2DgVAPKIK/DpOR45n4f4g+kyWtwJQXKlhpScfylB65oBPRpZJaXYNmIO7nH\n",
              "KswxuxOauTaNpGI/boSj0pEI39vhViecRuoSWUNPnn8SadNW7VYuJzxXhlV0lZT7t1SEO1Aq9GtE\n",
              "e3GOpaCwuJcaS/vprDf8NaH64S3sVD1o5mVqDiBgHTRFnsw13r8yPvtVRc0JWSk8QAPeQaWqFTkf\n",
              "JmJVnsTzAxTGyXE+FAdm/1LqfXCvqG9P/AiunYx8H7y6H44TJ9xbJjN1WAd1mL2zeoeCx5WSDUuc\n",
              "GgevCePcgNSHsZH3cuXrduiI/3IGDSR6dz6MVWwKIxlTeieWiwe3StzIqvioXr0NnR9sOxos2GR9\n",
              "jhRmKRqxNllI7sq9xEmr+GlSDE8ExC8LUmKrQdDPTseZVZssup/qDSSU1ZDUa59VwgBPzHqT8Wfc\n",
              "AMcyNRr7psr/WGe2tFEvlFUT9cL5RpjP7AK3k8G1i5QP4j5gBv25Ehdi+HebmH2v3ANsybuAIZEV\n",
              "2EbN65wX1z5nIsVY5LIUPv0zx2VfPXxS+vih5qKlvsaANVHmU6d2TVcEDUrZSrrEim1hbxXMljtA\n",
              "R3A+E89XpzRpFvdSZKDTm1Y+zHKe5VpQr7Sjnx4TcvNR7K1qE9j5e+AEIEbJ9RLl24ivfKMIidef\n",
              "VJbY3iMDFT/1YbVzC+2EkCaZHmuhFJlD7+oYaEPWs+BXQpoN+b7TMY19ON9rIz+ZMApZxMyH6JiT\n",
              "OCituk+YgaLWmc/32eKDrRNx1ytXKEdzirKmut+CdarRCSouU5WIY7gv/0C+I8nHUVXQnaPNhljg\n",
              "kDJ1lJNqWH3wy6GVrTVe3oQTjB7D9oCjQ8UULcwIEC0DKQNIudAy19RkZUC2CPyb4n8G+c3G5TUC\n",
              "p4EiXhzHLSzs/HN3bb1MWnaoYFoaVURXjb6laZz5qXnXpsoO+UgtBU5Nf9vIqCi9mcFprV6Hggpu\n",
              "Lj3oRC1YaJjXO6umeXnU7LK3WfNM96vgdQMEGaUuvB9BP1phFGrRM5vCo12umDyUmcDlKan3vGWK\n",
              "nnlrKYCmDg3PsT913s43PClvWpoQ/HsePDUVelZKhUhjdj9T35wW65cAMIlsp3yCmfIDdAuOL///\n",
              "/7RjVhe7XtamRqD4DNHcpjvWbDq7oYmYpKYtPWp6mDYtqNUhLbr9OKUWB2XPQUE8VlWYhXgygUjb\n",
              "ZVCOnjeEvUEaM80sXgiJvWInzAHxYs/ntE1R1qZlJPJHDViSdPj/0KkcMN7x7O5uk6QJWcc9mjKi\n",
              "NRV+qgZj0nIUtC9jy6ZJMqYf072WPh2AniTi890wYBiwvjp9Jo95HFe5iV45LJ4BCR/J/BfZ4RjR\n",
              "A5tWGW61TFThB2j9pMZWb5ohd019elr6e9+RdWO7Bz82N8U3lqL4zL3KrzsYrNHDAUA3b0x7ft5T\n",
              "DgPQMDwXBlldViyUAyapTxRKGEM2iNFPAv0WmMdM4/ycN2Zdeg4aeVR/N1yMRjNBhc0t/XExEbQm\n",
              "Gs8O/VZPnALwal1Xq0cGQwWRxpkHyHU+1XG245QtBBLF0JsxBNU4ZAD6Inur4n2fYJ3lCMMF+pj0\n",
              "ydD5dQaaFqSrjsI2dHK/Sk3Ru6ArDQlf5fcq1zoycetCxMNHX/YI+SoA4c1v5+8tL/PVdzteEp8B\n",
              "FlCIvH1kJeomG1VWRiYibIwNVGz+OBZyaAQRBeKp0droPX6xuoK3uhNWwmxG6p8sU9CTl6SzTx4c\n",
              "wjEq+7A3ebkg9hBjSi/vElLzYineltFyKuvvYXARh0j47P82WQirtOA9daMSTsRToTnPeLMZaGk9\n",
              "2UtyY9+HFzoNeU+vxVNwai3veXDgKThrNAdLG41qQ0Q0dZHdF6Zl8ZL/YLji5Ui6u5Hvigi6nNNd\n",
              "lHb7QFY4NmWbGmNIXGoa6Z8yUjCFRM1JG24mDQnJ9MFrORhi7k/i4nMzECQD3/27g7TooQdLAVsg\n",
              "QOTc7yJA9lRcPUTHhPOwxF3iF1pP1zNzpMCtsMews8mciIArDpcUYxBq4Co8MJKBRRWlFVrIXvh2\n",
              "Kpu9YKq3tBaGVbno7LsG7Q+R8LZHjJHlFUaxwF8+2gOE5++F+V1FRqg/GEjX854jD6JF11UxUR//\n",
              "gAa43XYy9Ii7om4s5pIRznyEs7mgw9TeSy1KhUJ75zEj4WDnuYPdh9O3d4+Uzt+IokIdLuvsUep/\n",
              "IyBVRpfws3UGy2Y03p6d3LPGTuA1jaV5l+UPf0uvcMjObhCZtsIZlBcLgu/5jWkhaGwZy5oLU9aw\n",
              "h3dWw0r7HJNx8W1yLRAcBdX2Lw0QiGc7/4v1nt4bVl6XVucuNOdYyk3+ICNxCqUGp+nEtB8BiaIM\n",
              "7jIRTKgGLL/C4gtIc+56EITL3RF6KPICTItL9+uRwH+lvjsTLNyMmO8V9yRt8dtjoAHeRysWoCW9\n",
              "uBzwrIio7Tss3VqhK8P5l42kyoiC7uazYy8g2RJ+JkHta1Qnwz1Z7xunLuOtcYpbk16Hmj5GrrEW\n",
              "O5qRPwgMpo3e4u/nzzLTOziCKOIluUn0lGpZQVaMegxTp89NjKxUy44UXm2RweQ7RxNNvrAX5TPF\n",
              "+Qltbn4+vxC6VX/4mIWspLvGQgbQWTajgVu0g8R/BHQQgQS1Y3GzinlsyW8EIItpAbScAbFMZtD/\n",
              "l/p4qeUULLuWn//1n9L51z67c3W1Q+okSKNo/9fq31+3bqEahbVNQgggescA4eTPvv2p6YDJqE/k\n",
              "43M/xMNZs7kwqmkLOK/POZ5PfP4nyY1/fxrKgUyYMSvmvWMZ+pscc/i2CxU0wf+A9xhT9Ch0NGTb\n",
              "M7cWW82JxSoYJi5Bsf6RM6EieZpzuR42wLe+sSCqwijKzGpuXaCGXn6TH5sZa7JwJvcWHtCfADtm\n",
              "JuHuN8o0vvWaYqk5DN4R+nXcbo1mpNNtQRc1HHgIB7KL8JjlaBg0FaaRQs6vL6hP7ZYwsw0oZxwY\n",
              "uv74p3zjxFfyhVCPjoxklHIH9ErJGn4KRN+Cx9Do5XwExAevbH5+mziBfiTKrWNVANHTUIk7nXe4\n",
              "t/x5/Mn8DM2l4dUB8fr/DmpKX8x8lHWBn4bsAPVcW0nDJTEcwDIPh6XzTTsyrrVumPWkqmRkOAoC\n",
              "VxFPRvPIuycKFwtzM+PnipqPDSTNYJT3bAa7fw/fIHXGwrZAmjPpb2lQdrgPP/3wLrVBOgITq8iZ\n",
              "CrVNhSQ34i4BvTl9XGTTe07qB/Nt/J/G10ukVaR/NMVufeZz8fIrTIiNGkpVzG7ourl0qg3PsYwh\n",
              "5+wxTeRKDmJci7FilrjLztESqL4a5O8IiMez1RB0qg1hdG0aRkLr7kyhf5p5iITejWow/YzjcFUf\n",
              "evVxSK7Hrf/t4k6n7YyS4C35Tlfr0xrKMu8KGfT+bfrdP6mgzSKho3RY1IaYKL7SL5LpYK3JlykP\n",
              "3F4ocsU/uW6FMpqsFMfMXAsYdyg+s/qlZKTbKG2dq5XJUASBnVY3R/oQMz+3elUVilK1UHN92Law\n",
              "gW6iezLd5Ns06r13MDQ8jYr13wuYDwq7a909f41HuvgXpmdDmpDC/o1is3c97nMv/m6WfqMnzneS\n",
              "hDbaxforA9sRgWD/pYZHaPwE67Dbf3/BC4Ug7JBCcX+tkIlYcYeKPDM+oPmGrCNVGIXgfYTc0JWZ\n",
              "Lp2nTUfbuVC/kCLyWtXzToYAcwAVtEnZJczEI096KiGIcPdXius+9DX420pxV4qrOO1V8fnj4nra\n",
              "OrvhDLVjU5qCeAtZG/wnd6/xSZAqx7u/I2XokEWJVLRm+mLlalPQtEu5P0RF+FrwEwOU3NwpV3mR\n",
              "J0QASrtI4yriUjMfyOCcwlDDn5NeRQYqQcCKUDixOp5eDYNkmQBq7ncb2UMWdAGt85SdA8FAe0Fv\n",
              "SmXzv53xrGNCxey63GvIJooEl+UPOcy11SYw054xoIAoe4B1GqpdLQt5l8jIY5tie94/RYiRSgLj\n",
              "etJ/12t7R7vW3ujExgMdmC3gRFR+3dAYUxenf0r2H+MQwNz9dAElaHx/5r/Z1j3ff86JFNUfuHUZ\n",
              "YjRf49adZSDgI+SSiPgB9S75XxkACxKihKpSqi6Xp0LsMmab+wma9gBGqlyezMOSuJZdw7ZdYx4+\n",
              "3rSBHOLGqJsmlmWEgqXHtPNokOy6Ib4w+uLnqnwy3JhUP3ohsolCtwYFeoY00C1r8RpM3GND8Vuk\n",
              "n1Y2ty2VCvBgH2MwGliiTcf6z1OdaUgalQcfh6Eqbgn216m1HrcONri9sHeZvutH3AmaDK0bdtz8\n",
              "DRReR19AvRIiITf/KiFQ0yWvTjr6vYex2qYgk/gKfPv3TIjcdnzDu4TgKhNvjqgYwxsWsKdlGQQw\n",
              "gKEVmcZmZtJucFjMKQ5Hogdq1GaL7ni1PKWxNdwONxnA7ArhXLAdzWxsbrnN5cHsFUfDjeuYGD9y\n",
              "aKt2NRbOeji3E5jddfIT8hI5BBVZdVU9K4/elocIgOOiYxVQcjLMvpGjoD8tKkx3R/6q15MU2tTH\n",
              "PsO+h27TjvDfJYypa9ZNNGRlyvEdICu31rA1L1BftOixc2DIfKE/lpY7zvwnOx8dJWabRcoJ3KDL\n",
              "9ReJFiuTl0FW3ie8+5+7jtxju2vLT3Gqh0ygL740fuTY7JTkoQNrSR2nOq6uZMXTdNhBy4JhInza\n",
              "yCDDWPcoHWkJLw/414af9lyHvDjwvWIim+sD75+A/h7hrMC9KYUfJO9TdIXo0eKtVsXsl53aYn0W\n",
              "9ZzYaMoR8YH8zUEnGyYIxjI60acDMg3bi/2OpzCqzbLiYP5YgJNVJ5oz2QwTFy1iZ5EcTfOvmoDv\n",
              "fYplH/7FnMSOzIkMmD/PqT0JULXLqLUPU3cWAFe/wqNAEGDMDUi4Z14KSd56mI/7v8Uh35vv4N8w\n",
              "JQznu7WBwAwSrquLlwvD8V+5kYm/B/TSv+88ZI+xI/t757iRxAfxks4tWbjOLN3B2+OBgByo7a28\n",
              "R0pQDsHF0+/JtIax4dI9VnwtwMk/L4mnjp3jdgpDWBDwKPSWnTQXbdqTh4oc6SZ4OmDmaozviUMG\n",
              "beXRHGkxayaEo0d+2x8luFZZpUutZ/HdENqSHy7fmoEZJXdPqpBnZZZa1kruu9m9MpTznwYl0oE+\n",
              "vnTm6fZtmscv84SciEJykYnZvyXmguAAlea0w3UEECiXUTXfdPEN9nO+gwv7oill4KxOHV1WoeU1\n",
              "vfeSrGRZfRBHeEYCfpiXMs9HNPsZPhzlDSFq23RUfRxypBTFrFfh25lcsR3nKHilueS0EUznDXdY\n",
              "qH5nwMEdvU846AU6p8vPMnE2lc5e9By5NlxHRnA5hZIOLVqSE68PidsakNG8KoQhtLmaUNg7WPBR\n",
              "nO+6WKHCGFyeWsC4ukQMOTX2318IgoyGDosujbgEf+T8qvEp+DDOkEN12x74KwEHw40G61hsFpj4\n",
              "rcEZaVXnlc9voWYJ/hqFcu997d2+rosj7A3fZsGVEQLJcCxDaT+R0d3H1S7Le1MTAMt++iBev9Qw\n",
              "pb1Omm/Wt2wkvA4ngNE0yRz0/vHcDoI9+LayCPo7IMDycHM2MfER2iii2QI/DpJnF/MKJBiL/5xH\n",
              "vlAV7SGgddmI6ATVxrUlZR6Tegk75iAgAcrl0i37FVn7yOpMG/YexiIg9R/lRiiDzrvwZnH48HJO\n",
              "thrc/UOqC4uEuYuZ496lMiqPZKFWj2AuvlKa8BcV7osuUgNTWAUAoyYZANk2is2MrtETolgQZVl2\n",
              "yawicL4NblEQ530lBM7YslT0vpu/JHzXWyJrNx+BsNigkUljV5N5R69xSVCrebVAflJT2KBi6Kkd\n",
              "yEDVWzuSRAZv0MWs0C9bKr7J1kjmQc0xPb9cUmHja0JeIJkSfRos4Ipn4TAkDQclwcFHzJ/exkI1\n",
              "LCpGyksK0Qp/XheKN8TpewA0Bc3h2/uP8AvM2N6lyMF5ZnzGlJ+Agt4t44sA0N7lGfLUkKDztfXb\n",
              "T/iU1AlVEUVb5qPsE6lthcxecSSi7zp1ubRPpF9EcnhosvajWshPxm5GYq5kktTjp9rTuSZ+Bckb\n",
              "/uoml0bleSTviyqlUxClsWGcKl7P4tR4+yeJ1QvZyi6HYX/90AkiDj+Qr2niSryDBwGWu3IMAo5/\n",
              "LOmujgmcFYI6alAtsQ/r7Olb1M3Cq1oDF+rFH7E+WWepXyShSfd+12pM8KrW60cfGCvvBBw24oq7\n",
              "RDwBg88WWM+0d+28uF0olKTs/WxczznFNLoO26thzijJ4Go1V51yijp3r7VihSsUj9mq//amskff\n",
              "L6W8JtdW73BLAr2w1LtP1GQcBhdaPxy7fVorvb1fl0iY/hQQ//KIXSWpo7Hgsj+Sotxzd/B61QIg\n",
              "3h+4or5PHE8f1pa73oucw6Qzd3gYsMS34qmBPcY837Knmk/Spa57hGmr6u0zpV5Ee8BDywJEkIkZ\n",
              "5nki2nTrxeq+h0+ltSk0uDLwG5ODov+nq/Ixvm52DktOLe2rxTbESGirFBVCvwaOcKmm9peUFmLM\n",
              "DjqpxyB2/04hhwSoRRvJJLRZf/wVp63c6g8qeNkDbiDzeGhT7lK7avma7Q6SS5YrI6u6HyU7ybn9\n",
              "meh4ZfBKQFfIZ2s6M+Cut7oBbayRs+IkcVOLbCJU23fVoCvP5wbadoF1NjopPjMvGyobTjQnBa96\n",
              "GhXxfF/UfpPo3GtjQ4gXGQ+Rdrrzza5zRx9JfNbn47x1QKv1ke1sspR2Uuw2yE0B9yWLLQepRipj\n",
              "cGSu36QzlFTLVljpQ5wOUUEd4XYrgE2ox2gkcYeb8NU38Qw9n5aK4REHntLgyyg4edk3OxON3Yy7\n",
              "htVm0UHNOv1lJR/86Ybq4qQArn3MSOb0YTxruK5+LMhQsnfv/iXVOj+UIXYbWYL2vrayG12Ds+jv\n",
              "okVrpCztW+P6nIHgGvKwazt+2l6AmZvzZKe38nQ/N4vy4eS28MvzcDdCOQb6N4oUJbFEeqK0nQ9K\n",
              "QulHvvjI3yibs/1i360UEyvNb69fyLBFpQ5lUqHC7YTbT0d5exkgfIYoX38Q+il8wEvXQ7kWaf8L\n",
              "EegQJ69Q6xJQ/2kO6w3Z2+yI7V/My+mFURPcl7CZWlsuSGpnpmXXPTI1kZw+86adlaNF+VqXdBpi\n",
              "b2cvJkZ4+5GceA0ntnhqA8VUVyaHj5lUleUHqwABIiRQgzi96G9kK8InZI32gGjXKWP4Avn1ZZaf\n",
              "2y5HvZFym9TAPpKYbB8v14iFjnbkWbcu4fbBAPQfx/iC0CKAGILnQYVe1rvxd89jC0d+ePRXkaY4\n",
              "3p7T+lZ9yhF53j9Eid6L/3pKt2V5/9v+XFkE3bSWcCXBIC/RQpRqLatbOnRdtMPzD7WTIyEi5A0N\n",
              "j0V+XrGiR77PRRs49kTFK8sRGwlx/VCtpoL2plxMOVJUrzNPGB0cxBuGzje4FN5J7wWzTnDCYPjp\n",
              "6KTI+vaO5ah4WoFVlm+E4MvULdblCJK1ZlDZ/SJxq3iN9nDG8ZS1rgV5w3wVZUTpl8vebBkR3Ncq\n",
              "GPIHKmyVuy3FltX6AKHfqg76OMqazlvU9zf85XgOi6gsV+JvrrallYrYiqwIgDOmwPUoxdnlC3pa\n",
              "xBhd18X1ZLy2jb6vUGFnDD9Mt9j3JfNBsNOm2XLMjRBu6KOb9AmB8lhjB6YNKptMlDgpbecZpLu8\n",
              "Wya7/vX9TDpTYabLmIH5SwOwMQHPFkqWx5bkwAALqQAABz1BmiRsQT/+tSqAIo19OABJimdcv18v\n",
              "Sl5wJmSJRhYyDPTuBJqghf8F/bQ9I6mMRcplgTY1wx7U3r9VDPjr7+6mQbWa8cUfUmqeICf7NGcU\n",
              "a+DL1qXp2KYaEUdxaSds+eG97zkk6P5RcoMuidla6cUYqF7lJvABhBIUrNseylsZolDZ82NBjTmy\n",
              "OIYMBUfASwSDwjHHAfOdKGmkpnODG0Ai1jLUYQecBUeN2+syuNXLj1s4tFYTcHPHIrEExoHaQJzT\n",
              "Q+rsz0lKAGarFbslJ4/Fc0Sq7YbMnxzA7p/qrukj7mmCsO53mTusWx2WarkZfnWe2RfTUpNXoAnm\n",
              "YjvZ3IWGIKx0O9L5A0ase2+eJA0NTtufiASIyHJ1/+nilR1wKLuLyGtsJWdBM2xTsf/Siv6fUL6e\n",
              "dKVfg0sb71XgW1xU6OewkO1vv25ospnIelfCZFMXt9IxTxO08htNobaKX//gKajn+iBQ1cqpRDzL\n",
              "GfbEEYNBfXqKl681/KwP3hSSEAa6DEZXk+EZo9zQipoNZ8N8Z91vRxvpFb/agBJAeRjiH5gOIwEF\n",
              "5iuTlSwa3Wb+Hy7T/88jgSHyc1pvTdkkUITg5uAyUzdwshjaUkN8OooUmujCS51yApbV9V80k7Zv\n",
              "XP72WwBpaeDNQkKxgTAo55RzORfEJocQjp3BhfaD27Gf7I+/APPnZEpjtN86F8mD1un8N80B3pPd\n",
              "1lTg+hYetLJfvcL1V28UnZ6E7YrIeX99GIAee0m2+ghj9NlgQs+JR1esL2iDcofO3agZZZS3ewn1\n",
              "Z+DXMlHGeErwYswcZCbH0IGgq1GqXSvOI5bG1MZI2+mvRQmt6EE37YjQgxRyYlLo8OBxy6fBgI7J\n",
              "7rHLNscQilpR5O/JZ9xAjOEkb+etwrAS8fMigzLe7TqMkK7SR8MZetcXXnDTIPPnWc2X+rfw/hsW\n",
              "J0/SS51PNzB2abKBz7tQkFSYffgCIyE0iSByKS1S0kXWX2mKPZibaSk0pH7Bztmbv+iRhleNe6np\n",
              "L0A7VPAjGsrbRO2K7LvaZncdpyxR0BbXg8aT0oflBr9q+hMQdnrYhh/6FuEr/qTIXGe07Nv4VkQa\n",
              "kgxrPaG0W5kLaUljkB8p5yKJUVqGojNGlrllPu0sVspG6eyyK6fMn6Trmqb7OOeFYiUMpo1StVCJ\n",
              "YPeWHgX+1oCMLwm3FFolIDl/y+sqNcE87ulfdv/5ocxKk3pN3VktV8Pt9o+nFpEdmzD+43bo8GPf\n",
              "yM/CJV+8RKxhZgq7Wgu/lIFovi3XMyuCMZGTIf++r1/EVTBMTdnCDoMAgK5u8RBmhJk0nFztXkvC\n",
              "YHDMCfu4flW7fTW5YVJ+Cs2jEDikl6mL8pY9IF9lHdRWYCTGuq+HlQaMEwNz9VJxW3FdXLHk96KL\n",
              "JyQcGkflFfn5doFP3WJcY5JHHmwBwsgz4fHDMQvY30jUgyjLYarNr4xziE6VQV3FbhJGYVdUgLxc\n",
              "Qgy6lYk9JRwyX1yLCssHub8SgbOnTU0POhMdqjJNA8UsdSA026s0poxFOb/5fK6VZZ8c2px/1Yf4\n",
              "k4QLWx5zlVWi66oLRtCkHEZ+XU2L7b7qXAJ1RWTgY9a2TQzRq2qN1ESb5xQ8I5D4W4amnPjIQhoM\n",
              "P02/Ci2XuPrQ02PbfOcrXvYNMAKZbmeMRuYvwG8yybSbeawqjAdC8pBdJVHIfq/Dn2BNTRWFJgkQ\n",
              "tZGcxZIEWgAcnx152m3yC09F2IwV6/ufiZjZu0yxHyi8meU80lVuRso/UUfrTFx456vUIPYD1cAd\n",
              "9yELizoTz9wl/8Xlvnr+VgvXDhnwSIbHI3Sc2LQit+ZG0spBRrpmtMTyPMDRVVF1s7iL3MeP8cIL\n",
              "x8GCDrapc3DGt0+oUsvS+KnZ8FyiZoiMhlZRr4d0JNKjSOjTJVPiVGp2DjxABYSetIP7jwKIGxuV\n",
              "hxuJM2BLvtlL9L9BJWWNNMaP9Sm2euqMkQrCt+GB18rpDPZ5vtwNW4povZHFTOeiOqJyz+jWTns4\n",
              "Dur5Zuxyi/70d9OI58y7KeY/Wpepub9AqyoosLaMnvxY2x9Z/U3Qay0Kl1BC6R6CRaGsug/KJUoz\n",
              "BovMpqVVGdYWq0LWgfBu7dGL1L5+1Ff6X9wfoDG/q4Wt6a5W/w5Qj0UhRYbAMEK0z5S40N549x5E\n",
              "0+xx7FItnzRLTSt7+AufzzPZARDxOb1qMqcUjFhCT3oiSl7s7g+X349q+f6LnCphtZABjaBUrpCp\n",
              "7CC6qlUcVmVnL3lHwK6XokCkydYKV4Threa+qrSmaDEez8QgOz3Cso44AzL8unu+/KOSYNYMwANV\n",
              "scmqQmVfxwIXY4Gfq8xrt4WkxcFiLy54tOAMl5DGpWe4+wg8w9kjv9T44iB6+mR8m2rD3zgNcdOR\n",
              "wvasLwIGfF2LV615E3Th+gDJWYfybrySndLPRnFnfdrLk+G5IDoJa4UHpxoM6Iqj1VB/oeEKrRJ6\n",
              "q+dQizrm9AAABflBnkJ4gh8AFX+dNCG05kF3ICA7Br9cfqHvFQxYE38ILAdABLKKN+eokb42x7ed\n",
              "qt+IzFBYfNfr6NiSgnq9XDhvmxd6ihEYpqlY1tieVrjh3bCRfWNWZciPf/gzkZzuDW5LANMaUXp+\n",
              "RLXq+1snGPiT1+BJJ0Oa/lNyCvGjqiUYDd3EHnedjp77pXfXKRVcpKjYGXQAgVqgtRA/bAFbaSPv\n",
              "ZtL6OUwHDA/hLNihelZjPcSUFM00PjYv1xplkmz66hyF6b5YB6lNrtCEHtYxyCpP1eRGZOwu2PzV\n",
              "YswI9oGyLiseXWF7tBE9z32WSsGNUPixkH92h9xtCvjtS0pYYy6vF6pMeFPhpFrKudqMZT3aJzHs\n",
              "+9U5wj+Hz0eOMDvLpSZZ+IfV1ZQEo34wfk4SbcXdS2CJ59S0GtXj82L2zfXcBNLKM2+sENi8IKMw\n",
              "ADzacaRKEniuQsONbqhiBvOOLr2kmJQP1ltT3PrPlYADCctT3CzW+nUDsaRdt8QEZphn3keC+iux\n",
              "ZfdNY2v1TmRBzKVsq5Ol5OFWQ1jBAvDWJMu7yMOTYl/EkPDQsyOdvl5ywapz2Gs2dgon0rkATA2q\n",
              "dj2sUZkGgJdcj2BGbYH0ozubi8TT29EeBoirOXAEzHe5FVRBUoJfgopkyTlXAMfeODC0vM4e6JH5\n",
              "n8oCoYc5VmMSy5DwNaaFc1kAbspz7upCaNKcS4SUfJ5DhKrnHXF6RXSf7E6Ncg59RjgDO16JVA6T\n",
              "RwEeT5xMpPns9aBvZelaShIEOsc7HHPCy7va5H8m41XkpAbqEsK2lVoPcih0+Zxe3bp8oF7aDRT8\n",
              "mv60GZCdHxi2Cd/tgMezcFXn1kwFxHZ1RdfWP/eGmPtr4nCNDJFITv06piBgHdTysP1KaheVwHLs\n",
              "yzB6+CbpTC1MEtvUpdJ/JxxTjyOlXOwYb0yKdYv+0outyFiwYi8KDcUaNFhcLVLdW19Xwzrh99aP\n",
              "vkTaCSGy9U1zK4bESAP8TPgoBi1N4TEtVDct+yCMdDMi1s9vVFcOF3Qelp9v2RWkM/7uG1ic/x/g\n",
              "fvTcSVJ5dAQ5xdgtx9GzK/j+hqHQYu6FzvYSDbnQ/35+T55T6Ac4AfacE4j0FzmVN91kjJ3Q1bl5\n",
              "jrpUKrs78qi4l4ufxfE766b2lRoRAcV9ZJGOW1LkAF5+0QSkRiCnPrNDZmSCTUW0/2FMDlWWxYEO\n",
              "WscHaeS5H1jicFETsdmNTROtDCmkz+wNMz750FN4zrX7kt2Um9qWMn5wVthKmLd2o4vI4MPJr65H\n",
              "qV7Ae2eQHFc57dALTY4/fHYzxWzlJKS/gzs4GAIU7abBm0t54kq+XvVynx/crCQvBKo/e5HrQiaY\n",
              "xCqUyQYhtg4memMPLd5URwEoYwUKMNsSsEC5vY6OrO/Br9eGG0zOe7N9MUWVc0iqu7T91iwlVtuL\n",
              "/bHd18apRG4UWhsgQZ//V+xPAB1Fb+XRApqkvj9mPpWqMKPNzEn9JOYrEe7wc3l+r2Dk4U7p4JUW\n",
              "I9cKFPGMl04Jj1PFIAKtpRtk+jsF57ZKmMm/G0qT9kMrRdqpRjbWsPYY+0ezCqGVLxSeil2LHZVx\n",
              "CvDmGSUMhdlYUlU9Dk+R7BYMbszrbxaNysAbFUbnMSFrJweE7QTlLZonzyOH36ZMlZtpGjefRQty\n",
              "DobDQ3ByY3a+pwFnXlPK5z35YV93ZASaJBBH3Ue9LaH3Nl+lmD7D+7KairTsx4c1X7FDBGAbSblM\n",
              "Jmll37XD5wfKcfuijxqkc+aqrOmjObJMMU0LfejWOYCVM4S45PaTbvJBbIv/FtU8XkIrk418O2ui\n",
              "8ngIOndTqpoL9odUbw08AyEVlG8PDKqowyxNp9pWvR/MTcTo41wJoGkwemINz41D8vBA6DAZRTuL\n",
              "ofZNpVVI20DZz9VPHXOeStShg1lDuzkHqJugyq5eFRgi2w6Aj1y65CopyBkCJG4H1UFF+KF/eDVE\n",
              "RVJg8WzGaNBgBpv0I4feVxD83qFPznQONvSVfR8BDEzTph6eWWz+i+Lq2dc5rLceDtVTEb55FVCi\n",
              "qwAABFYBnmF0Q/8AL4Lbo2+2IT6fCjravhUsyIARldV9JBFM8p+0x9fACFwNeMlbgFjGMMzf3/ZA\n",
              "68sOYA7UlZRq9BKKZG+e70lS7ecqCCWByRHDqBR3BAljBeXhltI6syJfpoeyL6Wfp57/bbni7say\n",
              "zFJ8rubczOauapeKINZ5r8Rs6g8fTVigOnqNr1d9hPX0l4NTrvqRASEwNLJuoNhJc+on514D/EXS\n",
              "hkVwQEwQKVIsxjyhzgDRcFr+xE/YRBjZoumFTKuupKoqs2cSw9mWLac8RiAhZVCLUK/2B8YMN9Qm\n",
              "PFaB4UySJtnuOi7/Ma6qC+L1LYnmc0b6COb0yuGbZLHnD5MWgthP1yTOtBlcIbc2+obQB9nQ9Mgb\n",
              "mxfCJlfIpCMeJinL8mca2abWpSnVXuU0m0lVQ8V2D7+f/tf18KWj+KCO+rcZtxPJ9/xSRpqArzBq\n",
              "VgWba45xN+NJJIi7u2QdsrHEER08uAtRqKlN5HkQMvDbUeN6lV0oSI8eul1Xcuvc/jg6FAYywwVZ\n",
              "GkoGZNsZjvbf7t2c7Hnqoqgkhkq0VS5GFNRv940/X5j4njtMzFVNegYF4GwRAojeDxv72rbVGRBH\n",
              "0loRrBOGqjTe1Syt0uKYB4Zwlv0U+uWTkk/eq+9BzoUukFSueFQGiDen2dj1q8mMjpGREaG8uQxP\n",
              "Zf9yKs+in0BHZwPaquUmS8JdpM0fO3vkcyESOsLbR1Irn+VKKdW1s9LaMBOlN+DNwXAJL4su3Lht\n",
              "7rhRmHmpU5IX3BD4+sx9kv9+fTMCLP1H/6NH3xxQBHZvkxX6NEMhlvkklNcGFAjWxokqkYJbtNXY\n",
              "DUxp2uF6YvrUhtjLkik3mlZP3PWWNh/n07PKIPjM0XqT5FQKzmGST/RcTDYJQL9DURyP3tgCemam\n",
              "lC7oQLamXdMSGscJkxlK3/U+zt8piY/VWYMbufyGItE8Cu+zZ2WXsmG3IWG1pUT5/fCQxVJmHt/X\n",
              "s4cQfpVqIOFQ1VkgDmacdcWO97xT3wDqOzo82d9dycM/gqgBbiiVKQ4M2RzV7LBiKJmLkLDtkm/h\n",
              "p31Fxz/vq4uy4u1ohPuKQYwNAU7ta+oGG8WIDcDAUFpWALzYmaCfFHTBowCP6RKWSfLlcM4RB0he\n",
              "nLwLBvHf8wSICHzlX4iNrOy7wKc5tPlmcDf6n1fwccjwbApyXbSiEwbyVE0aLwFJxQU97AiiM8hB\n",
              "4LBT6uGJdTvGNOXACZ6iCsKMFdtT41XRx7xdOPZwSlWNw3s68WYpqRDJFZmKh0BOP/tgws9z8J7M\n",
              "5szLx0dINl01QQ8s9CUySvMWQk4Rnn0/fTMF29gjDoHalKwfh2hs0wUEaAXjMI94Ft7s3vAAuO2z\n",
              "uALAPFRwL0En1EuY5GkN7LRMzl4e3P0FtA6F/eMqcmeVWmyOnO1Y72LYavXxkwAq7++OBw1kPOWQ\n",
              "HK8Exbyfd/xL6iTtTUaFnykutNZUbMkcnMwU7ClpgUkAAAP5AZ5jakP/AAMjmcu8C6eH2f7lu4Av\n",
              "90GHD0BRoHaVj/56hapsknf6OEWX/oQ9Av1NJsRJwChqYW3jqyzVK+o+OzPTALuOGU8wee/zqz7C\n",
              "d4aE4n+WE2nvkf30xAjNJz3D4ajUXNDp4zZ44hCbJx4iSHyIEaRsi+MBZ/LJTF60L4gSu3cYtGWN\n",
              "3jAQQEb0BnkUtQ21VN0mJoY2oQlog8EYP2wEKW6MEkltZSAer8lF6cOJ9W8ZMvqzMSjv5Us1QqWy\n",
              "p4A5zEb5+Ejn45ubaGcVhpj10SDwllnpnlW7VDHtWCt1ej4iFPgTHJV3Uw/aVpY4bZnGUAgyFJvy\n",
              "3wTGYXRJvt5DmIRuaCixmGLWy+oZ3zBAVoAoPkaZonhFRbHEH/lMA38auFyPIq9sgTqx0d+9cxl9\n",
              "HjRQSkzDIBgXve7Ws0lwnwp8KGyBrJg6nWrotHDtaZkOmKdsCvkM/P/lPZ00eb+EQVPL/c3+4rpU\n",
              "eo1GSI8YYPIFSrD8sKPsGnXBvJ1MtAztvGvqIG8WfxVaq+F7VhQ21yKh2tRFHISowq98hq8Dexr5\n",
              "1qKEhq3ids/x0rjpAhuFGixusjXAt2oMU6CYMpTeNh15P/9dp67a74ncGRDRpawCyNCtn9yFvdKQ\n",
              "3H3WfJXcrgndneRq2/kXTL5DiiTcRPMHumu3RmpeAJUxfvshiq7T9ccNsRmQv1bgLipVWFDKX1I3\n",
              "YNb5WyAAB4GINiDPrzVp3exKY3aBfjWJd/BPNnwgTyNZRYjRPwDnnDi0SJ7zXByP/TY/zEg9fNrR\n",
              "g82VuLIWo8bdJhLRZ99aCeuvJQ11h0qk9ERfkReWtWRvrkH1QdxazPtulN4ocL4KIt89naCM33PQ\n",
              "IIt8nM50NdwkDGP4iyfsGIl0uanuT+4NFiGzlYW6EY3o5eX6sFeMrfN/kGUlOanCefq/NypWAAQN\n",
              "O66GKKWdfrbLhu7tzsXXqJr3jvq3MoGGVNPP5gAmbzTCqIOKB0UhoJQH6hDbl2lsHnsosER4Qb8n\n",
              "atBu5qGsDp5jU9Dk7q0ly1txCwB8Mz/kNg0uPbbsXeWJURQRYJVubhdNAzznRPWnO23XxKXu6Ti7\n",
              "z8Cqu36hkFgvIlQBKmrzgrUpuM4F1g7r92lsfdAhFVafA2DnXWrHp93xbffZSfoGH3zOLXEZXB5p\n",
              "zXaXqhhUO3VLL9iGu4LD209lnjfD4eSlSucc9uZ5aqEaINNWPbu+pM138GRZfqWT8ivVhtanzfIH\n",
              "KCFN8TtlY/bq2gTmS2oxTnS6DXr09BhosM3EhVpgmoBNY7BLOVFbukG/lCkn5egZnebOZHMqH+pY\n",
              "lmJ70BUdEznTAb6qlO3Na4CehfGZVsRq0H5BAAAD80GaZUmoQWiZTAgn//61KoAfLg98QDUekoOa\n",
              "2rRYOl6/7jIOE2E3Ce2OBr3lNdP1SE78qemKxsCdnoG4FR3E+xu9qBAGZLL0kCpP7N3JZ7Q+rpz5\n",
              "htdIYNU/j+lFvGfrCPaChixtwzU8oxLGXaz7tHP0Le2tv9/elos3Su8tUepvmdF7Wg0hOxnekYIz\n",
              "/g82uJaP7ajtJ15UkEV8Y1YN8h72RjbbDO2OYiwptrGpJ6waRb8Dj0dFrirD93xByQUuSCEcoGvO\n",
              "hCchjnOLPNgx/7uK6eQzeKl0xK+qscdbuzm4UuUF2ZwMQx/j+aBn1Fs+ihlqpyN+CpvonaI0l2hc\n",
              "NxQ4Gt63LFGKWH/LawScdAQ12TfZSpWZC2qe57s4hy2XKUKACO0CbWy8HfogD7LxSn3fgzGfIrag\n",
              "Cm6dVqjLpPr3QDhwz9NqyAQIvBZjxKW9GxXhdNB4cLRTCnLHv55byPvHuHmtDsgBUc6h84Udhw8l\n",
              "szotSuAVmMylk/iAmDjXKddaL1bib0uQN3+aja0mfgBnj3Lh3p4c5fMlG9IcAqJmgFPVSzWg19L9\n",
              "BYXFNIyMBMfv5jEPBRZV0GRSZ2L3E0Hsyi4cL65hNX1un+1s3NKaikLs4t3jfWhnggptXI+nvH9r\n",
              "iEU+spSIETPrnNYduqQ96zN1taK1TU1Wr2n1dXhZQfm7VH0ukutLDoBVEULeOdRVpWqv5dPITJHN\n",
              "Y2OUT6fpfJ7+LGGkiDHbNOCqw+nKDbq0b9f02OL3QbykGo30cfOb6mqr2xp7CMlHC1/coMF/7mJ7\n",
              "hcEwF7+SAGTLKohLhoE7sPe7rDN6GFfsVYQcnnaagwB7WpbNfYFxwuVyRbufWfbZuY8xXgjixfhR\n",
              "wcjcgiBuWTJFOWTpGfZyXzTYs164U2lJMkmz1f0Z+HAAyDfZJyNJnWhgTMlp3yfmtFwm37uoryPl\n",
              "yiMJndiGJOxwEhmbmTbYvNEFu3p8rA884W1dAeQO2PCnx4j5X1xgD9Vo03C2e8kQHNHzFxDVKGNn\n",
              "CujwTAUPLS2ayKjO09pOzaEqZtabpjkB88fZfhc5JBXU7OpncdaKkk+O5mtT72amElnjGGVe0wFb\n",
              "V6OpAaII9q50yFnKokiEmdstGojKB/9kKXqbSDm/Ray2e0g61KxfZrmmg/W48GO609PDvgwetdpU\n",
              "nmEhr2CtHWyHbJYZxTGwoxKnsFw0WvGqkGiuLY0jZr3FLNhONJKRY6c+wcBOFvL3vDnK7EV81hcH\n",
              "ECF84JeadAuBFiUbi1fgY8lMYlpfEY1/EMMRZOeFoOX4zJ0gtT3wVKqNdWLEiS0Pj9F3EYonZwTX\n",
              "U8xymkznbJUEIqqXFKyWYQAABj1BmolJ4QpSZTAgn//+tSqAADk60jdykH6JQAQivM5xXZDT0LFy\n",
              "BFSaVxE4fxbDFNp9etvDZxlxPN1rFg6WpNeFmRE63BGy0aPeM7DXGh0mBW9wlLia3NtxwZuAnRC7\n",
              "4sKpW8vwEhQDZ01DUAzPB50DjFXlto3HCwR5VPj5kXJvz7InRACK23yn842/wJ06RgMrnlxUs0d+\n",
              "UM8/7qNdGWqR7Qc0KjwcGvZaerW5wKOhGwemfBwR+4/d0uhLOJTrLW3uqi0/NCtEGFZC0nRkxe7a\n",
              "XDcTZgAZWAmgQRfAhgxkswStNUIQYSVXaXryC6cgOfx/xTW2BJKPK1sgz4cINF6Rn1OeJFAUNeKp\n",
              "wAFFpzDmziySYtH5+VpUJyLbMdD+CNZiGGH0vEjIaGxwWOu8TkeAorWO/9D19Rb5G8JLeYTYNkGv\n",
              "gWkHa7O3zICIPzVtNMJoUGF5uU3V9L56tVlltOgB5ych3DY8xW4Dw1koCm6nU96W5iVvV4mU1rSs\n",
              "+Rjae/3p6pTvmQ1+uNfgzsQRbQBUtD5U3GLOVY1BqnQjZifN9Vs+pM1yYFxsDdUFBWdXeRW9xZJq\n",
              "ftSfi40JL1vgaTSqMhs5paW9KoIAOtpLS3DH8PADYmWnDuVv4ZY2S1XrC7XbWbSBAtDao5sCe+WK\n",
              "AKmLZzZFqwMqfcWoMHIDjkP8qjjwmttQuONu2ZG/Xes/Qx1MG+6Hhju5S7GSOWr5RGJqO076LXeY\n",
              "32x9pBnHp6t7Ji3yc+LklbT3M9CCN/RB5cRfT3JxcnPjKq2H1OQ6Lciv8FqKvBrrT2/g4QHQCLAS\n",
              "3/CMtR1bk8XYqiyHljSsgwAo6QoF+bs9/FCEtymXpz+GCuAgr6w+lSAGXYPGnIBjVbvwFRIuNi7n\n",
              "DCXeYS9wRVYYTJt7sweSdgK8HhhCPYYVB747LV/6hmUoBq1zbOjknEhwcV1Zrz4iZvqUcnBMSPQ2\n",
              "HXN9H+qB+Q0eM/C/gnZ7TiBSzbLreAsF9r4FdpMgp+gmIqI9jDPa2SECvepUPAZVf5oJby99FhRI\n",
              "nMeoX9bzP6qbxFMeOPrib8410ovQgv5w2eP3mmaySknMgSyHKJbZVA0faLC5aP2WEBSzko5F8B2z\n",
              "nc9SsZsTY+RC237NbuvSY9CwJgHf/s97EPm6Zr8Kyo4HPSIJRESvpm7UF5hpQ+f/IIkLxP23k+20\n",
              "mZnzoPZ1abWIQg547oUNEwr7C8TXUXf0fE2dZZnricI660as8uBmp2Rr+apv+X0USEijg+98F/2L\n",
              "MLFehVw06MGlLg/9crgHgTeFCWaD/A5c3jP3j78YTptweq4zHLKh8LFtZc8ERUMpWr8854CA//rh\n",
              "XlzP5AQLKY7H34Thuyll1KNKiLnWkmKY8GA4A/UvQn5HvHjPwXzUohq5Re/CqE/6zt3uM0/q8GUT\n",
              "4ztw/M9fHLEDi8CkIJuIPHPujjl8rVFwOa9utuvCIQ9zHWsdJKXVNla/d0t3+I/RH5V3O1eIatk4\n",
              "gRfh3uDvGoFf21EH1MYpzjRUJTJ3bflzwl9ri3o+5qhnP+37cW8067ZlcpdltLSgs7HprkWvDprG\n",
              "Iybl+F369xiqBWddYBY6BN2d5L7lQlNHZdvkCqtEGMNd3pJkRBiOi9jTzps4Y7CxsWmT5f7lJSTj\n",
              "Rn0s1g6EYydjghO6vkECYtkHktDV2G80/s54F1Mx71PVCVSe5+IOuKuGOeefhF88S/tSZIaeaOoU\n",
              "glKShYW5tvSVQnF2vTxAqdS4HxIrxg189kvxZuCHQ0P9JrzgBpXWOHHEr5KeUkg4fggYWJN20QMP\n",
              "jvFjcmNkbz/iq1hO59gY3aIanxtu4P8TMu2DClshGcL/XopC6j8PN77lt28QyF9st4OhOOs+fkF3\n",
              "qrVRwmSfbQGk5SNyFyOgPyV1raOb0kJxqPO/RAhO3fqj4HfF6HoInCmwzBHMGtXMkkVrf/l/g4Pr\n",
              "tJJIDVzDWZTBx6XrqnJQV++I9/1NYM5tgTPrbkk5lT7dtp4Vipsvxo+BplRRF5DX4XQt9UMqHzHM\n",
              "KdXNnARpIPG51JJ0SZPOAuG62nbrNRiY6+gXeW2RFPz0KHhJg+faUuXs2LL4iGnghBtZYfQW//Y0\n",
              "iS1GLgiwLLpCFnpUEdILsLkjSx7tAAAD9EGep0U0TBD/AABogn072KCm8v4lfvoAQp88UZ+pg1bT\n",
              "hG1WG635YGx+ns3ZTbzSCUI2Ybnipem9Noc5HUFLO0BC9yeNUYB2HOLZRqAiS6Me9+JbyjSqIfnq\n",
              "TL5ZETrM+sk+jstylYEhoBzfv04OhVZBf0mNYEF4Ol2q8EnT+MKwl5m/FlEtqJZj05tDYINSNIPx\n",
              "jyeSinNCyTH7nSwmLP2kFaUxR2QZ6BR8kzt/qk2wqGza2BqSwvCNz98Q5QkjED0Db7eA8gmj9wtf\n",
              "LUjQMxabxQ59ho/J5GBOvfeNhya8I8p2ShWo5GNmGqzD9N/wtdYLrG8yr9cEh416nNL1u+5RIrAJ\n",
              "AI+CWmAniBT9ydbE+4dOTKFhEk4NADAZfUAtr2I3Fam1JY0pb+i6aE2iWoPX8LO8+WpM8OoPf+b5\n",
              "h867sxx6pxe9yywVNt2uKkksbWUBFlHR2Cf/1OykRP86xipqy39VuyfQ7XjiSkD8qg4uANHA8eyr\n",
              "oN45sJYHPfohBqaTpgVn/tYg0CD1wdO+Q0GQJSth5sqwmeABR3Rj+8riu3oHkxpajnEJH/p8eyAC\n",
              "yXfAlmu4ppmYOfuLRHBFmRTP151AWtAxgSFn4S7x9vjPj411sw/VqGcG7Xrw5EeFZpTss48f9zX0\n",
              "s7hPOkMfKi0WkOS4pfN3C+ebncYI2s+qTUVloXDBVCA3FfZGJYog2WhWW+3J0FG7mzcd9DKOmvZ9\n",
              "DSiq1meuntCmfsndaRaCN1JD5TvwNH1eNBqnf2/NN8FMMoHbhoRkLfsItPqg6M1iuWr/UGlIxdjj\n",
              "3RSZgp0cOVv3Dcv3zEDvw5r5ebd3oY52dtUbYFZoN7T5i2bu+lSGJV0VQpIJL69VqPleRG+VEUKg\n",
              "49EVLuvAP6U6ZxcPaInOgvvBoLcllWZwbZGAdB1UnPvL/YGSSUW4jfcdFXvrlyKeOg5II3qQEpMN\n",
              "sI0IRL8vDX9SWpK5dFDHEz4xjYdo0MGgVx8a7cNaKGHHif2x6gGIiH7Mnk0j594UZhitASA7bZPi\n",
              "bPrZPdeIxiirVx+3+UvQXFK7jRmfc+qhG3IF9vzATpBzkaVTTujV5YVo9+oIiDEtUxaLYamgKsbn\n",
              "NW5HYLGZ2xPfrF8oGGmwJMWUsZo/pKpvjogSsYtkeWsN4vdiMMm+4agUcz1JJEuiBtCxWhJIxfs5\n",
              "pc+5uKtHtTY9EHQQma9syewc5voT1Ty8kkMTvjeV0WFFROOfQp18saqgToF9lvwW/1olOA/rs/Gr\n",
              "yRhSqOol9G+IhAAfTC+7M+hHQ32XRsImuJ6YTZ5m9ljNb8wyBM8cKS6uk8UIdArNimmdLQv8+tEe\n",
              "0f6ltK3lS7dzBGEAAALpAZ7GdEP/AADn19SOwuoksHxBdSF+IEaZlfx0zIABKte/33OM6aX6bcFb\n",
              "/mR1hN5WrWeRfO3lZJs2fNpk+zOEiUyDgwa1etGvCsEko8SVlU9QFTCHSff/OvpPot/6boly0v9H\n",
              "TueoNYY6GyEtR55q24SFwu0P0ZZ2TLJxdAw7Loi7Thf+08GCPdbRozs7944Aqlct72NS3FNk1Zca\n",
              "OaiqYMOosgSyZ2Tt6pDtqx5YukcReAAQInkyz6xVC7bhkEtIUB/Xjhu0cP50RE0EzhyItXPSS0BD\n",
              "Odxhkj4a+uqFjW2rVwYZNYxpSo1OAZ6rTJhoZbA+Q3Jfs7YM2/LqaYhiw7IkEs/YmFDZ5OjP5Lc6\n",
              "oAV2Ce7l3snnra9B1c7DfBPM/v/+o/aNUaMOd0KgpRb0fe/xMXy88c1pZ4y5z2Sus5SRcD6OqCnm\n",
              "UWjzrzMeTdyqITzTIJjrul1OuadreRSwXF9gpnLb0U8mTTzpfrlYfyIsOOWbXJUqi6WO+65xgmi1\n",
              "/4l1UXXUggkDfOtDitwkbjoGaqFCKG2PBMX5aCBkn7VSiiytB4LJuB0ogpmWm9FgYMBLDI5a9ZWE\n",
              "w5vMdS8As+cd3GPvJ9rTiZqyIzqpUZMvSXoroUJ1dos/+/fpKmuqX1JaIFe5jwRL1qhhXc/jMtHL\n",
              "/0IpLg+xFlV6w7Y6heg3xk1JjraB3GwYcgHtsylZeljQuhvuz1+EIPg998BVqOT/KlrHCRbfOqd3\n",
              "zkfwdhedaQSCVYTohdnqKp9QDMvglxFwJs885EMDv/CJOLqngf9yrQHMokwqwC9FPlFprW4yiFyt\n",
              "X+ETwRII8ma/Aimd/Z1o4CsO1iFvSGhheneNHPj3evwz1NZ/M2kBhCtXnN4rn7fOixFLbvRJT7zY\n",
              "b2QvFjRKtbLcSt/0XuMmpoM/PXDd8dmchvr13PZrCPpkvO0M5ShrZMyexa9sqbryzTiFU06HX1P6\n",
              "8rdhA8dQIioRp1ABYKruNHJyMAAAAykBnshqQ/8AAOf2Sn9ZUCL4xx6G+AD6hoLHLxS4zaKfurNu\n",
              "2bf4q2GlIkGkkG4pbKMDunnDa7jTnADlW9biwORsFkf+QEm6yfNvY8JgAfgMcw1ZIFef9D2eoPaP\n",
              "8lAU67W65mumV690u9j5Yz/19oy6nM2/OYw0mRZSQFLIZFpSuglpeNfup68pEUildHIoN5e2kF+h\n",
              "KJTs/JVRG82V+8NXfDIZkkvqloPfoFyZn5aQt4SrhaVAlNZLhARvx/hcQXNARcMSCgWmitoWtS/0\n",
              "zKzDnuh1ATrW0mrAGYcUaLCLzOndRMkk8QSa4K0upNEQZGD/hnMwhzz6H6DTbKUy8d3TqaMSF/h5\n",
              "XwJa/9cxKgORhFe3UkY235GyIaRGVOEjPJbkPL9YCz998gpdztOwthW0C41npY4LFjhNiCXlh1RZ\n",
              "SySGWOY5lqvwLxHSyGb/deLKhVsKT165vEknj5VSqx679EZ4PiGa/Wr+fCaNAWnuIN/NudS25cex\n",
              "3CeqMHm3jwAiIQ52HvJb2U14wshphV0A04kmIsJKvUXcZAojeVHbfoEwSKiMZNX9OK/VBD963smk\n",
              "+Tph6xIgkiNJ9PxLSZS6r4VTXAGWTQIxm9HTQUtGqKw5XXINbKhoa/4Et06TyONeLa4fHVYHxrOF\n",
              "6XF60CU0rwCBNvc69s7+NygytpstVpdY5ddWSYFzvrLNHDXOAqUsbW3/6Si0SRErfLQH4Jnb4BoN\n",
              "yNWZF0ylvGbqtOW1wbd45RIbNFWSwjMKj7mkSF/NbD/PLPYxRZgIhdsO+2/ouO1Vm/wJmuuwG+vy\n",
              "UC88sW2HzQZ2O7uXzaGDLLiZm6zwk9fV9J1q4DnZDe5ABBsCmNekqoyXO3Rgjis3s6PYpwOVykzL\n",
              "+Jby5ecYBkZWOWFiYljstpxcwBniNCQWSD22RVMVH4sa/7/+ohQ/wkU7bAacmnF2ktYNbKnvQijg\n",
              "Oaj6SJeAYcizjz4wh3Ni9p52uq3XLg4dabfzngQ1vkSNvTt8rs/LGf1bUDyyBze7w1L6hbogBOBi\n",
              "ZrQF5D9Om8YYlVxlcdi2KgoOn9lejxFEfq1hQ3z5uc1PbQAABjNBmstJqEFomUwU8E///rUqgABy\n",
              "daV/+QfIQABy8Kg/j+0q41K6RQPGLFPcRKnyl4i0jZIKp+E0ZnXyc2PZazFhOzPv3PXDpmlFszEc\n",
              "ieOUiB5t2YBR6Bg6hHhFIgfK4NGGIJwyVMsceAaxXUGoMV37R3G/8bp72ffZssxUg8qi3YePn0/H\n",
              "g7A9pn/7WFM03EEE45wvtJ8DQw9haw2BBwwKHdbDntWLXqygVGR+BP6JQPiDskmDbfHFbPi45jwh\n",
              "OdDxfSIfbuAUH8BmFn2MdWQ9MLfT+xYP+GefGd5xvKJI6zbFAw3kuQaEmS9saPAHDbH6lao3PrD0\n",
              "zHs1dKkOHXx3c/OD2+0x2U1sNsB9y+7FRLXtjf1RDJ9i0AvzKvtLXNJyj905iI9r8OAS4LlxZndd\n",
              "N2yKcEdPbsyporwY8zdXgeuKDVIiaMXHtxuU/xwEpKn9ub3Jk7ZX/RMBtdWQ7ZpIFko7zRM++h6F\n",
              "DVTm5Ask+1JXTrecL/1aA23SaL2ncVo0ngs9WU/pt0CVvXHo9+DpLpSMv/Y6+4UVexUnDHgfmqm6\n",
              "iXKq6c+oQdw/BZ7Uz/xgCJQB3JcsKGmEzpMp48irBA39BxV65f5zsHfp9RmiQ4O19wLp51Yu3SCz\n",
              "+K8Mig9Mh3EPoJdTy8ZBjRwjT+TwjTC3ZrTg1irbzcbdhxKLyJTnbmLPGGWtSiXPzgzANeufg1pV\n",
              "UP5hPSz9jeTlrjClV/uFvXLVs1im6NvVDTPxf6QTJ3LIsTgEMDdeFB6Jp5RvzQV4J6gk4wNgid+m\n",
              "XOKAbpLtoGL8fFmShd9o+UsfgR+ek89U/KijPvpokrVeW8HyPzJqmC33AAHlJoB/fb+ntgUUunWz\n",
              "I5zJt9E0gcgZL7rOsyX3cfzqGWvp1nEdqtMIlKvvLTuI7hpcZeiqJqNY9fZNXTKpazCH43+jrCRs\n",
              "Fs6Lc883zj7LmMvkuHnwfg2TGePt/d12s+G5246pYQgNg1MGHoWWSKcTEY5SEMoxUi2yCVtGf8D/\n",
              "ioZLW32vxKY9zrjT7LCFag53VPwZXGnzgfIHXtUJJdEqh9jpbexttBMJ/q33J4lkLLKtlNukoNoP\n",
              "AAthfLXDmF3HB5s+4IoRyIk1A6Z5KQlr4F4nUS9gR/k3Cy/xRHDhIkktSVd2HqVXHMNGH2a1Xi8C\n",
              "n83f1kCrJaIHovl+6BB/RMo4kZrVor+6u69mOz7w4+QCnK6LZROZf72y8YSajRjRudDF/9UVNrAx\n",
              "NslPrSiM2qs+Ud8SOgdKsIbmsh93TNzPCLwI+tGcw3yfZAsGwNEZsw4+zUQGvIFc9ycnHn3eeCKX\n",
              "tiw1C/vGFfoANhT+MG6MDVn+8g0LfzcM8ELwJUcMrmq9IrRm1FQ6BXsrk175pLP+RwXwlyuKM+u5\n",
              "M8Wflc4jwx7gh5MP1jE/jLZc0SNR9HWUtNF0ZUuPmclj4893F51fK1+5OUpaIZYgeXxxocykdK/2\n",
              "+LTMeU5ua2u5+yccwsG63BLsKqbo/ttLCYenjn9iB0XIYZwtFkncL8Vqe+JaL3BESbYa3EDNCbo/\n",
              "gWEqFKKZTkZVE6iGdqmatI6AjTMq0TjPVf5hBlbnuv9tuymayxawWLdJ2GL7PYDy1w2n5Wc4K3KW\n",
              "TGM1p0t3Ko32mpVTcJCqc0HJt7C6t7FoCUhkyZbqYA8/nraKT/Ssh+ZAonzpvW9HnM4lTxGI+4Vv\n",
              "KieuE89leHt8JwUwYl/lCMFW0ePMBYOZTBREFidBfHBaex2VSrtpExPMQ8LCkB7VBqKTHRH4H1MI\n",
              "TnvtV+Z6mNrgKKUULDPrVlzFTSUHBH0/c0Sd08QkN1zmD+UHc1/1iIh2b1dc8SbgSsS9sKRKbjtR\n",
              "VZKGjePTRZqOjWmEBuiQz9Ny1D77H3M+6uHRnT5xVGuHAps7FkMOxfsThRs/sD4dVIPdHjM3VtV5\n",
              "6riTd7vzdkNBQV/oGQqXP6lONHYBrOW//Nog+8TEnfvrZk0TejuydfM+kDr6VRlqqO4R9tsn7qJ8\n",
              "TqdwpWB30J5D+i1iy61kSj8BRjro8liB8IQHoXS45vF4Dlb96PdGwDxSHqVo/DmkuLHwR3YjD/SZ\n",
              "uDHMtL0myT/S2XMXdin/thmSO1dPZ7zBHiw8/dEAAAIpAZ7qakP/AAE+TwEoW3kJMSr8Wa+Zy9Od\n",
              "dL3OfOtXY/zFGhpur6/N9ewi7SyPbXLfZwCZxNDTli4gf/6Z3FuEkprh8wYNmjTSLh6MhFTiTFRA\n",
              "C9bq0rUq+9Bu67r2EmTXEJq20ZBlBtCg5bV3ChgWQZUOUCNo9yR1N8wBiuTBCIqQ/vtIKFbMNkHS\n",
              "EqcChGwj4955Z4vqYxbaSO8c4ubIxjStn1jKMVEDrVccd6nxQJRseEiQD4V2OU8d/1ByInh4p+O3\n",
              "Dq4Y0EOReWeJOeCEr4hwoGYggfOmriJsiX1G5mOmBwYtBRpvxvmvYWsXCDsnxx8TeGz5YbwN76AD\n",
              "5kW++bKhtYCh9eO4baUP663QXgXJystW1uUEKBeSVKxTzrFN52H9+TELYXEotVsLiWKqTLp+mHyC\n",
              "txbvLYAqK9927K7Dq7zu9eWvtOz3t8DFdldXcZf8C5NzoMBJe7lK614NjIagNt67V2Pqwvx0ll/8\n",
              "bUDVg85JFmgcxjMnaBFkqKaYSAwW2HyRd2rCr4WxAr7SZOArC9m5tioTd/VQ3YhpBEL6TbHt1iBd\n",
              "S5j/V0cXKMEGJTuyOMtnLBLUk7ZnwGnPE6Oqsry1ae7fcWUqh1CtT2vb3DuK+i0amBZEg8xHfLT0\n",
              "W7OpHyQSaEe4mhHMHEmoLEICZtlq4Td3PPIZhSOLlgbkX4P8Qm7pOJtpXv6gR41lx09bqPqy+Vd7\n",
              "azxp8k/YBRWOEc9FlXwCggAABzhBmu9J4QpSZTAgl//+tSqAAHJ1lTZL9L7egBWFuSDuYbG/DRF0\n",
              "WMhjzC3ThyIyY9bMJfg2U6vHH6f1cTmZWrrN89ETibI5hkJCUbde2x6Y5L9qzPDonRjP/GHEWIwu\n",
              "h+KdggsF56wdCM/CHTS7+dlZX/gtyla9LDpYyEtJa3DAsklFxVwRiqA9t9EPJo3L4VztAEyQv1Fk\n",
              "2gEVuvW+HXz4Fjwk3fSP9RcyC3UJag7jidI9vc166zLef7kUxStbtZXz9glZ3KUT1QYVAqhhyG/+\n",
              "QblZGn9AZgx/KKdQpl8/rvG98rFDgFhLwkdbXl5fzSXmx+wdbEPzAAu3wwhGORyruUTn8jfUk20V\n",
              "uFyHYCrEsgKHF/MEkH+6qzOqEqmj/vmSkcUwb+CZnWfwUYT5fBot1WYdLUfRwBaj8wtMvFeJuWML\n",
              "zB148qWfpOI3/vvmRe/KIZ6GvQ1SnWRBCMh15oEQwRLcFQxoL2V8IUHPu8ySEFlt4Yz67K0kW2hO\n",
              "YP0G86aPKFdObZIQEDvkwO4fOjjNTKx+Jk5ZGcVgi6VFMD8RQLnmdC9jdnVFI1rI8pOW9nTC/QDA\n",
              "irpt8YpO8TzNi/tHrqlawoEc8vaFlpYDgXtxWBgp2KcDXlve1CTTfyw4G66zRsDDZq5J2HjDuLc+\n",
              "JaGKefixGNOXZQytzh+hRwSbM4cz06TLWdki3iGkf7G0tePqdPsD0tbC/Djx/3sKHDGLjCGjOsBV\n",
              "pU6qoIi2LEss7uUm0+QnSkQ/znCS+TPPldPCQGhYb18CkSKguHAPrf5Yv6W50kVRqKV8ppd1o9wu\n",
              "0qY0zQy/mP4+H6QNZz0p4uKd9OWIxhP5G32xojPV6GK98X0AXjkqCmOETgUlpg8LAr6KiF9ZXHBp\n",
              "61Hxax0YnRArmdKY4lvSDZTAKRQsDMqJ+Vz3kObQxWpqixFu44DWiTm9KWZ3qNm9QkxE3zLdsLQ7\n",
              "i21EvwymML18n05Qgg6xhBEmyHhteyRVCJDJsRL67O+QWDJ8Y+IW3QAbXK2W7ojR5A3EJchyuH7m\n",
              "IBp/FTCAdf37s+siJZmjRe6jv6CG8Ip/84NaIbGCGbfL5KwKXy4JSu9ct+hwIToUrXM8r0gzMpup\n",
              "4ZJDVdhmgKmKhXUjc4cy9IGHdxm6X8aAD/0Jcoibu0M7yimEkz70KE/sDbRkiG/A7M6iu8EgugJ1\n",
              "xu1aBwL1HuFsCWtaSHsrsypef4zeZTURJSxXR9k0HHSw78HAhCZo2j7ArB83aqrXZQvfdeyPL3K3\n",
              "mmChy5Mz64+26ItVvOFw5P7afO7aOpjexzzIHbrcHR8jVB6xtd8HQ1BNVRwqAING2o1ygFF0cgS6\n",
              "WneBa0yrvy8I3DomT9RFCX2DdFi0LQllJf7i72INOWBmUhIVXrb7a/eY1KxZbw/cZlCWhwGi7c7p\n",
              "dBrdE2q5/bPmDD71Va+3WeMQKiV3TYC37o2beCATv80E+H8RDbZSyxKkVNHXTNSxX78lJUWeee75\n",
              "5H7ajIa4LxYhLWmsKpHLVEI5EB7uInpB8584N9ONRpO9nRv4geSbm5vvZL2kJqEyWP6EwdOveKcF\n",
              "jYAa9Wc5MjXVuO4619NaJK1IAxMBlxg8kA+AO8O8eNGDafZ5O40so0jbTx5rBg4Yx7V8NBfgCeX6\n",
              "WG03MD6guvMJEBiJVoSJnQttYANqi7Ir/sPaotR4TOjSMyKrQLmWhM5cA/7Em4+BNwW0N0JwZgwo\n",
              "yGoEVdvZzlyqAs8KiADfrNe499BpH45mm0wuTa3Z54X4+KoWEF0FhkVYtrEA4CG5s+xeO37bbNpJ\n",
              "FjxmHQXNX0YghmOSf/sL9QbHFoAN+bFlv+57tZ3bhcXWnKkem2sr5sZb4bJ15o3bH5CpSaHjr83E\n",
              "UPJrlix/g/i+qKrgHPIycTIpGOeTPWLkBBjhPbcpyL7x3hqunW5JD0ZtdyzHy2o2JBbjh44Eh1sa\n",
              "lC3R6kxNPXySiVphjzFXvKt+gSLzulO/PUMUZfWAy+LrOYiqyXfw1Scd3cTcJ1Nw6WmREOSaFDEZ\n",
              "YwX2E+dTFSqYnFukQsAWa+bJQeljxX9dYGR5Z5CRt/dDvyzrCYkDCo6c02YyvbE6Jz2fQ/sxuXyb\n",
              "APmJ2pt9Z6tfOuX2hny1FySrAU5S32m6I/MRy+SSg7gnclNWJwrzv16OOlVwBH/tmiFwTjpgQoaG\n",
              "fWLjBmOCg6v1oaOtIqIS1/zxKWMC9b3V0RLZrQCxgG4xePErTULbMP+KJj0TeO00+Q+TcGLyFWBL\n",
              "hIvtkjVtVM/2SvYtmLFEM5P0AZOff0JrAlM57buqjfYDHEAFwnp2kX5J0zIZJbWZrEZnDrI5VKlc\n",
              "enk9vv8oWztXVquRTUnx98HWC8jRggoEO1+GiCY1yyxBSyr6H1lgXsfs4sKO9mr1KbgdstzsDQcA\n",
              "hBt58tJQQzYsXBLmV36ZgS1v+caHZstaIFsUMQAk3HCfb4CAU6fcAdal4WAAAANxQZ8NRTRMEP8A\n",
              "AIzRu4zdHycJDABNp6YvK6hK107O8CailEwMPagCcNlH47efkpIQ3+D36EdTUrDAt2iAoW75bsq2\n",
              "OIXN0aNWc9toII4bq1kohC8bUo0HSsgAHSxvjFvemVQne4Ym96DyyZw+BMJFkb8/hOsD/XbbJItE\n",
              "aky+FgpiTFaqcCff8+0awCfG2uE/BWh9J9QlPRswQLivtv16a1/fvkIHonN10rjt2uiPZD1u/n7U\n",
              "qGfomPw5nclpPnI/akYa1KjZ6CXLBkU1ywsN9fGC+Ajb0nz6yGrXriJVq4AMDj5hApkGMnNzLpa7\n",
              "uHxEiTC4UA6vLaVtXxkM8RiTDSX3tHcAetzdTySEqzq/uB8gC7nq982W8TQG+UxIoqwY010e3Xbc\n",
              "k5e0iRP0dcNKdthsLByzlgVXHSpmNRxnHrxygT+7wRcCDpFEXiyAKL17XAFNyjZTnXPZY93w1gay\n",
              "vVQVbHSaCEDCuZ0SPa9pWVb3rHWBeOsdoUhLodh/BrhYgv6IZ4FdpPkcX955e/k76Fl5mNK9Wz8N\n",
              "DDdiThsjWQyL5jGIhpS5F+ms1ob+shqNZWKJCYoVRdMi/Mw5ZHuqs/vAZt7nNNwkuUzmqq1+1Rj0\n",
              "0BmfzO+RMHk02ZeyDvV1RFGWQo6pmqpFO0N1jNvWLkrqfD6a5xf4z8uvgQq1p4XoI/56MaW6fuK0\n",
              "bYEJu96IQvBFEUXZGaKJHEpXRTD0cSdJkgK/Z8+wmZbiplgEmDy4F66+SDWYPPGruboIjvsaLOZ0\n",
              "RzDlBY6uennT+dCC45vm0vQ16SVjx2gXGrZpnPOiSQSBsUIehRBdSPEjrJ6+sr5EOjkdvhUxupUp\n",
              "FUF3Qj/REy0xfRjkWpOCsbmmCeOmmC95LzORDG6TZQbRxZH3A+mYoENDDXwvqsvylUz2eA069YPm\n",
              "HkhAkAnC+d9EgEk2wwaZpRhyd91/F5s9lOhrjQFnOX33Mo+Za8j5XeOCFKdqqScAJ+BDDsImnfa0\n",
              "SOlwT+KlUepZVKdST0qPiLvB1xCM6btxrcnb17MYQDe63WcfuVbs9j+5ht9oVC1fywBGENbXF03T\n",
              "dnWS3lLrHZPHy+TE47JoV04zVMkrVEuJFq2YyDaogrcY6I/ZcuFTMUqhqhs5QJF9MFofPb4dOxC3\n",
              "k9que+xAsu0kNEj1urthzSkAAAH/AZ8sdEP/AAFHUo87jLPTRoBHiyy+olrdlvpV+cof9Ltn14JN\n",
              "/vsAEJcxcrsX/fq9nOv57zUMOr3p1ciMIBlej/23bNYNB/TgeBiQ1tSb0DiQVnSJCR3W3y6ytgmX\n",
              "f+9rHT5Ig1Ipar6O1wiPctG2lPQmmIDtYzvzjttuazow9DqJy9uHt8UQRuiYOsgW8XvB3bxC0+zd\n",
              "7Yr32H1i90xi34pf4w5BKwLEyUL9uNwhgvhLI79FkB4qpoc5xMOUy9zi8UXY976gOiDrf6uXsfFQ\n",
              "/+rCEkDXGn0kEM9pwEx8Axpnp+ngoRSXzpMmjnwb+RxvU+S+D9CFmVfOQmkWEvXdwW77FWXe5I7p\n",
              "lIgtWNrA9OhXjqAPqX9AvjqMiQ8/llFx2Jl8UG73U+kj2dXZqW3olHrveCO/u1La4+FxkOtB4fQH\n",
              "moB5rQ99fsmwg084+MWvamsimYykwUnc7YqU9kXcC1jh+cycoP4xhVVno2oxYeQ5XWQMqng/vt/h\n",
              "hma3fYGzNZZCddFrBqHbWRipPXQWCBcuKV+l+fRyNBpOSt+6f1Lx1h0HkL6FAURVa4YrxTvFdXVQ\n",
              "N3B7/Haya2gIIf7KGe1oiJ8g1pRzmN+wuLRoUdf3K09aJloT0/EvCKB04MMR9rzi2NW3pF3LWjPg\n",
              "AoYSZb5F9BuPRnNHcDEdTgZgIQAAAdIBny5qQ/8AAUcmasnCaxDfOIksXVBbv/BUoQAfvcqAB0w1\n",
              "BNaRhaN1S8gBegUAV7ZRWgTjoy+lwUb1I5gl5k0kjVqNfUvFzTUtAOtPfu/dBTiBjLoSAeH3OIRg\n",
              "5NqGEwXqqgutOfWZ6uEO9MR8FmYrM6CEmt6ZDNN9ecNACVfaORZF9rtdwomUHVusaiJHaHdhnhqR\n",
              "V4zMHj1fCVjv/cziBi/BxSBOIag8FBswRkXjXIwFRYzvXMnKvXTgSoZJL+hmYxqZJQ0CUeIrOm3o\n",
              "Q1PCyEwxFX0HBFZOkjdt9Oo6i1uhVBo6YD4rdoMf2p8k43CcoGyq1ou2L30NMAMRv2IID7XbwVWG\n",
              "jNKuV8bdQ3kF7Ny2dJZL1l3r/1xODGC6IalTIMYKXJX5byiHYOaT9a6cqH2aziMBcf/Mh9sLUuDy\n",
              "iyeG0NttBM3W18pexEmDpkaNki0cm4R7Qkl5Bbp9EdpzuKi9DXmwUJGCXR+bDcOvaw+6WiYEESRu\n",
              "2d4nVICebenozlGeYHhydO0z14NDdCXJTvMMVyGzVnZABo4gQN0QQrPREn2NpUJP4uJLLWNp4c+J\n",
              "Q/KIIcx7+q6+mXxG77/LHWVv084bWT3lsYzcvJeGJb1hAAAE+0GbMUmoQWiZTBTwS//+tSqAAOQ5\n",
              "jUDIAXVvDXL01H76Ip9K4KahX7FEf5QnrPAyOM580i9kFjqBhPV/f3FGMnpKNo9IVoUwtrySiII7\n",
              "OsZ+Yowg4luBLFteNL8IuKS469FHN2jVWISyY/Ci7wnf9uxkEp5WemsDxFAoQf/9f2KOkNNNdr1x\n",
              "WJedEh3x/APG3K9goWbIreG9CHSat/uOLZMDcVq1eevvmZ4/Mx4aXkGnDRGt9/CjTaAi13VWnTMe\n",
              "wybKxPeaIWtTOEP1Q5j8JwSI4yowvuyDIVysBP9qkKRNzF7/lPGtFYBKukz0KsByCY91Kjfa0xrS\n",
              "Rw8pfhQZbSjICxi1EeBvQHkyda64AAhz+e9rJytAh46uS3mINTDlXGpUMi1cauSJQSeRugVGN5Hm\n",
              "fx8/QibMJu7jQ1QxDYVufmXQiNqmDNnU/eGTo1F4a5K2PmKS3JhvBReK6qP89GPat0UmLKSXWP+R\n",
              "1RcDhUFkJZj2WFS4O8gqSESpQXp1hlY2Q2uzANU/5YiQwRcFKmK7Z+t0CsIaWYe1mRbYp3VXaWeC\n",
              "w3sohqh+t5213BVW9j2ugcj2Fdvp+v7u5uq323cag/4bccI78KXExojP4EUVRuV+YcbWfDODxpaM\n",
              "mmGi9fBN4+8DJXSkAzpQsQCKTM9dLR9FzkneGQcaBU6dps0qT3Rnyt4DLEowFKupugYKJEvfh6yc\n",
              "0lw3EpPbMHKbNXoKU0JFs1DzhWsLxTTAWb7jGdlYFVDA3fu/altHWqrJQTejj0AAKqREQDrbquNm\n",
              "/fPJnXywMlrNPk9KN/euJq8xQqfOpn0HsUG8i4SGDZd20bNT8F+O9Bt4T8wTcwWRL//l1UdACWF5\n",
              "qGVw8d/kCwxn+lEA9/uALA8DQN+KjPBFfO9By6YmsC6P7i37jAvtgt/09lCGXDLeybQm63L7gWUm\n",
              "ubRZYjCcZT3plppQ3yDbEURZi1Thj+6unV1ZWSGSmRCDIQuqKPx5BBBPfc/Az2cn9EKO/uKQoy+h\n",
              "x8Vont+rJ74NteWnJNwatrD3rqKtTACgnDgEqJ46ocCExYfkZ4FaYjC/Ng0Pcj7X5cUaWeR3PjFA\n",
              "9L0XTAXkr6CVfMe+jYeSHbgyxRCC4bNjaLpnISgTinNe1UPktJQEoqOaMaX7yk6bFrtZk03oVuRo\n",
              "S6k6nQIabnjaZ8le5KKON5q6b9PlpJrK2yOPMwUISeiJfpZRIx5W9Q21JqqdgqXyYTFyA6wiXEDm\n",
              "frt0GWQEw/AWZJikav+Rr3K5QyaAHkLN486RjpQj1o0rFdymgQUOi0In+TYcKi3rZIgkj407/Ujq\n",
              "NmnF7jqWBLr9A5GKxctIqznkecgrUEd5Wrlz5LRajg1vurWVSSR2wB7MY1Sc8Ix2Ff7Vd1QnHKu1\n",
              "QC7qSfTKaKQBHB9SDMJclKSEvyI8zzHDxFWuwyzTokjdAHUuBHztyVwMjl0LU9OgyNMc2TVs0FoZ\n",
              "TMTVK4+H6uFy7BbZFD1lCum4ICppYf03Cm3f+/Frph4coPUp213hCbLcgJcOBGGVCMSjjIN9YWgY\n",
              "pCJXwfffnwqLZAEsC/wclhqFLXivNRWno+WhQ3XtynX6HyQlBbPkqpTgSgLHbpQQ8XeVvbkCiz1o\n",
              "l4HvDafnFfa+N0nQ///s8FbcsR6C80/ZLPc75MbrJFtEo5+oCjvsSUFmfem85MfAYAssMC+/sVSS\n",
              "wAAAAXIBn1BqQ/8AAnyPvG5vLc5Cpn7QYbZowNavGdXYAPvKhsKc8YwMWYkRN3L+cAA1LA31zn9B\n",
              "JRfs6ylofoI6EOXfjwsFroCydsBKQhKBoH8vFYct2ZeyzMe+MncU42rNU8RWQfvpwoc26hh3rJpx\n",
              "7liRaCVVWn864wgmEewzGXQkbLs0UwSFhZ1X6KyIMOlM2RKW3D1J8rFbICFq6SrO57cY198IadQG\n",
              "nZmUSxIQux+nzF65DKKeP0DznWnIfb7l5ZoIhMeSwExL3dzVY1Z1O5PEjheBWrT4RK+YiriJWWGI\n",
              "2xDr/Shd6ER5yDbZcaPDTcSQymzKyYqDG+fm+zBeu0FTgH6AlWypE0Ohd57gaiz4HwIPU4Ok+nHW\n",
              "6zMrg+PuNOJJhE8GPd5fbTPQOOdhN/Wu+jqRMrplV7e0p18JWftB+jH7mXY7RApvZoRTqslwOGDQ\n",
              "RpOLSVepxjmq9LfKAG8fsWbcKcCir3YK+4B3YDvXCPHwAAAEpkGbU0nhClJlMFLBL/61KoAA45dr\n",
              "kCaB6AC3t4WY3RH6lQEIO5JM6fCHvZYUvJBQ6Gi/9oolnd9jVGVO+0jOrVtHQl3LTUfrSPm7TtVE\n",
              "vCKoKsIZz6oW9GfQmKPTVuB0GqSNtRjcZrnF4fx1IIjKR8Bh3Sdomj14J8hFpBoSA7BOPEepOVHE\n",
              "ZaVj91DJM8kSc2/TlXV1qQQn70bdo5km0G6s7+bbnDQFI2jH9CH/2foQIqqIcXp59llbjzwrIyLh\n",
              "sVOvC+si6oLyTvf8VPONyrCCcG53uFYbVOMnt48wpOxmQr0e4a9WbGBJ8Pwp+gAEwyYNqADyjfi4\n",
              "m9pDDLsSBQOa0gGh5HcAK5DtrbmheFTxzKvmIixLxRcpZa5mHmedP7j1qZFKEkbkmGDWw+DGm+S+\n",
              "bO+fOjrn8a8XwsOJhARe1kBeworIPearczVRZYE+UfZkTOGXuY4FLerZ8pVgXJsmS9poYDXkwzii\n",
              "jOPlTtLtpVgurRuHdXDIurC+C5nmY3XTUDBpmezpaOg69PzxsJPLIaV0HUWRsss29ZSplmcLplBL\n",
              "uYKUGlPqia9kEjZm28CfNVgWa8mCd97peQDGTrtzoNyYlYcexfwWYRt9Tj/47D5aI4uAR4HpzcPV\n",
              "ymUArsKVnr6Yvk/TmgVbObI578dOQXn7T05/5+juyqQqrnW5oFaZzbnNsRnamdwE3Bwzli8cM6Fm\n",
              "lUpu8V+m2piuPT0mW4+lKcTjxwbg5JNLlA4B/QJVbrJseM8/68fGzG8yj+QoaBjikSP5mFBDJyej\n",
              "Ilnsrt2+k+tl4+ylsbDvL3tzJBftv+vdFgX8W5VymffPHj4+5SCHBVE355RUXBcpDkuABvKj9Umj\n",
              "gTDf2Io8n7r2YEkOztvoC4qmqV3Ai9aSi+S7fdC15PcTMyWpSd6bY6/FrNhJsElIwGRLc1gaMB4x\n",
              "7lQ2kU1lbQfJM7CwDugS7clXWdo0475z01FUPgEsdcqTzNgo8DEvjaAF3H3T+TekxNDHU+fL1Idx\n",
              "1hxKJQ/7F2OrkDm1fOnz0fTmB6wum9YQgH3VkiMFXD+jVw1VVxNqOLMywNdTvExrkvsegqFP2MFu\n",
              "7BIwHUcrt6Rxq5FhI45WjuV7nk0vHcWzZWq2JWag5vjdP/UA4TrL6YT/E9HoEUBJoNCbd/7JUJTk\n",
              "erTJlei5msZYqv1x9wE827Fk/FvtOAoHKUENL43Hw3UoV95MGvyWgGilntteee3HSq/c1pKJLL0B\n",
              "kogGFe8K9Mlv/BW5DN9nOmFX6Zc3D4hYNpc3t3QloDcgt0DKZU8UUjYiRpqqfbvqMa19ChF0zmHr\n",
              "8+Reie2xxZHFmXPnpEARoB9y5+T/iGu/6DbvkU41hMmNeZnWW1wKEMbmFeKVwC/mN3W8To1R+16H\n",
              "TXV+53MFFUuT/VwZncwNzYYM3kGiddyMAbCrwoLn1aPA8Cc7tz6hwa7D6JVZMRJCJyBnVUn1UrOI\n",
              "VB9tjOz2N+ifY+Ziu5DVKuXYuBvPV2oMtCYoayVJM7bNO5gjHJXoWfFOylVVOjEGcu0m7HPZyr3k\n",
              "pO2T6obxVIGqVx7rrQuZ8/QW3vCptgRdIPfqJW/dAAABfAGfcmpD/wACc8gkqDVQATsNZ3wYTPIu\n",
              "VvLKjUfF99dEOB4GoQRHJMxZyZ+nw/xixVjb2x9LGXZOk//1LGpLqMFOYbJSEMEf5o+rkOwKtR8Y\n",
              "7woH+kyUnx4G3ELjPLmmekD/6BHhHTBvNqpMpV0muCy75dSuCPBBR3vvXhr30vaiY1H00jOzmbnM\n",
              "/6WxJFg2YdlS2mJSMwCbBrsWqqkSza9UVy3RlXHXrQvrrcfihJDi2sKGe1J6DoBCElTyT6LbKBM1\n",
              "Pw1XSORZM8feTisDsO98oHugfJYLr0ryplwS2Sa60b+UYRFWzQuZZIyfQ3xKRYic8kXPt76xpcTS\n",
              "pOmsBDtyYsI79+mIm2Vu9X6/wQTuVglv/qtE/kVhLaq5OPN5gnd+7xSJlFd77n2uC7x1LBFQ8FNB\n",
              "IxdiO+P0vFbgWgiL5lqiBuVMSHAfZ9qnSA6w6V2b6jgS6SyvdpxB7dSpKOtVpw/3+tLTVFUfVx3C\n",
              "zdey9XL9/TCHaj7ZVT+QAAAEukGbdUnhDomUwUTBL/61KoAA45Uj3UzYAOGhMSWsazAhiyRpuPfE\n",
              "PWOwNCZb4VBx0G27gXMhvgWpsYiwdiTM/q1XNYK1hoBvdA1CcWKk+xHi4NsLsxi+95mBWSzGLD1y\n",
              "LbhvBLKfDH5jDIZZ70mZpKkmUrQ2UmHSOk3ISR8I+FrR3hadUDPpsqodlAEyAsJpUqUcTFCr2W9f\n",
              "E3K1VoX1FhXG3KfqhDN+AzYgN3cEJxGlEBa5vjksQe6qcMi+qU+0c5bpCNvVRgbe7oH88vMvxikE\n",
              "38bMgujYDo5BBsJJAuMkLymOLu8NzFjGGzsqFhVe8XseAZIGscRxLVFC5hIK0JyZ3ANDdl7o/ukZ\n",
              "n8rTJrxOv4YmRGK912fox1B9Skr/OKec30lP5wlJqh5XOXifAKMk26M6t0c1msbDbJ9qh852CO3M\n",
              "vgd2OnAJCNv1jR70NhKfroYgpRr9WeTmgGlrK1XgG4x6rf/5TJ10Skth4Cc3/5WO6PybuuMAs2oL\n",
              "4ohAtZEMAyXHtJ6+cCLzQUV56FA9ukQr6skHiS+liu266mASLOlqw9JYSea1y1CQhPIdOmouUcPT\n",
              "dZaxcXYHy4mTd+mDn/7F/v6DqKFhTWmoIHiQkvqn75C5mcI6mtNjNOrbqu4q9Y92FZ2RQ6OZ5n8k\n",
              "LOlY2iEDJ2YgSZGd5N9nFACCc7FFRPUAbYvX2bMIvcgo7dnRf5bWCz5tFYg4thiEzEExgRMej47e\n",
              "PYwxq/RunbIl3mfvb+BuGO7aYY7vVl6x90+Di9xuyw5An0+0yCFVWeWTRlzIqG1utyToQmDCJURJ\n",
              "UFKNfgJZonljGyl4YTn9UitRDIX3QegQf+or4oZahDj9mvFThS7pCNEyihyYZQvJkyF5BYMln8sF\n",
              "4Ukq+IDSRtLJCcVSMgqp01DpfhfylJCH+OAE2UJMatrdmcj0SJHhZ6tJ4PE2B2KJU2cemLMv05+F\n",
              "QYUG3shRDXIMPZ4XRm+4Y5e5SHXfk75T/iakfL1qzb9JDpWQQCEFoGFj+1HaLhxB3f82ICdxB0LL\n",
              "ObjeoSp9Tl8S/Lc7tZVOllkYdZJcmLwiUWadSQQUgO5Xb2+DGNDGWJ9Ec6zPUirIGdrbyXTwGBh3\n",
              "z1sDB/2KDsaY9r+x2paVTAz/b9WuS7N8txa8ccLKmTCB4sY/pFWT8pMs4gfjI4epN6umoTlQLwi0\n",
              "+Etsjvv8p/a5iXFeIvpZJ++uGNKDGNXB9VJ3asiW6OTXkaoCxaaoMjtOB6sQ4jAkJ8fcz0r64IGL\n",
              "gKr8g+yw/J8ic0kZ35sBuXZwd9ZHKrJove1ziLVCMKW0pHUt4hOrZ8nLN7KJk7N2KOLm+RfSMqts\n",
              "AMPWBjnnV1PHuO21SIfDVgIlF4693dhAGvkE0zPRsiTRJhSniQOJMPBY5a93XKsvmMm4PYH9d5MW\n",
              "nImOvoL0pxqNOz0rJNGn8pX/xTYa0TlhfabOW4x+GdRFE0LCnvPtRjj/W/MVkyEo+qE2DyLJsZnJ\n",
              "dO43EqoA1oQSvodb3aOOvycwyxURjI7mOLEbEaIZJx+vIzYtVQq/kBs8auaaE/3KYgLuD9meNdbL\n",
              "0yINVgH/U0QyazRY4OnBvVohQZ5Am/VzgGbORJCn3kAAAAEjAZ+UakP/AAJ4ZXCnrzAB9x7V8U06\n",
              "x9W5G2P1ryV6PgvOcAKJ/KlUVXIze6Sd9kW0iqqNAGcJDnxzYPAImu7OF+AbvOSWonyjVhIsazVx\n",
              "YYq/0OxVeW9TbuQsCUvIizlPwqNwq/wGZH+za3TkeJhANfIxDhQ5r4PFXg9Ucfwye18z8PBdXTEg\n",
              "O+hi/p2plrHuS3ZAtD8gThq7bQieRB4KI5oesk5dmN/XSKFyycMzf8fgOAUqe8dm6NIaEA0Xb5zN\n",
              "Sv5EWNJxDfA/j8GIFrlyXW611VzZU6dkvkmaOPIFauw0qa6ftk67PtAc6XA2NeAIz6VGCsZJAY09\n",
              "vewKzmBCPYoIHUhKXhqC41XMRKf/OqKXnlh4kAW+6mBVUHd+Ijq+u2sVAAADPkGblknhDyZTAgn/\n",
              "/rUqgADjm9Ee9MADaHVxtKvW0czmlo7ozQ188+hQugMZKh3I9ptDWYt3JjktPvvDuqq7zS8bWdyH\n",
              "HkynDF8uzT6AiqY/MvPgtPLVJqkDZfWA/ZKTWYBzjBGyMQxJpUgkwjjjWd4IJYgvnzOiCRKg7uxu\n",
              "12/OKCL+vtyNxK20QtKdHxeZD4LKN56ukVNWPxFeoluFx9B8OFQ/LM2vCTy3cYLMYXd1FEu5Y3Qg\n",
              "OV2D4tIhecaxH9MVGVT1DsqDAhcUo0qrV6EHwfpmzE1sHfXsNzq+G7+m36kdeMJ6nn2Djyfuyalw\n",
              "3h4XkBlTkYVHl4qewA7Medok0cdsiZkw1x4daVqI5hCrvfV/dxvo56QTSDVZ0IYV+vtt8t4s0Ozr\n",
              "lySPkwSRRZ+SE2jemLVUHwgvtnwCwcPcOib9brZ2agyafYMqK0QOoFII+C9e//ThDIsRJXd7h1Yz\n",
              "9881hPO4aZgzc+dD2TjctLHuW1F0BTmmHcGu6crG0vJhSpdHQ0atncdwWMqVpI1cbQc0EfHRMQIF\n",
              "rbGk2UEwtlqZia76M+Mb0m8FHLjJZe0WgrsoZnVM/tqtyKVvNTW29+jrztpMTZ2HsETXfYPwPJb3\n",
              "8XRzrpCoi6k0B8RFlbpb8n+8KQpxDdcaJiB0cshvYOTYsdjoT0bU+loheBjGM6MCn4PDXxFUNqi/\n",
              "IhhQOVUJhtftKgRVIXff7X+MoMTxL9Q2exYhadtRPcaJloawz37X6vRW4bQiUcWXH4vvduujUVUC\n",
              "4ZoWvtaPkiZ7yyMhbMgLK+qo8Q05wIw4IXS8t7FKGLQ7mHOvp6mezcFQxD6kKTI5JzbxlkzNbbP1\n",
              "jubEpH1boSlQqyieb4/aDjkX43VfPjPMPIU1aVTfacztrpH4ARmj8t45i8F0jOEIH9Z1ZaLTMlNK\n",
              "avl2CB6XDBwh7AIQxExcO9GUCxGthSzvMS3Oc+gWfWicyKtkbJmNrz1pwxi2sj/CHGXsjFiO8Jyw\n",
              "rv25XUWsMNGbm5BT2GcaGvwXe9MwR7AGMXFINfVoTGbc5Y76J4AfHcYMpssHIDTAfi0dd6H7l4lF\n",
              "XXXupdFqvZ4UCdEwc9epkePGRMV8AAAETkGbuEnhDyZTBRE8E//+tSqAAOOcj5/GegCJpaTl9xok\n",
              "1ZowNk3bVrL9RatSI2MP456D/VOZoDW4w07t0IQggj+54ok3s3PUMbyIzE7746sDbBcL2Wjk1uSn\n",
              "EkjbahQefXMGvoFtodP7x4rZwL7l1CVUYXn4KNeeQFZlgoQ+09agjO1veemTO7K8W7et/d537e70\n",
              "W5MwFZx8WxgmYmsRknN17KZPl3DZInGb3fXfsr0J/UvMo6cd00QEUX7omZKfT6FhRLI1J3X0setu\n",
              "9VBs3UvhvCWLc4gKQJx+M9xjqeVJD4mah0CwdQc90QxIK+kLLLGCRFvz9T8FE4MBm2MeTQvb1xaE\n",
              "Ck+x/gPh5Qx3pB7VpOzjLTD5vTkIUpNZ2waRiGhTU++hIkuyItAZf7zwLJ3eH59SoUlUXDT29IUd\n",
              "q//f+3CoSsGgGbl08hifoizYSI5jd74bbSnxR89o7CJ12g88QX2kK2aXtfzvkOgyOcry6+x9sAY/\n",
              "wO5l9XsERgO4k6gIts/EgjDZUu0ZYWWkMAUIOt+8yYARsZXN6o/C2pM4D+ZtUVTBtMSUYI1cCzhY\n",
              "qC1q09ggh1P4b/O3VBGJej7sk5CfyUVr2llFrxMvpqqGK9BhkABpZMyHIsK/r39x5yfOaahssgNe\n",
              "Ibz8u907fpmtDLL+pxljfohwGiZRi9G/TD7draDtYcoNqtycK+MR7TfCALULEs0myE/QEVQ58b1q\n",
              "uMIrxX2dheP7KRg6DBb20RD6CwuJkZs7+9bMKr9Ywf5iQ6iOOqI1/EA8Kl3JBShWMqJLCB412img\n",
              "c4p4IK5TujyA/6SnCqku7WyaIehyPBVgAfVpGtmKnHAtrYnt1o4+sebnFDjwkQsBTZLRbmUY/gt2\n",
              "YHR1E9GCIDCLMW7GheR1LWuY9eb7my1pPuTI1JTKmFoweGBICmFOGHetB9GT1dgiOgBelMpL5NOz\n",
              "lADN8GpUDglAcByHAGhuDvfZNXCFP1UYZ+b2UJYCf+iYdFPlKWVWsXVUJqAqyGnvqDaT9Y6TWmQM\n",
              "Qnbj4p4AlNq8y2h1gPKoM6UGKRBvSuX1OFsCEcfosAVmqUv41t3k+oLj4acjb2dLs11O8uBa8L96\n",
              "jvf/9/1C5hgLkbfcJyONePLa7ee3JMM4UaE0yApp2puhGCoHGxRYY21tneM5QygDWYoGBzd4aDsf\n",
              "ZmgOufAuWjPLUAn8gqnjolEyGsYzjA8BrJk5ybpuEIIuR5Fx3irfMc+UCzXKyw8ttoo9X629V4QD\n",
              "tMkticEVr/fwFx6z8VcHpyCTdfyCJjVRWu3Cvv0Cbgi+RoSYH8cqVggAvH448aEbUxAcp/dqkzME\n",
              "aHIybFB665d+T9TIPWBwwx8uykYP35fGtRvJszv5sFk5jixj+YWVpLO9nFPCzVo6ItGHMWJZLvC/\n",
              "PH9I/UWL9xgx4B3AbyqIaWkOYxbh3vNIQzI0Kiu0niCtQkT7hw0QBxABBf8AAACpAZ/XakP/AAJ2\n",
              "JRBMrS8wAfOlhFg5p1YSWDE3xCebyCUB1Md2a3XPwNs2yqxpmakWElcw5NHn/HuIc/DS+2ASvOgR\n",
              "AKNnHgz7uHNBNXg4DwT44vOTwzdMhFQz9XFrEp649/S7MpjWtr3MKpXDO357iZu1YCvb0piWj4IS\n",
              "DHke4y+rCPOBEfIe+cH0UrIIflwGPs3k+3A+z3nR7YGp4Pay3jNcQsXANjsZQQAABDVBm9pJ4Q8m\n",
              "UwU8E//+tSqAAOOUYBYwIMAFYXeNa9fpYfKzyeBDO72gxHe6bcuBcH7Q7zI53PiBASlihvjOz+7Q\n",
              "UIUe7lBuzyKxXbqNhgQUVaUTNnf709LIMtkWVhBxUr/aI/bT6uKrLEfdmNemlbyQfUif9lCipL5t\n",
              "z69t01nEPEUh11g3oZ6OjDQNX6KrgwSDwzE7ggGQtfn0GTHhJFK+EwnRiKxOVIoWMtwWQC69hCvT\n",
              "wFusyaMznpM6PGj9krTvhQ+tfifo5wlnizQrYZ98B0fYlbfSjOLnOTuhOJ999nkNQadHOEoaBwZM\n",
              "LZLRzrpTWeN5rr7OcTkyZ790/wrzn/5y1dVagjFUO5DUD8oG/Nj1LIbGvqTIcICscaJzWk368rtg\n",
              "rodTM6DmIMop0Ic/0LkOUdUYPr7jIcbm9kB4bJk1E/gs435fbwLFCL33gNME2eP0v52sFYvoukfr\n",
              "uko0Fwh25CSslsK41Mb4rnM2uW3R5Fmt9a2wEG1qfX0CozIqUmofqA7OmxpBM5GJaNbOmct7DuBq\n",
              "uDlEwNmb4QpEGbDIU/Tij0mpMG0gfr+yNI2rz8Tz8Ynoet+wkUJy6ZZpcvNKlK+cmarz04QmUmW/\n",
              "9uIJ3QaCMUhGkJBx9YAPELOCTMz27ysSLen+xvi68MAU7/rlzomdiIKiD9KyZRdJIG2Kay/l4o+W\n",
              "KB9JlGrqLa8oxibsbOuqSw2TOCqtar7AB12r66yGMUbOf5H7PCqp5uoCfziqZuw0SdBg5gwSEPk+\n",
              "gPS4BQhM8fNNUAmWKHIAiK7CPF0IODINzdupzPqD6u/NRBfbpMgm+VSNzAUcPP5r0k4g4jZGPY0p\n",
              "VkYlolF3xFF0IRQYRFWRpgc5+cxSd6HxEjtyDgLzmsU+bZJDlJ8+VSepS5defY3NDeXfin1A0PXi\n",
              "Nf4+x/x5G2k7iXQWMdR7FoPA1tvrXnr8BJ7RnHGGrWjkvTqqSuacbHgmSn/vZBnYZ4Ju4C6V8Oln\n",
              "hXki9nHcOFCbZ2YKqkgExMUIBydcifwlJ66E2nJNECcNCZ+Z4i7N9rNagVlKszuw02KF1SxPErgR\n",
              "dW+QwU9fcvPQfSc1VvOq3jpYtNtHJgV8pR0pMTQ05RRLK24iH10Px5YuJ2DEfxpq0WnpD+i5cQQJ\n",
              "/wFTPFJN/GYY9a5Mtiq/+ap3jaICSkJfunlZVMqRHvGD9WnEDTy9Z1YN3aLmHU1S9++OTwQHnXve\n",
              "UU9/5F2qXHkjNx1PzBCK9uOgM/UMHx/cS9D+c84oVEtCBsyxhHZST6ShpgHGu0xQ8nxVkVHxazMs\n",
              "ls1WU4t79qWj7fhR+QRjWbErBQZw6BCt8T3AwdemxuTrG+eKSLvZpOdy3rQKg+xPTdlCeNshiYO4\n",
              "36SFuZIjXPd+f1fIeSwRVnm1sg3yDtHDNUbIcWiFTUnMh+zwpnN74oqXcHAAAABeAZ/5akP/AAJz\n",
              "WK/YuXRegAbNzBJSwtWRueh16vvZUj9/7w4RuCXBTo7WxD4vGTt4QShnNd0bFYOQjEX9Qywj0jJZ\n",
              "1f05xCf41YtMJ729IeERiJDGQGlRlYySz5HokQAABIxBm/5J4Q8mUwIJ//61KoAA46XIC1AA0t5N\n",
              "a1X3BTgADtMjJ1OoxWn0NSulY1RzWxZ54mmRXLmw4zK+hctnEBfZ/OHKpgXV/ULhTiWIcAdf0QZ+\n",
              "IDJa3vZHbccKQkVseN9Etg+JWZFvrkA8BUYPr7E3MBOnjxEYKA/uxwqJ2Ubfk3ppvNcoDhmCp0qY\n",
              "kS7A1MoII7wJazofpe/WNQpROiHgFQjM4s5vgx9VLx0kdGJSGmWwW1BMesl2IS4Q0r5OKsv/xuKb\n",
              "OU3kaYTt313ZbWpxvEOOJnpUhoH+fpQ+7wk1RjtjHLvqFL/jBv2c/bhQIIErlo1MDFL5qOXesNUn\n",
              "HSBYmK0Rirzilf9o62z4GwltLgcE//xVxvq9kivfVIs6Nm0TfYJLI4AhjZdONWlAgGoVZrGKU4J+\n",
              "KJQJViCedwEc4kIn3oQMVGF7fhvsEwaTvJk8j0MAWWyUAF9xn6Vaf/vY99IsU96b7baEFBT9Vzpg\n",
              "r61waCsovfnCjWY2BE92VQ3Hax4GJ/urfi8M+IzE3ZkYNNzPlAnranOii9yYR7/6sOYMTog4Bq43\n",
              "E3hQ2qqzQ/ewGD2jtiHZ+QU6ddadqhcgH8ihUu+aZanjIqP4f8+br61GXt8RW4foy7kikRNLGZmd\n",
              "FOvFjGt4yLh2ggdSVSqXu7rWNdbVfvHxVUdeinVVOaVVJggIFx4t5xvDUMAKJ+4vknhpr1HSgp5s\n",
              "0LI+Qy6ovROX5BNjtFHNbxQnL8iME6Raeim4CUTDTnWuLUtGIbreoRDZIrlY4VDQ8DK9KSfSKXg8\n",
              "SBeu91fkKKjo8JjPI6e6+WMzS8iGynhvl32tSFYZsyzVAEkHkgN69yAT5di8c9+mok5daJaQwFVY\n",
              "13sWPr2BwnTh9SvocC7VZvvRuG10Gith69dQuyvjQyDuf8fjLXeL7VcoA52YhzMOXyGJCLjjHCYK\n",
              "r+SyIlikVf8fg9FUj7GC81Yamv7VP9cT22xkmoi+d2LGmnIddXCrotya9FJm8LYqRNd0lfOkxNy+\n",
              "C5IV1BdsIjoJHtb6AmAdvHTyumWiExzpapWCMSkM3l5SIQ1xciPjrSm+l2WulgIo4xybTfjntQIo\n",
              "e03RebwRanrKu8mcGoEOisJSEHlit2MoS941vDqrwHSlE4l4PDxrV23lRNtagHxTCCGB7gAwKEE2\n",
              "yCU2dsBKi0XiZVpq+nmh2Jt7/8nugcMLCYlz+B/a2Clh/WF9VklrUmPgQv1jMGNV3Bi8nslHHY4d\n",
              "iWKFrVpJDTxXs/vJgSO2dMShGHpCgeX8EBeQVP82CI1krgLL1OaggSUHDlCCvD+b5keGrnenpu+H\n",
              "oEKncmVAe2bHVOHJqNFQ0a+AUbdHZjvb+o2MJNCAjRAfN1wBUaNi/Ogk1F44HlN+W/G+EweUuOSX\n",
              "6XlRQ/gTto7APFC5St5JKx8tRB5dy5IUKnhjEH5o5I1ZQxt4eqyhvEb0OU62iQ058rerS7B0MBxW\n",
              "sONQrZT5UTLWCLqMIleZXWjE8NfqRuKAgcXt3T4uganhepBt2cQfAg9jXBAcuZMXaR1v7m8wxa8A\n",
              "AADpQZ4cRRE8EP8AARmjhS8WK/6NAASg3+LnYnzGu/2T1bAL5BNy8fMru+mFA3Wmxvn8qz7dnK9K\n",
              "E1YGHn3dKJcT43+Z63a8vrwGCfi6BEF742Vax5YlFJjcna05IArIVYffMfAUk+Yq10sHLJmop5ZY\n",
              "Dqb0Uur54bJQXrk5Imzvs7ORqHe5mTx0gVxXCNp6WHtVTern4L39Fh1/bU7EACxoT+0jCQzFzUAB\n",
              "aB1bLj1C3f307XzwGOvjlTJNd/+TA85BVBquKZXmQOPZE5zAAHtAqQCjrtfVRya7CUkXDiGnG0Vi\n",
              "o5uHSDuKHREAAABQAZ47dEP/AAE1WgguBrdVyQuDPOZNMzR5a+vVJbpSwAfb7pOu372MMTybebaP\n",
              "1MLPjLi4D07e5lC+dsqZeTs525jrFJTynPTUkFOuCkWqTIEAAAAvAZ49akP/AADn9kKJlsSw/W3J\n",
              "grGWUHRvYlvvJp4JVFQpyAEIHGMxj144/a8Sm+AAAAIJQZo/SahBaJlMCCf//rUqgADjxDxQAjHi\n",
              "Bl9OI+5iNmLJ/ldmBPPueIJ1+qG5D/gm/m9djjrvX14RQm1Liu3yQsX+a0H1TKGc9qd+xaeX0cNp\n",
              "JRcRamBfz7LbrgzMWuZGvkBmu0fNZ3bJ7/c0mIk9EnrVDd2fYUrYJUe8Uy8e3uc+8c73LDhh6rG+\n",
              "YJ1LS5KzbaIeFJCA2shtRdokY5hr0t6KvNQhgRgb5TR1STI6+UKuMQEcJ0ZzesViX72f5eubPr6V\n",
              "GQRDal4SwvQnUiSCKUmezDXZoTRCaObpmAOorhbauCJxWLOuFU5rPLkHgpPu1oG8OZkDxGD5VTfn\n",
              "RAxIMCj1E4flHZBjkupUayRaOsCs/M7gmCYYHXidZCY7u/iHmwBqsDWYqWkBOVAIau+y5gJxneBk\n",
              "0UvCq9nJnoMu/vtG2W9UvPOIIIUjRF5ujdnJPtswW5XOXAds2Juc+GFh/ySGDXdxdd3yhf2GBOmH\n",
              "bE5zqoE/BjrExFdpVKEor2uKV8W9Tg/pf+e3MCyb+t61jOB/r3haxI+t5i0u5Uy+0bKi01yiR8Gb\n",
              "uZsNDCQl1MJxSCJdr6RxPlUT+qXQgsdUQSJmkx/t3xBgWcE10DdLS3N2dPaef+5Qtu5CqeYO2bAh\n",
              "kSxpWKf300K2AZyKXdkAYVz50WIHQSN3re0KcCEsdmHmgvGz4f0O1IEAAAMaQZpDSeEKUmUwIJ//\n",
              "/rUqgADjm/Zy9QqkkEAA45CgPzd2XsivcXFTeQCqwFgtFBgSCnnp6UfhpGj9ilbiwTg5jzw4ceYN\n",
              "Els/TonaxCdKVs8P1neXBcNfOYXM5rSB4T/qUXsN3w4k5zc911nffa2h0nPDbi5JUuwSxbNFM5+4\n",
              "BgyocioB5WEZsf+hVtUGkRR0NIQJa91DwbDXe25XbvFbOB/uK0WUo1EbvIdVzzkxSzy4v8T0n5kB\n",
              "zyPo4um0uGS9LhFI47UaLnQe1fyKs2s6I+GVFYA+KjtmX5rDH4bWCsA7ZT723LqPSSQ2aVpKiEVo\n",
              "d1IuA4HhsFqqZVbXZUUChHAgW+3Z0n9Au4JgAQvamro4UjgIPNEAwuRRoWvV9juEgO6UJQAQwg5N\n",
              "nZ+p7zuu6/oSfMFNDiEnNHeybnxHG2nyUv+6acalU1nlF/nKzm1FjrPnHazMVhhv+q3adX8N9LKL\n",
              "MKZS6MmA/KMUvZXQXbFKeZUKmIWwKqjAl0fLpxLy9n7VSuOphfRgteKzLnz9SDoA1vZpeRZCCUzV\n",
              "zTu3O57c+yp5qHe8F1JnWq9zVO3cZjlC02xJPfw42tHN51wTd9QeHAqKx8ny3khkja2nKewmxmSi\n",
              "plcF88KamXUCk3kbEX2Hiw5mDfP7ANCC8RqtF7VpZs3eGnM1MrSjFC9bC90sDN/NDbxvK+0gwbi0\n",
              "n7ljWi4vOp8hWPGLEalq0Dux5wh2rpBHBzIDoXpl9S9BkNDDCATqmQrlKKQ5rBapV2o8d1uFVzWz\n",
              "86whnYFeMZqyMufCVhvHKd9lDCs6W1CkKxdc1HR29GrkiA3+NbwcqAMahsmFMFRERZ7WaegxkEaX\n",
              "qTMkUZ4S1naWwSDhiUFrA9HPFAnsaPervtG+uzs1Z7kMtn15SgfmGuNzJG1UkHzXCmCmfqWVThjr\n",
              "VksAjU4DlDU+5vh70VZp0Ept2Rt0XDbAi/tLKMSgBMoOt9h1sL9zqJ9P46ovwhFkVzOtp0ymT4Kp\n",
              "9pulCReClbaI8nMi6Vo3bEDdBaMnzxDEeOCV+AjF+vcM4/vfKmkXJssAAABdQZ5hRTRMEP8AAR3X\n",
              "gAEX0XAHA5MP+zUq6LO+fpJE5lqFAIw+yXbgcWHHIppXzv0EpTyFy9YYsM5XuAuZd/h/a1CM9SlG\n",
              "DfmHP3wEyQ0smTQD5jVRwFspHmcUvAImAAAAHQGegHRD/wAA59fLQgbIg3rz1Z3Z+EFCKfugr6lv\n",
              "AAAAHAGegmpD/wAA5/ZCiZbIhJiAIf576L93rbRJWlAAAAI5QZqHSahBaJlMCCf//rUqgADjm+WX\n",
              "kDABxrPzCd9CFB/M2AUQI9Mi79HuxTee/T9gK3T/EIImH3Myd8ETfjn9q52zs22+e5FZ+txmkmxb\n",
              "Z+3dJ9QfwVuhdd9ur/6mIp2PnIdA6xin12LX1rL2gZTn/zE6s+9D1dUwL12NTHgFmltjZILXXQIt\n",
              "xh/2ihlC8zh4SFVwDjJeaTPgpCbj5ldprgNPYk1pOJHL+mbQSI0KKyY8WhXgHpprAK0Tlm3JP2bC\n",
              "rLtBuyCOnhNOnCQTxAkVC0DKWNCEXAbfFliq1kOd7XA3DlhKipvLXYIuy9iac9CJ4hEOX5kVPCbN\n",
              "WWfw724Wx6ycTrJWl3jW+tk9QcGoE+i54MgGVkld6XIHjMlDGeND3YXo1HDNFcMsrtTBN2sy70qy\n",
              "hKDEzxJgYUpNyhuYUvj1r5p452igBOVZ3IVJFOdvHTTI8hAfzBwC44OxTZsCRkYz5NgmBFNWnRWr\n",
              "ibDohA+r2WqLbFV9DZ8D7x7o7bCTai+n1XF0j8iMEHZ0Y6Ng7/kiX0oEOJpsL3QaMj6izXhqyqKV\n",
              "VEaNd4wr2m/9dH7yM0j61xeVmzdi4DlBnQsFKNU1E2cxa4Gm5/VywP+QS12pgdIfCcBoeSo2qcMW\n",
              "/8WJz7zaerCuQibM+YqEfdxgBJK3vfNEIG5ZgoZ/UoSAsTsfsvV+IkBQhrJVblW8O2Uqg6lpxPp5\n",
              "Q16wsAi421Di6oAn8LgG3NTHRQUqcL2Abxj/n7AxT3Yp5aEAAAAiQZ6lRREsEP8AAGl1TVjksiWP\n",
              "Y0hKE/jBUoke836EVMB+wQAAABYBnsR0Q/8AAOfXy0IGxJqbH68MyGOvAAAAFgGexmpD/wAA5/ZC\n",
              "iZbEscylXemUvYEAAAFoQZrLSahBbJlMCCf//rUqgADkZO1kAFvA7+Mc0q37Fc21HrCgB/DYI2hg\n",
              "RbjxKXHYDuPzb79g0TBwRVeMfmChqBHNjsbUlDfYzfzKvuXhmSAUAQ6G/Rf9bxgRXnnsQs0AR10T\n",
              "N6amtmNfY2S9V+OlFNyXTt4QaoWb8JWc83RTNpcBihL6Bz2+6g1VcJgyUGFFRX5Q+vV2QlVAA/9g\n",
              "FVSDgOP0Qy9tBTA+H3b+ugpuc2+Vvz7HfnJVM/KZlLz8/dbeEO3u/lg6XJCTfSTOTIn4subXSBzl\n",
              "r+fFMDGb18mPdOP1eK0W1MhlBXtL+HDVX4wiZpKqSHYM2Zr/iZ64ToEs6ENv/3XsIgVeyy39BKtg\n",
              "zs31ReCBi+pX2OvpVpsdnJ778QlMOSxrtfYJw7aFpxxF6g2mp3uSrOnrjzQDy0sXiJ2BK/Pm3BG6\n",
              "niZyOp33ZHYUwHVDIpv0LIGfpnbt4Lc6BHaKeMffN+mAAAAAHEGe6UUVLBD/AABpdU1Y5LJEGGvJ\n",
              "aqBmAo7EzoAAAAAVAZ8IdEP/AADn18tCBsSwmGa70yk7AAAAFwGfCmpD/wAA5/ZCiZbEscylOJO7\n",
              "fUPwAAAAdEGbD0moQWyZTAgj//61KoAA48NbAALd+nPOeAl+zT67CVvCaTOuD9FX/Nxg/H4dh96U\n",
              "XbX15zyCLHnEQQcdavYQ+Loe7DAUDgxsilfopJEVU+hjpRduY8p564IMZeUu1mTtQMc7ZiGZX+N/\n",
              "R2axeoNyWyLAAAAAHkGfLUUVLBD/AACKl3zTsaVxzyOHUjeWovKKMzUETQAAABcBn0x0Q/8AAOfX\n",
              "y0IGxLCYZr3jn0dt9QAAABoBn05qQ/8AAOf2QomWxLHMpWJ8CM08iLQ5lQAAABhBm1FJqEFsmUwU\n",
              "TD///qmWAAAEpnlwA7MAAAAbAZ9wakP/AAE1laO7oSt+eMdUBSQTbkfEoCRgAAAFhm1vb3YAAABs\n",
              "bXZoZAAAAAAAAAAAAAAAAAAAA+gAACcQAAEAAAEAAAAAAAAAAAAAAAABAAAAAAAAAAAAAAAAAAAA\n",
              "AQAAAAAAAAAAAAAAAAAAQAAAAAAAAAAAAAAAAAAAAAAAAAAAAAAAAAAAAAAAAAIAAASwdHJhawAA\n",
              "AFx0a2hkAAAAAwAAAAAAAAAAAAAAAQAAAAAAACcQAAAAAAAAAAAAAAAAAAAAAAABAAAAAAAAAAAA\n",
              "AAAAAAAAAQAAAAAAAAAAAAAAAAAAQAAAAAGwAAABIAAAAAAAJGVkdHMAAAAcZWxzdAAAAAAAAAAB\n",
              "AAAnEAAAEAAAAQAAAAAEKG1kaWEAAAAgbWRoZAAAAAAAAAAAAAAAAAAAKAAAAZAAVcQAAAAAAC1o\n",
              "ZGxyAAAAAAAAAAB2aWRlAAAAAAAAAAAAAAAAVmlkZW9IYW5kbGVyAAAAA9NtaW5mAAAAFHZtaGQA\n",
              "AAABAAAAAAAAAAAAAAAkZGluZgAAABxkcmVmAAAAAAAAAAEAAAAMdXJsIAAAAAEAAAOTc3RibAAA\n",
              "ALNzdHNkAAAAAAAAAAEAAACjYXZjMQAAAAAAAAABAAAAAAAAAAAAAAAAAAAAAAGwASAASAAAAEgA\n",
              "AAAAAAAAAQAAAAAAAAAAAAAAAAAAAAAAAAAAAAAAAAAAAAAAAAAAABj//wAAADFhdmNDAWQAFf/h\n",
              "ABhnZAAVrNlBsJaEAAADAAQAAAMAKDxYtlgBAAZo6+PLIsAAAAAcdXVpZGtoQPJfJE/FujmlG88D\n",
              "I/MAAAAAAAAAGHN0dHMAAAAAAAAAAQAAADIAAAgAAAAAFHN0c3MAAAAAAAAAAQAAAAEAAAGgY3R0\n",
              "cwAAAAAAAAAyAAAAAQAAEAAAAAABAAAoAAAAAAEAABAAAAAAAQAAAAAAAAABAAAIAAAAAAEAABAA\n",
              "AAAAAQAAKAAAAAABAAAQAAAAAAEAAAAAAAAAAQAACAAAAAABAAAYAAAAAAEAAAgAAAAAAQAAKAAA\n",
              "AAABAAAQAAAAAAEAAAAAAAAAAQAACAAAAAABAAAYAAAAAAEAAAgAAAAAAQAAGAAAAAABAAAIAAAA\n",
              "AAEAABgAAAAAAQAACAAAAAABAAAQAAAAAAEAABgAAAAAAQAACAAAAAABAAAYAAAAAAEAAAgAAAAA\n",
              "AQAAKAAAAAABAAAQAAAAAAEAAAAAAAAAAQAACAAAAAABAAAQAAAAAAEAACgAAAAAAQAAEAAAAAAB\n",
              "AAAAAAAAAAEAAAgAAAAAAQAAKAAAAAABAAAQAAAAAAEAAAAAAAAAAQAACAAAAAABAAAoAAAAAAEA\n",
              "ABAAAAAAAQAAAAAAAAABAAAIAAAAAAEAACgAAAAAAQAAEAAAAAABAAAAAAAAAAEAAAgAAAAAAQAA\n",
              "GAAAAAABAAAIAAAAABxzdHNjAAAAAAAAAAEAAAABAAAAMgAAAAEAAADcc3RzegAAAAAAAAAAAAAA\n",
              "MgAALZgAAAdBAAAF/QAABFoAAAP9AAAD9wAABkEAAAP4AAAC7QAAAy0AAAY3AAACLQAABzwAAAN1\n",
              "AAACAwAAAdYAAAT/AAABdgAABKoAAAGAAAAEvgAAAScAAANCAAAEUgAAAK0AAAQ5AAAAYgAABJAA\n",
              "AADtAAAAVAAAADMAAAINAAADHgAAAGEAAAAhAAAAIAAAAj0AAAAmAAAAGgAAABoAAAFsAAAAIAAA\n",
              "ABkAAAAbAAAAeAAAACIAAAAbAAAAHgAAABwAAAAfAAAAFHN0Y28AAAAAAAAAAQAAACwAAABidWR0\n",
              "YQAAAFptZXRhAAAAAAAAACFoZGxyAAAAAAAAAABtZGlyYXBwbAAAAAAAAAAAAAAAAC1pbHN0AAAA\n",
              "Jal0b28AAAAdZGF0YQAAAAEAAAAATGF2ZjU3LjgzLjEwMA==\n",
              "\">\n",
              "  Your browser does not support the video tag.\n",
              "</video>"
            ],
            "text/plain": [
              "<IPython.core.display.HTML object>"
            ]
          },
          "metadata": {
            "tags": []
          },
          "execution_count": 31
        },
        {
          "output_type": "display_data",
          "data": {
            "image/png": "[encoded data removed]",
            "text/plain": [
              "<Figure size 432x288 with 1 Axes>"
            ]
          },
          "metadata": {
            "tags": [],
            "needs_background": "light"
          }
        }
      ]
    },
    {
      "cell_type": "markdown",
      "metadata": {
        "id": "Gcuf8RHEVBVE",
        "colab_type": "text"
      },
      "source": [
        "<h2>Error Visualization</h2>"
      ]
    },
    {
      "cell_type": "code",
      "metadata": {
        "id": "cZb16ha5VBVE",
        "colab_type": "code",
        "colab": {
          "base_uri": "https://localhost:8080/",
          "height": 282
        },
        "outputId": "7bf2dad0-5bd8-47b3-ad01-fb5f09673ef7"
      },
      "source": [
        "plt.scatter(xtrain,ytrain,color = \"r\")\n",
        "plt.plot(xtrain,(m*xtrain+c),color = 'b')"
      ],
      "execution_count": null,
      "outputs": [
        {
          "output_type": "execute_result",
          "data": {
            "text/plain": [
              "[<matplotlib.lines.Line2D at 0x7f966c63eb38>]"
            ]
          },
          "metadata": {
            "tags": []
          },
          "execution_count": 32
        },
        {
          "output_type": "display_data",
          "data": {
            "image/png": "[encoded data removed]",
            "text/plain": [
              "<Figure size 432x288 with 1 Axes>"
            ]
          },
          "metadata": {
            "tags": [],
            "needs_background": "light"
          }
        }
      ]
    },
    {
      "cell_type": "markdown",
      "metadata": {
        "id": "_5IU4wQ3VBVK",
        "colab_type": "text"
      },
      "source": [
        "<h2>Plotting error values</h2>\n"
      ]
    },
    {
      "cell_type": "code",
      "metadata": {
        "id": "mDJpC91WVBVL",
        "colab_type": "code",
        "colab": {
          "base_uri": "https://localhost:8080/",
          "height": 296
        },
        "outputId": "533ee33d-c331-46e6-b71e-ded5511437c8"
      },
      "source": [
        "plt.plot(np.arange(len(error_values)), error_values)\n",
        "plt.ylabel('Error')\n",
        "plt.xlabel('Iterations')\n"
      ],
      "execution_count": null,
      "outputs": [
        {
          "output_type": "execute_result",
          "data": {
            "text/plain": [
              "Text(0.5, 0, 'Iterations')"
            ]
          },
          "metadata": {
            "tags": []
          },
          "execution_count": 33
        },
        {
          "output_type": "display_data",
          "data": {
            "image/png": "[encoded data removed]",
            "text/plain": [
              "<Figure size 432x288 with 1 Axes>"
            ]
          },
          "metadata": {
            "tags": [],
            "needs_background": "light"
          }
        }
      ]
    },
    {
      "cell_type": "markdown",
      "metadata": {
        "id": "iWbUCXVkVBVN",
        "colab_type": "text"
      },
      "source": [
        "# Prediction\n"
      ]
    },
    {
      "cell_type": "code",
      "metadata": {
        "id": "9oUHv58wVBVO",
        "colab_type": "code",
        "colab": {}
      },
      "source": [
        "#  Calculate the predictions on the test set as a vectorized operation\n",
        "predicted = (m * xtest) + c\n"
      ],
      "execution_count": null,
      "outputs": []
    },
    {
      "cell_type": "code",
      "metadata": {
        "id": "49t1mrmrVBVQ",
        "colab_type": "code",
        "colab": {
          "base_uri": "https://localhost:8080/",
          "height": 34
        },
        "outputId": "fc311888-7165-4edb-aacc-dc50516a9b25"
      },
      "source": [
        "# Compute MSE for the predicted valus on testing_set\n",
        "mean_squared_error(ytest, predicted)"
      ],
      "execution_count": null,
      "outputs": [
        {
          "output_type": "execute_result",
          "data": {
            "text/plain": [
              "0.01601048093116738"
            ]
          },
          "metadata": {
            "tags": []
          },
          "execution_count": 35
        }
      ]
    },
    {
      "cell_type": "markdown",
      "metadata": {
        "id": "vH2TS8PhVBVT",
        "colab_type": "raw"
      },
      "source": [
        "# Put xtest, ytest and predicted values into a single DataFrame so that we\n",
        "# can see the predicted values alongside testing set\n",
        "p = pd.DataFrame(list(zip(xtest, ytest, predicted)), columns = ['x', 'target_y', 'predictions'] )"
      ]
    },
    {
      "cell_type": "code",
      "metadata": {
        "id": "nLoOSa4ZVBVU",
        "colab_type": "code",
        "colab": {},
        "outputId": "e77f4706-571b-4245-d3e0-e26ac1c6b158"
      },
      "source": [
        "# Put xtest, ytest and predicted values into a single DataFrame so that we\n",
        "# can see the predicted values alongside testing set\n",
        "p = pd.DataFrame(list(zip(xtest, ytest, predicted)), columns = ['x', 'target_y', 'predicted_y'] )\n",
        "p.head()"
      ],
      "execution_count": null,
      "outputs": [
        {
          "output_type": "execute_result",
          "data": {
            "text/html": [
              "<div>\n",
              "<style scoped>\n",
              "    .dataframe tbody tr th:only-of-type {\n",
              "        vertical-align: middle;\n",
              "    }\n",
              "\n",
              "    .dataframe tbody tr th {\n",
              "        vertical-align: top;\n",
              "    }\n",
              "\n",
              "    .dataframe thead th {\n",
              "        text-align: right;\n",
              "    }\n",
              "</style>\n",
              "<table border=\"1\" class=\"dataframe\">\n",
              "  <thead>\n",
              "    <tr style=\"text-align: right;\">\n",
              "      <th></th>\n",
              "      <th>x</th>\n",
              "      <th>target_y</th>\n",
              "      <th>predicted_y</th>\n",
              "    </tr>\n",
              "  </thead>\n",
              "  <tbody>\n",
              "    <tr>\n",
              "      <th>0</th>\n",
              "      <td>0.323124</td>\n",
              "      <td>0.222222</td>\n",
              "      <td>0.368816</td>\n",
              "    </tr>\n",
              "    <tr>\n",
              "      <th>1</th>\n",
              "      <td>0.161976</td>\n",
              "      <td>0.557778</td>\n",
              "      <td>0.488818</td>\n",
              "    </tr>\n",
              "    <tr>\n",
              "      <th>2</th>\n",
              "      <td>0.178532</td>\n",
              "      <td>0.377778</td>\n",
              "      <td>0.476489</td>\n",
              "    </tr>\n",
              "    <tr>\n",
              "      <th>3</th>\n",
              "      <td>0.220199</td>\n",
              "      <td>0.482222</td>\n",
              "      <td>0.445461</td>\n",
              "    </tr>\n",
              "    <tr>\n",
              "      <th>4</th>\n",
              "      <td>0.174393</td>\n",
              "      <td>0.293333</td>\n",
              "      <td>0.479571</td>\n",
              "    </tr>\n",
              "  </tbody>\n",
              "</table>\n",
              "</div>"
            ],
            "text/plain": [
              "          x  target_y  predicted_y\n",
              "0  0.323124  0.222222     0.368816\n",
              "1  0.161976  0.557778     0.488818\n",
              "2  0.178532  0.377778     0.476489\n",
              "3  0.220199  0.482222     0.445461\n",
              "4  0.174393  0.293333     0.479571"
            ]
          },
          "metadata": {
            "tags": []
          },
          "execution_count": 110
        }
      ]
    },
    {
      "cell_type": "code",
      "metadata": {
        "id": "BTYyXQpfVBVW",
        "colab_type": "code",
        "colab": {},
        "outputId": "acd758a9-fdb6-4cfb-950c-3ac43dfcea0c"
      },
      "source": [
        "plt.scatter(xtest, ytest, color = 'r')\n",
        "plt.plot(xtest,predicted,color = 'g')"
      ],
      "execution_count": null,
      "outputs": [
        {
          "output_type": "execute_result",
          "data": {
            "text/plain": [
              "[<matplotlib.lines.Line2D at 0x2466881d358>]"
            ]
          },
          "metadata": {
            "tags": []
          },
          "execution_count": 111
        },
        {
          "output_type": "display_data",
          "data": {
            "image/png": "[encoded data removed]",
            "text/plain": [
              "<Figure size 432x288 with 1 Axes>"
            ]
          },
          "metadata": {
            "tags": [],
            "needs_background": "light"
          }
        }
      ]
    },
    {
      "cell_type": "code",
      "metadata": {
        "id": "QcwKxe1JVBVZ",
        "colab_type": "code",
        "colab": {},
        "outputId": "c999993f-cab5-44b8-e62f-6e8a0dfa593d"
      },
      "source": [
        "predicted = predicted.reshape(-1, 1)\n",
        "xtest = xtest.reshape(-1, 1)\n",
        "ytest = ytest.reshape(-1, 1)\n",
        "xtest_scaled = x_scaler.inverse_transform(xtest)\n",
        "ytest_scaled = y_scaler.inverse_transform(ytest)\n",
        "predicted_scaled = y_scaler.inverse_transform(predicted)\n",
        "p = pd.DataFrame(list(zip(xtest_scaled, ytest_scaled, predicted_scaled)),\n",
        "                 columns = ['x', 'target_y', 'predicted_y'])\n",
        "p = p.round(decimals = 2)\n",
        "p.head()"
      ],
      "execution_count": null,
      "outputs": [
        {
          "output_type": "execute_result",
          "data": {
            "text/html": [
              "<div>\n",
              "<style scoped>\n",
              "    .dataframe tbody tr th:only-of-type {\n",
              "        vertical-align: middle;\n",
              "    }\n",
              "\n",
              "    .dataframe tbody tr th {\n",
              "        vertical-align: top;\n",
              "    }\n",
              "\n",
              "    .dataframe thead th {\n",
              "        text-align: right;\n",
              "    }\n",
              "</style>\n",
              "<table border=\"1\" class=\"dataframe\">\n",
              "  <thead>\n",
              "    <tr style=\"text-align: right;\">\n",
              "      <th></th>\n",
              "      <th>x</th>\n",
              "      <th>target_y</th>\n",
              "      <th>predicted_y</th>\n",
              "    </tr>\n",
              "  </thead>\n",
              "  <tbody>\n",
              "    <tr>\n",
              "      <th>0</th>\n",
              "      <td>[13.44]</td>\n",
              "      <td>[15.000000000000002]</td>\n",
              "      <td>[21.59672291764394]</td>\n",
              "    </tr>\n",
              "    <tr>\n",
              "      <th>1</th>\n",
              "      <td>[7.6]</td>\n",
              "      <td>[30.1]</td>\n",
              "      <td>[26.996811080953233]</td>\n",
              "    </tr>\n",
              "    <tr>\n",
              "      <th>2</th>\n",
              "      <td>[8.2]</td>\n",
              "      <td>[22.0]</td>\n",
              "      <td>[26.442007502531045]</td>\n",
              "    </tr>\n",
              "    <tr>\n",
              "      <th>3</th>\n",
              "      <td>[9.71]</td>\n",
              "      <td>[26.7]</td>\n",
              "      <td>[25.04575183016854]</td>\n",
              "    </tr>\n",
              "    <tr>\n",
              "      <th>4</th>\n",
              "      <td>[8.05]</td>\n",
              "      <td>[18.2]</td>\n",
              "      <td>[26.580708397136593]</td>\n",
              "    </tr>\n",
              "  </tbody>\n",
              "</table>\n",
              "</div>"
            ],
            "text/plain": [
              "         x              target_y           predicted_y\n",
              "0  [13.44]  [15.000000000000002]   [21.59672291764394]\n",
              "1    [7.6]                [30.1]  [26.996811080953233]\n",
              "2    [8.2]                [22.0]  [26.442007502531045]\n",
              "3   [9.71]                [26.7]   [25.04575183016854]\n",
              "4   [8.05]                [18.2]  [26.580708397136593]"
            ]
          },
          "metadata": {
            "tags": []
          },
          "execution_count": 112
        }
      ]
    },
    {
      "cell_type": "markdown",
      "metadata": {
        "id": "G4MgogOOVBVd",
        "colab_type": "text"
      },
      "source": [
        "<h1>Plot the predicted values against the Target values</h1>\n",
        "\n",
        "<h2>1. Predicted values are represented by red colored line.</h2>\n",
        "<h2>2.Target values are represenetd by blue colored points</h2>\n"
      ]
    },
    {
      "cell_type": "code",
      "metadata": {
        "id": "rc7YbsdeVBVd",
        "colab_type": "code",
        "colab": {},
        "outputId": "01602ca1-d1e0-459b-b03b-c5734cdf2266"
      },
      "source": [
        "plt.scatter(xtest, ytest, color = 'b')\n",
        "plt.plot(xtest, predicted, color = 'r')"
      ],
      "execution_count": null,
      "outputs": [
        {
          "output_type": "execute_result",
          "data": {
            "text/plain": [
              "[<matplotlib.lines.Line2D at 0x24668824828>]"
            ]
          },
          "metadata": {
            "tags": []
          },
          "execution_count": 113
        },
        {
          "output_type": "display_data",
          "data": {
            "image/png": "[encoded data removed]",
            "text/plain": [
              "<Figure size 432x288 with 1 Axes>"
            ]
          },
          "metadata": {
            "tags": [],
            "needs_background": "light"
          }
        }
      ]
    },
    {
      "cell_type": "markdown",
      "metadata": {
        "id": "KY_OQ63CVBVg",
        "colab_type": "text"
      },
      "source": [
        "<h2>Reverting normalization to obtain the predicted price of the houses in $1000s</h2>"
      ]
    },
    {
      "cell_type": "code",
      "metadata": {
        "id": "tVvpJx-0VBVh",
        "colab_type": "code",
        "colab": {},
        "outputId": "cc03832e-ad79-41d5-8311-870f7d2ae4ca"
      },
      "source": [
        "# Reshape to change the shape to the shape that is required by the scaler\n",
        "predicted = predicted.reshape(-1, 1)\n",
        "xtest = xtest.reshape(-1, 1)\n",
        "ytest = ytest.reshape(-1, 1)\n",
        "xtest_scaled = x_scaler.inverse_transform(xtest)\n",
        "ytest_scaled = y_scaler.inverse_transform(ytest)\n",
        "\n",
        "predicted_scaled = y_scaler.inverse_transform(predicted)\n",
        "\n",
        "# This is to remove the extra dimensions\n",
        "xtest_scaled = xtest_scaled[:, -1]\n",
        "ytest_scaled = ytest_scaled[:, -1]\n",
        "predicted_scaled = predicted[:, -1]\n",
        "\n",
        "p = pd.DataFrame(list(zip(xtest_scaled, ytest_scaled, predicted_scaled)), columns = ['x', 'target_y', 'predicted_y'])\n",
        "p = p.round(decimals = 2)\n",
        "p.head()\n"
      ],
      "execution_count": null,
      "outputs": [
        {
          "output_type": "execute_result",
          "data": {
            "text/html": [
              "<div>\n",
              "<style scoped>\n",
              "    .dataframe tbody tr th:only-of-type {\n",
              "        vertical-align: middle;\n",
              "    }\n",
              "\n",
              "    .dataframe tbody tr th {\n",
              "        vertical-align: top;\n",
              "    }\n",
              "\n",
              "    .dataframe thead th {\n",
              "        text-align: right;\n",
              "    }\n",
              "</style>\n",
              "<table border=\"1\" class=\"dataframe\">\n",
              "  <thead>\n",
              "    <tr style=\"text-align: right;\">\n",
              "      <th></th>\n",
              "      <th>x</th>\n",
              "      <th>target_y</th>\n",
              "      <th>predicted_y</th>\n",
              "    </tr>\n",
              "  </thead>\n",
              "  <tbody>\n",
              "    <tr>\n",
              "      <th>0</th>\n",
              "      <td>13.44</td>\n",
              "      <td>15.0</td>\n",
              "      <td>0.37</td>\n",
              "    </tr>\n",
              "    <tr>\n",
              "      <th>1</th>\n",
              "      <td>7.60</td>\n",
              "      <td>30.1</td>\n",
              "      <td>0.49</td>\n",
              "    </tr>\n",
              "    <tr>\n",
              "      <th>2</th>\n",
              "      <td>8.20</td>\n",
              "      <td>22.0</td>\n",
              "      <td>0.48</td>\n",
              "    </tr>\n",
              "    <tr>\n",
              "      <th>3</th>\n",
              "      <td>9.71</td>\n",
              "      <td>26.7</td>\n",
              "      <td>0.45</td>\n",
              "    </tr>\n",
              "    <tr>\n",
              "      <th>4</th>\n",
              "      <td>8.05</td>\n",
              "      <td>18.2</td>\n",
              "      <td>0.48</td>\n",
              "    </tr>\n",
              "  </tbody>\n",
              "</table>\n",
              "</div>"
            ],
            "text/plain": [
              "       x  target_y  predicted_y\n",
              "0  13.44      15.0         0.37\n",
              "1   7.60      30.1         0.49\n",
              "2   8.20      22.0         0.48\n",
              "3   9.71      26.7         0.45\n",
              "4   8.05      18.2         0.48"
            ]
          },
          "metadata": {
            "tags": []
          },
          "execution_count": 114
        }
      ]
    },
    {
      "cell_type": "code",
      "metadata": {
        "id": "OU_nvDhGVBVj",
        "colab_type": "code",
        "colab": {}
      },
      "source": [
        ""
      ],
      "execution_count": null,
      "outputs": []
    }
  ]
}